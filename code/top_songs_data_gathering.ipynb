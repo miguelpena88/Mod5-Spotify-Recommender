{
 "cells": [
  {
   "cell_type": "code",
   "execution_count": 1,
   "metadata": {},
   "outputs": [],
   "source": [
    "import sys\n",
    "import spotipy\n",
    "import spotipy.util as util\n",
    "\n",
    "import re\n",
    "import pandas as pd\n",
    "import numpy as np"
   ]
  },
  {
   "cell_type": "code",
   "execution_count": 2,
   "metadata": {},
   "outputs": [],
   "source": [
    "import config"
   ]
  },
  {
   "cell_type": "code",
   "execution_count": 3,
   "metadata": {},
   "outputs": [],
   "source": [
    "import requests\n",
    "import warnings\n",
    "import time"
   ]
  },
  {
   "cell_type": "markdown",
   "metadata": {},
   "source": [
    "# Spotify API Authorization"
   ]
  },
  {
   "cell_type": "markdown",
   "metadata": {},
   "source": [
    "## Loading in Cliet info"
   ]
  },
  {
   "cell_type": "code",
   "execution_count": 4,
   "metadata": {},
   "outputs": [],
   "source": [
    "#loading in client id and secret provided by Spotify\n",
    "client_id=config.client_id\n",
    "client_secret=config.client_secret\n",
    "\n",
    "#set my redirect url to google\n",
    "redirect_uri=\"https://google.com/\"\n",
    "\n",
    "username=config.username\n",
    "\n"
   ]
  },
  {
   "cell_type": "code",
   "execution_count": 5,
   "metadata": {},
   "outputs": [],
   "source": [
    "scope = 'user-library-read'"
   ]
  },
  {
   "cell_type": "code",
   "execution_count": 6,
   "metadata": {},
   "outputs": [],
   "source": [
    "token = util.prompt_for_user_token(username,scope,client_id,client_secret,redirect_uri)"
   ]
  },
  {
   "cell_type": "markdown",
   "metadata": {},
   "source": [
    "## Authenticating Method"
   ]
  },
  {
   "cell_type": "code",
   "execution_count": 7,
   "metadata": {},
   "outputs": [],
   "source": [
    "sp = spotipy.Spotify(auth=token)"
   ]
  },
  {
   "cell_type": "code",
   "execution_count": 8,
   "metadata": {},
   "outputs": [
    {
     "data": {
      "text/plain": [
       "'BQB-aanfAsBdDGDJvAlGu0spuMS0o0BpRk5LaFY52jh4bHgWlBWQ23WoKT25POLsIWcCHivdjF63LRNLrFmnHNDAzU62YFUnd5sWHwL1pWEaSiBPvC8hAwJw_Q-ssXaQT2b9UOvN-qPGQ2N0J-o_Frzv3Q'"
      ]
     },
     "execution_count": 8,
     "metadata": {},
     "output_type": "execute_result"
    }
   ],
   "source": [
    "token"
   ]
  },
  {
   "cell_type": "code",
   "execution_count": null,
   "metadata": {},
   "outputs": [],
   "source": []
  },
  {
   "cell_type": "markdown",
   "metadata": {},
   "source": [
    "# Gathering top 10k songs by Year"
   ]
  },
  {
   "cell_type": "code",
   "execution_count": 150,
   "metadata": {},
   "outputs": [],
   "source": [
    "# timeit library to measure the time needed to run this code\n",
    "import timeit"
   ]
  },
  {
   "cell_type": "markdown",
   "metadata": {},
   "source": [
    "## 2019"
   ]
  },
  {
   "cell_type": "code",
   "execution_count": 156,
   "metadata": {},
   "outputs": [
    {
     "name": "stdout",
     "output_type": "stream",
     "text": [
      "Time to run this code (in seconds): 146.08357431699915\n"
     ]
    }
   ],
   "source": [
    "start = timeit.default_timer()\n",
    "\n",
    "# create empty lists where the results are going to be stored\n",
    "artist_name = []\n",
    "track_name = []\n",
    "popularity = []\n",
    "track_id = []\n",
    "\n",
    "for i in range(0,10000,50):\n",
    "    track_results = sp.search(q='year:2019', type='track', limit=50,offset=i)\n",
    "    for i, t in enumerate(track_results['tracks']['items']):\n",
    "        artist_name.append(t['artists'][0]['name'])\n",
    "        track_name.append(t['name'])\n",
    "        track_id.append(t['id'])\n",
    "        popularity.append(t['popularity'])\n",
    "      \n",
    "\n",
    "stop = timeit.default_timer()\n",
    "print ('Time to run this code (in seconds):', stop - start)"
   ]
  },
  {
   "cell_type": "code",
   "execution_count": 157,
   "metadata": {},
   "outputs": [
    {
     "data": {
      "text/plain": [
       "10000"
      ]
     },
     "execution_count": 157,
     "metadata": {},
     "output_type": "execute_result"
    }
   ],
   "source": [
    "len(artist_name)"
   ]
  },
  {
   "cell_type": "code",
   "execution_count": 159,
   "metadata": {
    "scrolled": true
   },
   "outputs": [
    {
     "name": "stdout",
     "output_type": "stream",
     "text": [
      "(10000, 4)\n"
     ]
    },
    {
     "data": {
      "text/html": [
       "<div>\n",
       "<style scoped>\n",
       "    .dataframe tbody tr th:only-of-type {\n",
       "        vertical-align: middle;\n",
       "    }\n",
       "\n",
       "    .dataframe tbody tr th {\n",
       "        vertical-align: top;\n",
       "    }\n",
       "\n",
       "    .dataframe thead th {\n",
       "        text-align: right;\n",
       "    }\n",
       "</style>\n",
       "<table border=\"1\" class=\"dataframe\">\n",
       "  <thead>\n",
       "    <tr style=\"text-align: right;\">\n",
       "      <th></th>\n",
       "      <th>artist_name</th>\n",
       "      <th>track_name</th>\n",
       "      <th>track_id</th>\n",
       "      <th>popularity</th>\n",
       "    </tr>\n",
       "  </thead>\n",
       "  <tbody>\n",
       "    <tr>\n",
       "      <th>0</th>\n",
       "      <td>Billie Eilish</td>\n",
       "      <td>bad guy</td>\n",
       "      <td>2Fxmhks0bxGSBdJ92vM42m</td>\n",
       "      <td>100</td>\n",
       "    </tr>\n",
       "    <tr>\n",
       "      <th>1</th>\n",
       "      <td>Lil Nas X</td>\n",
       "      <td>Old Town Road - Remix</td>\n",
       "      <td>6u7jPi22kF8CTQ3rb9DHE7</td>\n",
       "      <td>98</td>\n",
       "    </tr>\n",
       "    <tr>\n",
       "      <th>2</th>\n",
       "      <td>Ed Sheeran</td>\n",
       "      <td>I Don't Care (with Justin Bieber)</td>\n",
       "      <td>3HVWdVOQ0ZA45FuZGSfvns</td>\n",
       "      <td>99</td>\n",
       "    </tr>\n",
       "    <tr>\n",
       "      <th>3</th>\n",
       "      <td>DaBaby</td>\n",
       "      <td>Suge</td>\n",
       "      <td>2gwkD6igEhQbDQegRCcdoB</td>\n",
       "      <td>90</td>\n",
       "    </tr>\n",
       "    <tr>\n",
       "      <th>4</th>\n",
       "      <td>Tyler, The Creator</td>\n",
       "      <td>EARFQUAKE</td>\n",
       "      <td>5hVghJ4KaYES3BFUATCYn0</td>\n",
       "      <td>92</td>\n",
       "    </tr>\n",
       "  </tbody>\n",
       "</table>\n",
       "</div>"
      ],
      "text/plain": [
       "          artist_name                         track_name  \\\n",
       "0       Billie Eilish                            bad guy   \n",
       "1           Lil Nas X              Old Town Road - Remix   \n",
       "2          Ed Sheeran  I Don't Care (with Justin Bieber)   \n",
       "3              DaBaby                               Suge   \n",
       "4  Tyler, The Creator                          EARFQUAKE   \n",
       "\n",
       "                 track_id  popularity  \n",
       "0  2Fxmhks0bxGSBdJ92vM42m         100  \n",
       "1  6u7jPi22kF8CTQ3rb9DHE7          98  \n",
       "2  3HVWdVOQ0ZA45FuZGSfvns          99  \n",
       "3  2gwkD6igEhQbDQegRCcdoB          90  \n",
       "4  5hVghJ4KaYES3BFUATCYn0          92  "
      ]
     },
     "execution_count": 159,
     "metadata": {},
     "output_type": "execute_result"
    }
   ],
   "source": [
    "df_top2019tracks = pd.DataFrame({'artist_name':artist_name,\n",
    "                              'track_name':track_name,\n",
    "                              'track_id':track_id,\n",
    "                              'popularity':popularity})\n",
    "print(df_top2019tracks.shape)\n",
    "df_top2019tracks.head()"
   ]
  },
  {
   "cell_type": "code",
   "execution_count": 229,
   "metadata": {},
   "outputs": [
    {
     "data": {
      "text/plain": [
       "2076"
      ]
     },
     "execution_count": 229,
     "metadata": {},
     "output_type": "execute_result"
    }
   ],
   "source": [
    "# group the entries by artist_name and track_name and check for duplicates\n",
    "grouped = df_top2019tracks.groupby(['artist_name','track_name'], as_index=True).size()\n",
    "grouped[grouped > 1].count()"
   ]
  },
  {
   "cell_type": "code",
   "execution_count": 249,
   "metadata": {},
   "outputs": [],
   "source": [
    "#dropping duplicates\n",
    "df_top2019tracks.drop_duplicates(subset=['artist_name','track_name'], inplace=True)"
   ]
  },
  {
   "cell_type": "code",
   "execution_count": 250,
   "metadata": {},
   "outputs": [
    {
     "data": {
      "text/plain": [
       "0"
      ]
     },
     "execution_count": 250,
     "metadata": {},
     "output_type": "execute_result"
    }
   ],
   "source": [
    "# doing the same grouping as before to verify the solution\n",
    "grouped_after_dropping = df_top2019tracks.groupby(['artist_name','track_name'], as_index=True).size()\n",
    "grouped_after_dropping[grouped_after_dropping > 1].count()"
   ]
  },
  {
   "cell_type": "code",
   "execution_count": 251,
   "metadata": {},
   "outputs": [
    {
     "data": {
      "text/plain": [
       "(7468, 4)"
      ]
     },
     "execution_count": 251,
     "metadata": {},
     "output_type": "execute_result"
    }
   ],
   "source": [
    "df_top2019tracks.shape"
   ]
  },
  {
   "cell_type": "markdown",
   "metadata": {},
   "source": [
    "## 2018"
   ]
  },
  {
   "cell_type": "code",
   "execution_count": 160,
   "metadata": {},
   "outputs": [
    {
     "name": "stdout",
     "output_type": "stream",
     "text": [
      "Time to run this code (in seconds): 162.754268185\n"
     ]
    }
   ],
   "source": [
    "start = timeit.default_timer()\n",
    "\n",
    "# create empty lists where the results are going to be stored\n",
    "artist_name = []\n",
    "track_name = []\n",
    "popularity = []\n",
    "track_id = []\n",
    "\n",
    "for i in range(0,10000,50):\n",
    "    track_results = sp.search(q='year:2018', type='track', limit=50,offset=i)\n",
    "    for i, t in enumerate(track_results['tracks']['items']):\n",
    "        artist_name.append(t['artists'][0]['name'])\n",
    "        track_name.append(t['name'])\n",
    "        track_id.append(t['id'])\n",
    "        popularity.append(t['popularity'])\n",
    "      \n",
    "\n",
    "stop = timeit.default_timer()\n",
    "print ('Time to run this code (in seconds):', stop - start)"
   ]
  },
  {
   "cell_type": "code",
   "execution_count": 161,
   "metadata": {},
   "outputs": [
    {
     "data": {
      "text/plain": [
       "10000"
      ]
     },
     "execution_count": 161,
     "metadata": {},
     "output_type": "execute_result"
    }
   ],
   "source": [
    "len(artist_name)"
   ]
  },
  {
   "cell_type": "code",
   "execution_count": 162,
   "metadata": {
    "scrolled": true
   },
   "outputs": [
    {
     "name": "stdout",
     "output_type": "stream",
     "text": [
      "(10000, 4)\n"
     ]
    },
    {
     "data": {
      "text/html": [
       "<div>\n",
       "<style scoped>\n",
       "    .dataframe tbody tr th:only-of-type {\n",
       "        vertical-align: middle;\n",
       "    }\n",
       "\n",
       "    .dataframe tbody tr th {\n",
       "        vertical-align: top;\n",
       "    }\n",
       "\n",
       "    .dataframe thead th {\n",
       "        text-align: right;\n",
       "    }\n",
       "</style>\n",
       "<table border=\"1\" class=\"dataframe\">\n",
       "  <thead>\n",
       "    <tr style=\"text-align: right;\">\n",
       "      <th></th>\n",
       "      <th>artist_name</th>\n",
       "      <th>track_name</th>\n",
       "      <th>track_id</th>\n",
       "      <th>popularity</th>\n",
       "    </tr>\n",
       "  </thead>\n",
       "  <tbody>\n",
       "    <tr>\n",
       "      <th>0</th>\n",
       "      <td>Post Malone</td>\n",
       "      <td>Sunflower - Spider-Man: Into the Spider-Verse</td>\n",
       "      <td>3KkXRkHbMCARz0aVfEt68P</td>\n",
       "      <td>94</td>\n",
       "    </tr>\n",
       "    <tr>\n",
       "      <th>1</th>\n",
       "      <td>Post Malone</td>\n",
       "      <td>Wow.</td>\n",
       "      <td>6MWtB6iiXyIwun0YzU6DFP</td>\n",
       "      <td>92</td>\n",
       "    </tr>\n",
       "    <tr>\n",
       "      <th>2</th>\n",
       "      <td>A Boogie Wit da Hoodie</td>\n",
       "      <td>Swervin (feat. 6ix9ine)</td>\n",
       "      <td>1wJRveJZLSb1rjhnUHQiv6</td>\n",
       "      <td>90</td>\n",
       "    </tr>\n",
       "    <tr>\n",
       "      <th>3</th>\n",
       "      <td>Meek Mill</td>\n",
       "      <td>Going Bad (feat. Drake)</td>\n",
       "      <td>2IRZnDFmlqMuOrYOLnZZyc</td>\n",
       "      <td>88</td>\n",
       "    </tr>\n",
       "    <tr>\n",
       "      <th>4</th>\n",
       "      <td>YNW Melly</td>\n",
       "      <td>Murder On My Mind</td>\n",
       "      <td>7eBqSVxrzQZtK2mmgRG6lC</td>\n",
       "      <td>88</td>\n",
       "    </tr>\n",
       "  </tbody>\n",
       "</table>\n",
       "</div>"
      ],
      "text/plain": [
       "              artist_name                                     track_name  \\\n",
       "0             Post Malone  Sunflower - Spider-Man: Into the Spider-Verse   \n",
       "1             Post Malone                                           Wow.   \n",
       "2  A Boogie Wit da Hoodie                        Swervin (feat. 6ix9ine)   \n",
       "3               Meek Mill                        Going Bad (feat. Drake)   \n",
       "4               YNW Melly                              Murder On My Mind   \n",
       "\n",
       "                 track_id  popularity  \n",
       "0  3KkXRkHbMCARz0aVfEt68P          94  \n",
       "1  6MWtB6iiXyIwun0YzU6DFP          92  \n",
       "2  1wJRveJZLSb1rjhnUHQiv6          90  \n",
       "3  2IRZnDFmlqMuOrYOLnZZyc          88  \n",
       "4  7eBqSVxrzQZtK2mmgRG6lC          88  "
      ]
     },
     "execution_count": 162,
     "metadata": {},
     "output_type": "execute_result"
    }
   ],
   "source": [
    "df_top2018tracks = pd.DataFrame({'artist_name':artist_name,\n",
    "                              'track_name':track_name,\n",
    "                              'track_id':track_id,\n",
    "                              'popularity':popularity})\n",
    "print(df_top2018tracks.shape)\n",
    "df_top2018tracks.head()"
   ]
  },
  {
   "cell_type": "code",
   "execution_count": 230,
   "metadata": {},
   "outputs": [
    {
     "data": {
      "text/plain": [
       "1854"
      ]
     },
     "execution_count": 230,
     "metadata": {},
     "output_type": "execute_result"
    }
   ],
   "source": [
    "# group the entries by artist_name and track_name and check for duplicates\n",
    "grouped = df_top2018tracks.groupby(['artist_name','track_name'], as_index=True).size()\n",
    "grouped[grouped > 1].count()"
   ]
  },
  {
   "cell_type": "code",
   "execution_count": 252,
   "metadata": {},
   "outputs": [],
   "source": [
    "#dropping duplicates\n",
    "df_top2018tracks.drop_duplicates(subset=['artist_name','track_name'], inplace=True)"
   ]
  },
  {
   "cell_type": "code",
   "execution_count": 253,
   "metadata": {},
   "outputs": [
    {
     "data": {
      "text/plain": [
       "0"
      ]
     },
     "execution_count": 253,
     "metadata": {},
     "output_type": "execute_result"
    }
   ],
   "source": [
    "# doing the same grouping as before to verify the solution\n",
    "grouped_after_dropping = df_top2018tracks.groupby(['artist_name','track_name'], as_index=True).size()\n",
    "grouped_after_dropping[grouped_after_dropping > 1].count()"
   ]
  },
  {
   "cell_type": "code",
   "execution_count": 292,
   "metadata": {},
   "outputs": [
    {
     "data": {
      "text/plain": [
       "(7673, 4)"
      ]
     },
     "execution_count": 292,
     "metadata": {},
     "output_type": "execute_result"
    }
   ],
   "source": [
    "df_top2018tracks.shape"
   ]
  },
  {
   "cell_type": "markdown",
   "metadata": {},
   "source": [
    "## 2017"
   ]
  },
  {
   "cell_type": "code",
   "execution_count": 163,
   "metadata": {},
   "outputs": [
    {
     "name": "stdout",
     "output_type": "stream",
     "text": [
      "Time to run this code (in seconds): 157.08111427999938\n"
     ]
    }
   ],
   "source": [
    "start = timeit.default_timer()\n",
    "\n",
    "# create empty lists where the results are going to be stored\n",
    "artist_name = []\n",
    "track_name = []\n",
    "popularity = []\n",
    "track_id = []\n",
    "\n",
    "for i in range(0,10000,50):\n",
    "    track_results = sp.search(q='year:2017', type='track', limit=50,offset=i)\n",
    "    for i, t in enumerate(track_results['tracks']['items']):\n",
    "        artist_name.append(t['artists'][0]['name'])\n",
    "        track_name.append(t['name'])\n",
    "        track_id.append(t['id'])\n",
    "        popularity.append(t['popularity'])\n",
    "      \n",
    "\n",
    "stop = timeit.default_timer()\n",
    "print ('Time to run this code (in seconds):', stop - start)"
   ]
  },
  {
   "cell_type": "code",
   "execution_count": 164,
   "metadata": {},
   "outputs": [
    {
     "data": {
      "text/plain": [
       "10000"
      ]
     },
     "execution_count": 164,
     "metadata": {},
     "output_type": "execute_result"
    }
   ],
   "source": [
    "len(artist_name)"
   ]
  },
  {
   "cell_type": "code",
   "execution_count": 165,
   "metadata": {},
   "outputs": [
    {
     "name": "stdout",
     "output_type": "stream",
     "text": [
      "(10000, 4)\n"
     ]
    },
    {
     "data": {
      "text/html": [
       "<div>\n",
       "<style scoped>\n",
       "    .dataframe tbody tr th:only-of-type {\n",
       "        vertical-align: middle;\n",
       "    }\n",
       "\n",
       "    .dataframe tbody tr th {\n",
       "        vertical-align: top;\n",
       "    }\n",
       "\n",
       "    .dataframe thead th {\n",
       "        text-align: right;\n",
       "    }\n",
       "</style>\n",
       "<table border=\"1\" class=\"dataframe\">\n",
       "  <thead>\n",
       "    <tr style=\"text-align: right;\">\n",
       "      <th></th>\n",
       "      <th>artist_name</th>\n",
       "      <th>track_name</th>\n",
       "      <th>track_id</th>\n",
       "      <th>popularity</th>\n",
       "    </tr>\n",
       "  </thead>\n",
       "  <tbody>\n",
       "    <tr>\n",
       "      <th>0</th>\n",
       "      <td>XXXTENTACION</td>\n",
       "      <td>Jocelyn Flores</td>\n",
       "      <td>7m9OqQk4RVRkw9JJdeAw96</td>\n",
       "      <td>86</td>\n",
       "    </tr>\n",
       "    <tr>\n",
       "      <th>1</th>\n",
       "      <td>Billie Eilish</td>\n",
       "      <td>idontwannabeyouanymore</td>\n",
       "      <td>41zXlQxzTi6cGAjpOXyLYH</td>\n",
       "      <td>85</td>\n",
       "    </tr>\n",
       "    <tr>\n",
       "      <th>2</th>\n",
       "      <td>Offset</td>\n",
       "      <td>Ric Flair Drip (&amp; Metro Boomin)</td>\n",
       "      <td>7sO5G9EABYOXQKNPNiE9NR</td>\n",
       "      <td>83</td>\n",
       "    </tr>\n",
       "    <tr>\n",
       "      <th>3</th>\n",
       "      <td>XXXTENTACION</td>\n",
       "      <td>Fuck Love (feat. Trippie Redd)</td>\n",
       "      <td>7AQim7LbvFVZJE3O8TYgf2</td>\n",
       "      <td>83</td>\n",
       "    </tr>\n",
       "    <tr>\n",
       "      <th>4</th>\n",
       "      <td>Khalid</td>\n",
       "      <td>Young Dumb &amp; Broke</td>\n",
       "      <td>5Z3GHaZ6ec9bsiI5BenrbY</td>\n",
       "      <td>83</td>\n",
       "    </tr>\n",
       "  </tbody>\n",
       "</table>\n",
       "</div>"
      ],
      "text/plain": [
       "     artist_name                       track_name                track_id  \\\n",
       "0   XXXTENTACION                   Jocelyn Flores  7m9OqQk4RVRkw9JJdeAw96   \n",
       "1  Billie Eilish           idontwannabeyouanymore  41zXlQxzTi6cGAjpOXyLYH   \n",
       "2         Offset  Ric Flair Drip (& Metro Boomin)  7sO5G9EABYOXQKNPNiE9NR   \n",
       "3   XXXTENTACION   Fuck Love (feat. Trippie Redd)  7AQim7LbvFVZJE3O8TYgf2   \n",
       "4         Khalid               Young Dumb & Broke  5Z3GHaZ6ec9bsiI5BenrbY   \n",
       "\n",
       "   popularity  \n",
       "0          86  \n",
       "1          85  \n",
       "2          83  \n",
       "3          83  \n",
       "4          83  "
      ]
     },
     "execution_count": 165,
     "metadata": {},
     "output_type": "execute_result"
    }
   ],
   "source": [
    "df_top2017tracks = pd.DataFrame({'artist_name':artist_name,\n",
    "                              'track_name':track_name,\n",
    "                              'track_id':track_id,\n",
    "                              'popularity':popularity})\n",
    "print(df_top2017tracks.shape)\n",
    "df_top2017tracks.head()"
   ]
  },
  {
   "cell_type": "code",
   "execution_count": 231,
   "metadata": {},
   "outputs": [
    {
     "data": {
      "text/plain": [
       "1914"
      ]
     },
     "execution_count": 231,
     "metadata": {},
     "output_type": "execute_result"
    }
   ],
   "source": [
    "grouped = df_top2017tracks.groupby(['artist_name','track_name'], as_index=True).size()\n",
    "grouped[grouped > 1].count()"
   ]
  },
  {
   "cell_type": "code",
   "execution_count": 254,
   "metadata": {},
   "outputs": [],
   "source": [
    "#dropping duplicates\n",
    "df_top2017tracks.drop_duplicates(subset=['artist_name','track_name'], inplace=True)"
   ]
  },
  {
   "cell_type": "code",
   "execution_count": 255,
   "metadata": {},
   "outputs": [
    {
     "data": {
      "text/plain": [
       "0"
      ]
     },
     "execution_count": 255,
     "metadata": {},
     "output_type": "execute_result"
    }
   ],
   "source": [
    "# doing the same grouping as before to verify the solution\n",
    "grouped_after_dropping = df_top2017tracks.groupby(['artist_name','track_name'], as_index=True).size()\n",
    "grouped_after_dropping[grouped_after_dropping > 1].count()"
   ]
  },
  {
   "cell_type": "code",
   "execution_count": 293,
   "metadata": {},
   "outputs": [
    {
     "data": {
      "text/plain": [
       "(7620, 4)"
      ]
     },
     "execution_count": 293,
     "metadata": {},
     "output_type": "execute_result"
    }
   ],
   "source": [
    "df_top2017tracks.shape"
   ]
  },
  {
   "cell_type": "markdown",
   "metadata": {},
   "source": [
    "## 2016"
   ]
  },
  {
   "cell_type": "code",
   "execution_count": 172,
   "metadata": {},
   "outputs": [
    {
     "name": "stdout",
     "output_type": "stream",
     "text": [
      "Time to run this code (in seconds): 149.67507480200038\n"
     ]
    }
   ],
   "source": [
    "start = timeit.default_timer()\n",
    "\n",
    "# create empty lists where the results are going to be stored\n",
    "artist_name = []\n",
    "track_name = []\n",
    "popularity = []\n",
    "track_id = []\n",
    "\n",
    "for i in range(0,10000,50):\n",
    "    track_results = sp.search(q='year:2016', type='track', limit=50,offset=i)\n",
    "    for i, t in enumerate(track_results['tracks']['items']):\n",
    "        artist_name.append(t['artists'][0]['name'])\n",
    "        track_name.append(t['name'])\n",
    "        track_id.append(t['id'])\n",
    "        popularity.append(t['popularity'])\n",
    "      \n",
    "\n",
    "stop = timeit.default_timer()\n",
    "print ('Time to run this code (in seconds):', stop - start)"
   ]
  },
  {
   "cell_type": "code",
   "execution_count": 173,
   "metadata": {},
   "outputs": [
    {
     "data": {
      "text/plain": [
       "10000"
      ]
     },
     "execution_count": 173,
     "metadata": {},
     "output_type": "execute_result"
    }
   ],
   "source": [
    "len(artist_name)"
   ]
  },
  {
   "cell_type": "code",
   "execution_count": 174,
   "metadata": {},
   "outputs": [
    {
     "name": "stdout",
     "output_type": "stream",
     "text": [
      "(10000, 4)\n"
     ]
    },
    {
     "data": {
      "text/html": [
       "<div>\n",
       "<style scoped>\n",
       "    .dataframe tbody tr th:only-of-type {\n",
       "        vertical-align: middle;\n",
       "    }\n",
       "\n",
       "    .dataframe tbody tr th {\n",
       "        vertical-align: top;\n",
       "    }\n",
       "\n",
       "    .dataframe thead th {\n",
       "        text-align: right;\n",
       "    }\n",
       "</style>\n",
       "<table border=\"1\" class=\"dataframe\">\n",
       "  <thead>\n",
       "    <tr style=\"text-align: right;\">\n",
       "      <th></th>\n",
       "      <th>artist_name</th>\n",
       "      <th>track_name</th>\n",
       "      <th>track_id</th>\n",
       "      <th>popularity</th>\n",
       "    </tr>\n",
       "  </thead>\n",
       "  <tbody>\n",
       "    <tr>\n",
       "      <th>0</th>\n",
       "      <td>Post Malone</td>\n",
       "      <td>I Fall Apart</td>\n",
       "      <td>75ZvA4QfFiZvzhj2xkaWAh</td>\n",
       "      <td>84</td>\n",
       "    </tr>\n",
       "    <tr>\n",
       "      <th>1</th>\n",
       "      <td>Post Malone</td>\n",
       "      <td>Congratulations</td>\n",
       "      <td>3a1lNhkSLSkpJE4MSHpDu9</td>\n",
       "      <td>84</td>\n",
       "    </tr>\n",
       "    <tr>\n",
       "      <th>2</th>\n",
       "      <td>Travis Scott</td>\n",
       "      <td>goosebumps</td>\n",
       "      <td>6gBFPUFcJLzWGx4lenP6h2</td>\n",
       "      <td>83</td>\n",
       "    </tr>\n",
       "    <tr>\n",
       "      <th>3</th>\n",
       "      <td>Jon Pardi</td>\n",
       "      <td>Night Shift</td>\n",
       "      <td>0bPnT6i9H1p8Vd85GS6Z7I</td>\n",
       "      <td>77</td>\n",
       "    </tr>\n",
       "    <tr>\n",
       "      <th>4</th>\n",
       "      <td>Hailee Steinfeld</td>\n",
       "      <td>Starving</td>\n",
       "      <td>4Ce37cRWvM1vIGGynKcs22</td>\n",
       "      <td>83</td>\n",
       "    </tr>\n",
       "  </tbody>\n",
       "</table>\n",
       "</div>"
      ],
      "text/plain": [
       "        artist_name       track_name                track_id  popularity\n",
       "0       Post Malone     I Fall Apart  75ZvA4QfFiZvzhj2xkaWAh          84\n",
       "1       Post Malone  Congratulations  3a1lNhkSLSkpJE4MSHpDu9          84\n",
       "2      Travis Scott       goosebumps  6gBFPUFcJLzWGx4lenP6h2          83\n",
       "3         Jon Pardi      Night Shift  0bPnT6i9H1p8Vd85GS6Z7I          77\n",
       "4  Hailee Steinfeld         Starving  4Ce37cRWvM1vIGGynKcs22          83"
      ]
     },
     "execution_count": 174,
     "metadata": {},
     "output_type": "execute_result"
    }
   ],
   "source": [
    "df_top2016tracks = pd.DataFrame({'artist_name':artist_name,\n",
    "                              'track_name':track_name,\n",
    "                              'track_id':track_id,\n",
    "                              'popularity':popularity})\n",
    "print(df_top2016tracks.shape)\n",
    "df_top2016tracks.head()"
   ]
  },
  {
   "cell_type": "code",
   "execution_count": 232,
   "metadata": {},
   "outputs": [
    {
     "data": {
      "text/plain": [
       "1979"
      ]
     },
     "execution_count": 232,
     "metadata": {},
     "output_type": "execute_result"
    }
   ],
   "source": [
    "grouped = df_top2016tracks.groupby(['artist_name','track_name'], as_index=True).size()\n",
    "grouped[grouped > 1].count()"
   ]
  },
  {
   "cell_type": "code",
   "execution_count": 256,
   "metadata": {},
   "outputs": [],
   "source": [
    "#dropping duplicates\n",
    "df_top2016tracks.drop_duplicates(subset=['artist_name','track_name'], inplace=True)"
   ]
  },
  {
   "cell_type": "code",
   "execution_count": 257,
   "metadata": {},
   "outputs": [
    {
     "data": {
      "text/plain": [
       "0"
      ]
     },
     "execution_count": 257,
     "metadata": {},
     "output_type": "execute_result"
    }
   ],
   "source": [
    "# doing the same grouping as before to verify the solution\n",
    "grouped_after_dropping = df_top2016tracks.groupby(['artist_name','track_name'], as_index=True).size()\n",
    "grouped_after_dropping[grouped_after_dropping > 1].count()"
   ]
  },
  {
   "cell_type": "code",
   "execution_count": 294,
   "metadata": {},
   "outputs": [
    {
     "data": {
      "text/plain": [
       "(7396, 4)"
      ]
     },
     "execution_count": 294,
     "metadata": {},
     "output_type": "execute_result"
    }
   ],
   "source": [
    "df_top2016tracks.shape"
   ]
  },
  {
   "cell_type": "markdown",
   "metadata": {},
   "source": [
    "## 2015"
   ]
  },
  {
   "cell_type": "code",
   "execution_count": 175,
   "metadata": {},
   "outputs": [
    {
     "name": "stdout",
     "output_type": "stream",
     "text": [
      "Time to run this code (in seconds): 156.09513346400126\n"
     ]
    }
   ],
   "source": [
    "start = timeit.default_timer()\n",
    "\n",
    "# create empty lists where the results are going to be stored\n",
    "artist_name = []\n",
    "track_name = []\n",
    "popularity = []\n",
    "track_id = []\n",
    "\n",
    "for i in range(0,10000,50):\n",
    "    track_results = sp.search(q='year:2015', type='track', limit=50,offset=i)\n",
    "    for i, t in enumerate(track_results['tracks']['items']):\n",
    "        artist_name.append(t['artists'][0]['name'])\n",
    "        track_name.append(t['name'])\n",
    "        track_id.append(t['id'])\n",
    "        popularity.append(t['popularity'])\n",
    "      \n",
    "\n",
    "stop = timeit.default_timer()\n",
    "print ('Time to run this code (in seconds):', stop - start)"
   ]
  },
  {
   "cell_type": "code",
   "execution_count": 176,
   "metadata": {},
   "outputs": [
    {
     "data": {
      "text/plain": [
       "10000"
      ]
     },
     "execution_count": 176,
     "metadata": {},
     "output_type": "execute_result"
    }
   ],
   "source": [
    "len(artist_name)"
   ]
  },
  {
   "cell_type": "code",
   "execution_count": 177,
   "metadata": {
    "scrolled": true
   },
   "outputs": [
    {
     "name": "stdout",
     "output_type": "stream",
     "text": [
      "(10000, 4)\n"
     ]
    },
    {
     "data": {
      "text/html": [
       "<div>\n",
       "<style scoped>\n",
       "    .dataframe tbody tr th:only-of-type {\n",
       "        vertical-align: middle;\n",
       "    }\n",
       "\n",
       "    .dataframe tbody tr th {\n",
       "        vertical-align: top;\n",
       "    }\n",
       "\n",
       "    .dataframe thead th {\n",
       "        text-align: right;\n",
       "    }\n",
       "</style>\n",
       "<table border=\"1\" class=\"dataframe\">\n",
       "  <thead>\n",
       "    <tr style=\"text-align: right;\">\n",
       "      <th></th>\n",
       "      <th>artist_name</th>\n",
       "      <th>track_name</th>\n",
       "      <th>track_id</th>\n",
       "      <th>popularity</th>\n",
       "    </tr>\n",
       "  </thead>\n",
       "  <tbody>\n",
       "    <tr>\n",
       "      <th>0</th>\n",
       "      <td>Tame Impala</td>\n",
       "      <td>The Less I Know The Better</td>\n",
       "      <td>6K4t31amVTZDgR3sKmwUJJ</td>\n",
       "      <td>83</td>\n",
       "    </tr>\n",
       "    <tr>\n",
       "      <th>1</th>\n",
       "      <td>Thomas Rhett</td>\n",
       "      <td>Die A Happy Man</td>\n",
       "      <td>5kNe7PE09d6Kvw5pAsx23n</td>\n",
       "      <td>75</td>\n",
       "    </tr>\n",
       "    <tr>\n",
       "      <th>2</th>\n",
       "      <td>Bryson Tiller</td>\n",
       "      <td>Exchange</td>\n",
       "      <td>43PuMrRfbyyuz4QpZ3oAwN</td>\n",
       "      <td>78</td>\n",
       "    </tr>\n",
       "    <tr>\n",
       "      <th>3</th>\n",
       "      <td>Chris Stapleton</td>\n",
       "      <td>Tennessee Whiskey</td>\n",
       "      <td>3fqwjXwUGN6vbzIwvyFMhx</td>\n",
       "      <td>76</td>\n",
       "    </tr>\n",
       "    <tr>\n",
       "      <th>4</th>\n",
       "      <td>White Noise Meditation</td>\n",
       "      <td>Brown Noise - Loopable with No Fade</td>\n",
       "      <td>67iF3DdebmElASIGoebYt1</td>\n",
       "      <td>76</td>\n",
       "    </tr>\n",
       "  </tbody>\n",
       "</table>\n",
       "</div>"
      ],
      "text/plain": [
       "              artist_name                           track_name  \\\n",
       "0             Tame Impala           The Less I Know The Better   \n",
       "1            Thomas Rhett                      Die A Happy Man   \n",
       "2           Bryson Tiller                             Exchange   \n",
       "3         Chris Stapleton                    Tennessee Whiskey   \n",
       "4  White Noise Meditation  Brown Noise - Loopable with No Fade   \n",
       "\n",
       "                 track_id  popularity  \n",
       "0  6K4t31amVTZDgR3sKmwUJJ          83  \n",
       "1  5kNe7PE09d6Kvw5pAsx23n          75  \n",
       "2  43PuMrRfbyyuz4QpZ3oAwN          78  \n",
       "3  3fqwjXwUGN6vbzIwvyFMhx          76  \n",
       "4  67iF3DdebmElASIGoebYt1          76  "
      ]
     },
     "execution_count": 177,
     "metadata": {},
     "output_type": "execute_result"
    }
   ],
   "source": [
    "df_top2015tracks = pd.DataFrame({'artist_name':artist_name,\n",
    "                              'track_name':track_name,\n",
    "                              'track_id':track_id,\n",
    "                              'popularity':popularity})\n",
    "print(df_top2015tracks.shape)\n",
    "df_top2015tracks.head()"
   ]
  },
  {
   "cell_type": "code",
   "execution_count": 233,
   "metadata": {},
   "outputs": [
    {
     "data": {
      "text/plain": [
       "2016"
      ]
     },
     "execution_count": 233,
     "metadata": {},
     "output_type": "execute_result"
    }
   ],
   "source": [
    "grouped = df_top2015tracks.groupby(['artist_name','track_name'], as_index=True).size()\n",
    "grouped[grouped > 1].count()"
   ]
  },
  {
   "cell_type": "code",
   "execution_count": 258,
   "metadata": {},
   "outputs": [],
   "source": [
    "#dropping duplicates\n",
    "df_top2015tracks.drop_duplicates(subset=['artist_name','track_name'], inplace=True)"
   ]
  },
  {
   "cell_type": "code",
   "execution_count": 259,
   "metadata": {},
   "outputs": [
    {
     "data": {
      "text/plain": [
       "0"
      ]
     },
     "execution_count": 259,
     "metadata": {},
     "output_type": "execute_result"
    }
   ],
   "source": [
    "# doing the same grouping as before to verify the solution\n",
    "grouped_after_dropping = df_top2015tracks.groupby(['artist_name','track_name'], as_index=True).size()\n",
    "grouped_after_dropping[grouped_after_dropping > 1].count()"
   ]
  },
  {
   "cell_type": "code",
   "execution_count": 295,
   "metadata": {},
   "outputs": [
    {
     "data": {
      "text/plain": [
       "(7432, 4)"
      ]
     },
     "execution_count": 295,
     "metadata": {},
     "output_type": "execute_result"
    }
   ],
   "source": [
    "df_top2015tracks.shape"
   ]
  },
  {
   "cell_type": "markdown",
   "metadata": {},
   "source": [
    "## 2014"
   ]
  },
  {
   "cell_type": "code",
   "execution_count": 178,
   "metadata": {},
   "outputs": [
    {
     "name": "stdout",
     "output_type": "stream",
     "text": [
      "Time to run this code (in seconds): 143.25167518099988\n"
     ]
    }
   ],
   "source": [
    "start = timeit.default_timer()\n",
    "\n",
    "# create empty lists where the results are going to be stored\n",
    "artist_name = []\n",
    "track_name = []\n",
    "popularity = []\n",
    "track_id = []\n",
    "\n",
    "for i in range(0,10000,50):\n",
    "    track_results = sp.search(q='year:2014', type='track', limit=50,offset=i)\n",
    "    for i, t in enumerate(track_results['tracks']['items']):\n",
    "        artist_name.append(t['artists'][0]['name'])\n",
    "        track_name.append(t['name'])\n",
    "        track_id.append(t['id'])\n",
    "        popularity.append(t['popularity'])\n",
    "      \n",
    "\n",
    "stop = timeit.default_timer()\n",
    "print ('Time to run this code (in seconds):', stop - start)"
   ]
  },
  {
   "cell_type": "code",
   "execution_count": 179,
   "metadata": {},
   "outputs": [
    {
     "data": {
      "text/plain": [
       "10000"
      ]
     },
     "execution_count": 179,
     "metadata": {},
     "output_type": "execute_result"
    }
   ],
   "source": [
    "len(artist_name)"
   ]
  },
  {
   "cell_type": "code",
   "execution_count": 180,
   "metadata": {
    "scrolled": true
   },
   "outputs": [
    {
     "name": "stdout",
     "output_type": "stream",
     "text": [
      "(10000, 4)\n"
     ]
    },
    {
     "data": {
      "text/html": [
       "<div>\n",
       "<style scoped>\n",
       "    .dataframe tbody tr th:only-of-type {\n",
       "        vertical-align: middle;\n",
       "    }\n",
       "\n",
       "    .dataframe tbody tr th {\n",
       "        vertical-align: top;\n",
       "    }\n",
       "\n",
       "    .dataframe thead th {\n",
       "        text-align: right;\n",
       "    }\n",
       "</style>\n",
       "<table border=\"1\" class=\"dataframe\">\n",
       "  <thead>\n",
       "    <tr style=\"text-align: right;\">\n",
       "      <th></th>\n",
       "      <th>artist_name</th>\n",
       "      <th>track_name</th>\n",
       "      <th>track_id</th>\n",
       "      <th>popularity</th>\n",
       "    </tr>\n",
       "  </thead>\n",
       "  <tbody>\n",
       "    <tr>\n",
       "      <th>0</th>\n",
       "      <td>J. Cole</td>\n",
       "      <td>No Role Modelz</td>\n",
       "      <td>62vpWI1CHwFy7tMIcSStl8</td>\n",
       "      <td>81</td>\n",
       "    </tr>\n",
       "    <tr>\n",
       "      <th>1</th>\n",
       "      <td>Vance Joy</td>\n",
       "      <td>Riptide</td>\n",
       "      <td>3JvrhDOgAt6p7K8mDyZwRd</td>\n",
       "      <td>77</td>\n",
       "    </tr>\n",
       "    <tr>\n",
       "      <th>2</th>\n",
       "      <td>J. Cole</td>\n",
       "      <td>Wet Dreamz</td>\n",
       "      <td>6Ius4TC0L3cN74HT7ENE6e</td>\n",
       "      <td>78</td>\n",
       "    </tr>\n",
       "    <tr>\n",
       "      <th>3</th>\n",
       "      <td>WALK THE MOON</td>\n",
       "      <td>Shut Up and Dance</td>\n",
       "      <td>4kbj5MwxO1bq9wjT5g9HaA</td>\n",
       "      <td>79</td>\n",
       "    </tr>\n",
       "    <tr>\n",
       "      <th>4</th>\n",
       "      <td>Sam Smith</td>\n",
       "      <td>Stay With Me</td>\n",
       "      <td>5Nm9ERjJZ5oyfXZTECKmRt</td>\n",
       "      <td>82</td>\n",
       "    </tr>\n",
       "  </tbody>\n",
       "</table>\n",
       "</div>"
      ],
      "text/plain": [
       "     artist_name         track_name                track_id  popularity\n",
       "0        J. Cole     No Role Modelz  62vpWI1CHwFy7tMIcSStl8          81\n",
       "1      Vance Joy            Riptide  3JvrhDOgAt6p7K8mDyZwRd          77\n",
       "2        J. Cole         Wet Dreamz  6Ius4TC0L3cN74HT7ENE6e          78\n",
       "3  WALK THE MOON  Shut Up and Dance  4kbj5MwxO1bq9wjT5g9HaA          79\n",
       "4      Sam Smith       Stay With Me  5Nm9ERjJZ5oyfXZTECKmRt          82"
      ]
     },
     "execution_count": 180,
     "metadata": {},
     "output_type": "execute_result"
    }
   ],
   "source": [
    "df_top2014tracks = pd.DataFrame({'artist_name':artist_name,\n",
    "                              'track_name':track_name,\n",
    "                              'track_id':track_id,\n",
    "                              'popularity':popularity})\n",
    "print(df_top2014tracks.shape)\n",
    "df_top2014tracks.head()"
   ]
  },
  {
   "cell_type": "code",
   "execution_count": 234,
   "metadata": {},
   "outputs": [
    {
     "data": {
      "text/plain": [
       "2012"
      ]
     },
     "execution_count": 234,
     "metadata": {},
     "output_type": "execute_result"
    }
   ],
   "source": [
    "grouped = df_top2014tracks.groupby(['artist_name','track_name'], as_index=True).size()\n",
    "grouped[grouped > 1].count()"
   ]
  },
  {
   "cell_type": "code",
   "execution_count": 260,
   "metadata": {},
   "outputs": [],
   "source": [
    "#dropping duplicates\n",
    "df_top2014tracks.drop_duplicates(subset=['artist_name','track_name'], inplace=True)"
   ]
  },
  {
   "cell_type": "code",
   "execution_count": 261,
   "metadata": {},
   "outputs": [
    {
     "data": {
      "text/plain": [
       "0"
      ]
     },
     "execution_count": 261,
     "metadata": {},
     "output_type": "execute_result"
    }
   ],
   "source": [
    "# doing the same grouping as before to verify the solution\n",
    "grouped_after_dropping = df_top2014tracks.groupby(['artist_name','track_name'], as_index=True).size()\n",
    "grouped_after_dropping[grouped_after_dropping > 1].count()"
   ]
  },
  {
   "cell_type": "code",
   "execution_count": 296,
   "metadata": {},
   "outputs": [
    {
     "data": {
      "text/plain": [
       "(7600, 4)"
      ]
     },
     "execution_count": 296,
     "metadata": {},
     "output_type": "execute_result"
    }
   ],
   "source": [
    "df_top2014tracks.shape"
   ]
  },
  {
   "cell_type": "markdown",
   "metadata": {},
   "source": [
    "## 2013"
   ]
  },
  {
   "cell_type": "code",
   "execution_count": 181,
   "metadata": {},
   "outputs": [
    {
     "name": "stdout",
     "output_type": "stream",
     "text": [
      "Time to run this code (in seconds): 141.07191798999884\n"
     ]
    }
   ],
   "source": [
    "start = timeit.default_timer()\n",
    "\n",
    "# create empty lists where the results are going to be stored\n",
    "artist_name = []\n",
    "track_name = []\n",
    "popularity = []\n",
    "track_id = []\n",
    "\n",
    "for i in range(0,10000,50):\n",
    "    track_results = sp.search(q='year:2013', type='track', limit=50,offset=i)\n",
    "    for i, t in enumerate(track_results['tracks']['items']):\n",
    "        artist_name.append(t['artists'][0]['name'])\n",
    "        track_name.append(t['name'])\n",
    "        track_id.append(t['id'])\n",
    "        popularity.append(t['popularity'])\n",
    "      \n",
    "\n",
    "stop = timeit.default_timer()\n",
    "print ('Time to run this code (in seconds):', stop - start)"
   ]
  },
  {
   "cell_type": "code",
   "execution_count": 182,
   "metadata": {},
   "outputs": [
    {
     "data": {
      "text/plain": [
       "10000"
      ]
     },
     "execution_count": 182,
     "metadata": {},
     "output_type": "execute_result"
    }
   ],
   "source": [
    "len(artist_name)"
   ]
  },
  {
   "cell_type": "code",
   "execution_count": 183,
   "metadata": {
    "scrolled": true
   },
   "outputs": [
    {
     "name": "stdout",
     "output_type": "stream",
     "text": [
      "(10000, 4)\n"
     ]
    },
    {
     "data": {
      "text/html": [
       "<div>\n",
       "<style scoped>\n",
       "    .dataframe tbody tr th:only-of-type {\n",
       "        vertical-align: middle;\n",
       "    }\n",
       "\n",
       "    .dataframe tbody tr th {\n",
       "        vertical-align: top;\n",
       "    }\n",
       "\n",
       "    .dataframe thead th {\n",
       "        text-align: right;\n",
       "    }\n",
       "</style>\n",
       "<table border=\"1\" class=\"dataframe\">\n",
       "  <thead>\n",
       "    <tr style=\"text-align: right;\">\n",
       "      <th></th>\n",
       "      <th>artist_name</th>\n",
       "      <th>track_name</th>\n",
       "      <th>track_id</th>\n",
       "      <th>popularity</th>\n",
       "    </tr>\n",
       "  </thead>\n",
       "  <tbody>\n",
       "    <tr>\n",
       "      <th>0</th>\n",
       "      <td>John Legend</td>\n",
       "      <td>All of Me</td>\n",
       "      <td>3U4isOIWM3VvDubwSI3y7a</td>\n",
       "      <td>84</td>\n",
       "    </tr>\n",
       "    <tr>\n",
       "      <th>1</th>\n",
       "      <td>Darius Rucker</td>\n",
       "      <td>Wagon Wheel</td>\n",
       "      <td>3xdjjKMcMOFgo1eQrfbogM</td>\n",
       "      <td>75</td>\n",
       "    </tr>\n",
       "    <tr>\n",
       "      <th>2</th>\n",
       "      <td>Luke Bryan</td>\n",
       "      <td>Play It Again</td>\n",
       "      <td>03fT3OHB9KyMtGMt2zwqCT</td>\n",
       "      <td>74</td>\n",
       "    </tr>\n",
       "    <tr>\n",
       "      <th>3</th>\n",
       "      <td>Avicii</td>\n",
       "      <td>Wake Me Up</td>\n",
       "      <td>4h8VwCb1MTGoLKueQ1WgbD</td>\n",
       "      <td>83</td>\n",
       "    </tr>\n",
       "    <tr>\n",
       "      <th>4</th>\n",
       "      <td>Childish Gambino</td>\n",
       "      <td>3005</td>\n",
       "      <td>2ZltjIqztEpZtafc8w0I9t</td>\n",
       "      <td>74</td>\n",
       "    </tr>\n",
       "  </tbody>\n",
       "</table>\n",
       "</div>"
      ],
      "text/plain": [
       "        artist_name     track_name                track_id  popularity\n",
       "0       John Legend      All of Me  3U4isOIWM3VvDubwSI3y7a          84\n",
       "1     Darius Rucker    Wagon Wheel  3xdjjKMcMOFgo1eQrfbogM          75\n",
       "2        Luke Bryan  Play It Again  03fT3OHB9KyMtGMt2zwqCT          74\n",
       "3            Avicii     Wake Me Up  4h8VwCb1MTGoLKueQ1WgbD          83\n",
       "4  Childish Gambino           3005  2ZltjIqztEpZtafc8w0I9t          74"
      ]
     },
     "execution_count": 183,
     "metadata": {},
     "output_type": "execute_result"
    }
   ],
   "source": [
    "df_top2013tracks = pd.DataFrame({'artist_name':artist_name,\n",
    "                              'track_name':track_name,\n",
    "                              'track_id':track_id,\n",
    "                              'popularity':popularity})\n",
    "print(df_top2013tracks.shape)\n",
    "df_top2013tracks.head()"
   ]
  },
  {
   "cell_type": "code",
   "execution_count": 235,
   "metadata": {},
   "outputs": [
    {
     "data": {
      "text/plain": [
       "1773"
      ]
     },
     "execution_count": 235,
     "metadata": {},
     "output_type": "execute_result"
    }
   ],
   "source": [
    "grouped = df_top2013tracks.groupby(['artist_name','track_name'], as_index=True).size()\n",
    "grouped[grouped > 1].count()"
   ]
  },
  {
   "cell_type": "code",
   "execution_count": 262,
   "metadata": {},
   "outputs": [],
   "source": [
    "#dropping duplicates\n",
    "df_top2013tracks.drop_duplicates(subset=['artist_name','track_name'], inplace=True)"
   ]
  },
  {
   "cell_type": "code",
   "execution_count": 263,
   "metadata": {},
   "outputs": [
    {
     "data": {
      "text/plain": [
       "0"
      ]
     },
     "execution_count": 263,
     "metadata": {},
     "output_type": "execute_result"
    }
   ],
   "source": [
    "# doing the same grouping as before to verify the solution\n",
    "grouped_after_dropping = df_top2013tracks.groupby(['artist_name','track_name'], as_index=True).size()\n",
    "grouped_after_dropping[grouped_after_dropping > 1].count()"
   ]
  },
  {
   "cell_type": "code",
   "execution_count": 297,
   "metadata": {},
   "outputs": [
    {
     "data": {
      "text/plain": [
       "(7706, 4)"
      ]
     },
     "execution_count": 297,
     "metadata": {},
     "output_type": "execute_result"
    }
   ],
   "source": [
    "df_top2013tracks.shape"
   ]
  },
  {
   "cell_type": "markdown",
   "metadata": {},
   "source": [
    "## 2012"
   ]
  },
  {
   "cell_type": "code",
   "execution_count": 184,
   "metadata": {},
   "outputs": [
    {
     "name": "stdout",
     "output_type": "stream",
     "text": [
      "Time to run this code (in seconds): 133.0901703669988\n"
     ]
    }
   ],
   "source": [
    "start = timeit.default_timer()\n",
    "\n",
    "# create empty lists where the results are going to be stored\n",
    "artist_name = []\n",
    "track_name = []\n",
    "popularity = []\n",
    "track_id = []\n",
    "\n",
    "for i in range(0,10000,50):\n",
    "    track_results = sp.search(q='year:2012', type='track', limit=50,offset=i)\n",
    "    for i, t in enumerate(track_results['tracks']['items']):\n",
    "        artist_name.append(t['artists'][0]['name'])\n",
    "        track_name.append(t['name'])\n",
    "        track_id.append(t['id'])\n",
    "        popularity.append(t['popularity'])\n",
    "      \n",
    "\n",
    "stop = timeit.default_timer()\n",
    "print ('Time to run this code (in seconds):', stop - start)"
   ]
  },
  {
   "cell_type": "code",
   "execution_count": 185,
   "metadata": {},
   "outputs": [
    {
     "data": {
      "text/plain": [
       "10000"
      ]
     },
     "execution_count": 185,
     "metadata": {},
     "output_type": "execute_result"
    }
   ],
   "source": [
    "len(artist_name)"
   ]
  },
  {
   "cell_type": "code",
   "execution_count": 186,
   "metadata": {
    "scrolled": true
   },
   "outputs": [
    {
     "name": "stdout",
     "output_type": "stream",
     "text": [
      "(10000, 4)\n"
     ]
    },
    {
     "data": {
      "text/html": [
       "<div>\n",
       "<style scoped>\n",
       "    .dataframe tbody tr th:only-of-type {\n",
       "        vertical-align: middle;\n",
       "    }\n",
       "\n",
       "    .dataframe tbody tr th {\n",
       "        vertical-align: top;\n",
       "    }\n",
       "\n",
       "    .dataframe thead th {\n",
       "        text-align: right;\n",
       "    }\n",
       "</style>\n",
       "<table border=\"1\" class=\"dataframe\">\n",
       "  <thead>\n",
       "    <tr style=\"text-align: right;\">\n",
       "      <th></th>\n",
       "      <th>artist_name</th>\n",
       "      <th>track_name</th>\n",
       "      <th>track_id</th>\n",
       "      <th>popularity</th>\n",
       "    </tr>\n",
       "  </thead>\n",
       "  <tbody>\n",
       "    <tr>\n",
       "      <th>0</th>\n",
       "      <td>Frank Ocean</td>\n",
       "      <td>Thinkin Bout You</td>\n",
       "      <td>7DfFc7a6Rwfi3YQMRbDMau</td>\n",
       "      <td>73</td>\n",
       "    </tr>\n",
       "    <tr>\n",
       "      <th>1</th>\n",
       "      <td>MKTO</td>\n",
       "      <td>Classic</td>\n",
       "      <td>6FE2iI43OZnszFLuLtvvmg</td>\n",
       "      <td>76</td>\n",
       "    </tr>\n",
       "    <tr>\n",
       "      <th>2</th>\n",
       "      <td>Imagine Dragons</td>\n",
       "      <td>Demons</td>\n",
       "      <td>3LlAyCYU26dvFZBDUIMb7a</td>\n",
       "      <td>72</td>\n",
       "    </tr>\n",
       "    <tr>\n",
       "      <th>3</th>\n",
       "      <td>Bruno Mars</td>\n",
       "      <td>When I Was Your Man</td>\n",
       "      <td>0nJW01T7XtvILxQgC5J7Wh</td>\n",
       "      <td>81</td>\n",
       "    </tr>\n",
       "    <tr>\n",
       "      <th>4</th>\n",
       "      <td>Imagine Dragons</td>\n",
       "      <td>Radioactive</td>\n",
       "      <td>4G8gkOterJn0Ywt6uhqbhp</td>\n",
       "      <td>72</td>\n",
       "    </tr>\n",
       "  </tbody>\n",
       "</table>\n",
       "</div>"
      ],
      "text/plain": [
       "       artist_name           track_name                track_id  popularity\n",
       "0      Frank Ocean     Thinkin Bout You  7DfFc7a6Rwfi3YQMRbDMau          73\n",
       "1             MKTO              Classic  6FE2iI43OZnszFLuLtvvmg          76\n",
       "2  Imagine Dragons               Demons  3LlAyCYU26dvFZBDUIMb7a          72\n",
       "3       Bruno Mars  When I Was Your Man  0nJW01T7XtvILxQgC5J7Wh          81\n",
       "4  Imagine Dragons          Radioactive  4G8gkOterJn0Ywt6uhqbhp          72"
      ]
     },
     "execution_count": 186,
     "metadata": {},
     "output_type": "execute_result"
    }
   ],
   "source": [
    "df_top2012tracks = pd.DataFrame({'artist_name':artist_name,\n",
    "                              'track_name':track_name,\n",
    "                              'track_id':track_id,\n",
    "                              'popularity':popularity})\n",
    "print(df_top2012tracks.shape)\n",
    "df_top2012tracks.head()"
   ]
  },
  {
   "cell_type": "code",
   "execution_count": 236,
   "metadata": {},
   "outputs": [
    {
     "data": {
      "text/plain": [
       "1648"
      ]
     },
     "execution_count": 236,
     "metadata": {},
     "output_type": "execute_result"
    }
   ],
   "source": [
    "grouped = df_top2012tracks.groupby(['artist_name','track_name'], as_index=True).size()\n",
    "grouped[grouped > 1].count()"
   ]
  },
  {
   "cell_type": "code",
   "execution_count": 264,
   "metadata": {},
   "outputs": [],
   "source": [
    "#dropping duplicates\n",
    "df_top2012tracks.drop_duplicates(subset=['artist_name','track_name'], inplace=True)"
   ]
  },
  {
   "cell_type": "code",
   "execution_count": 265,
   "metadata": {},
   "outputs": [
    {
     "data": {
      "text/plain": [
       "0"
      ]
     },
     "execution_count": 265,
     "metadata": {},
     "output_type": "execute_result"
    }
   ],
   "source": [
    "# doing the same grouping as before to verify the solution\n",
    "grouped_after_dropping = df_top2012tracks.groupby(['artist_name','track_name'], as_index=True).size()\n",
    "grouped_after_dropping[grouped_after_dropping > 1].count()"
   ]
  },
  {
   "cell_type": "code",
   "execution_count": 298,
   "metadata": {},
   "outputs": [
    {
     "data": {
      "text/plain": [
       "(7857, 4)"
      ]
     },
     "execution_count": 298,
     "metadata": {},
     "output_type": "execute_result"
    }
   ],
   "source": [
    "df_top2012tracks.shape"
   ]
  },
  {
   "cell_type": "markdown",
   "metadata": {},
   "source": [
    "## 2011"
   ]
  },
  {
   "cell_type": "code",
   "execution_count": 193,
   "metadata": {},
   "outputs": [
    {
     "name": "stdout",
     "output_type": "stream",
     "text": [
      "Time to run this code (in seconds): 125.90893161900021\n"
     ]
    }
   ],
   "source": [
    "start = timeit.default_timer()\n",
    "\n",
    "# create empty lists where the results are going to be stored\n",
    "artist_name = []\n",
    "track_name = []\n",
    "popularity = []\n",
    "track_id = []\n",
    "\n",
    "for i in range(0,10000,50):\n",
    "    track_results = sp.search(q='year:2011', type='track', limit=50,offset=i)\n",
    "    for i, t in enumerate(track_results['tracks']['items']):\n",
    "        artist_name.append(t['artists'][0]['name'])\n",
    "        track_name.append(t['name'])\n",
    "        track_id.append(t['id'])\n",
    "        popularity.append(t['popularity'])\n",
    "      \n",
    "\n",
    "stop = timeit.default_timer()\n",
    "print ('Time to run this code (in seconds):', stop - start)"
   ]
  },
  {
   "cell_type": "code",
   "execution_count": 194,
   "metadata": {},
   "outputs": [
    {
     "data": {
      "text/plain": [
       "10000"
      ]
     },
     "execution_count": 194,
     "metadata": {},
     "output_type": "execute_result"
    }
   ],
   "source": [
    "len(artist_name)"
   ]
  },
  {
   "cell_type": "code",
   "execution_count": 195,
   "metadata": {},
   "outputs": [
    {
     "name": "stdout",
     "output_type": "stream",
     "text": [
      "(10000, 4)\n"
     ]
    },
    {
     "data": {
      "text/html": [
       "<div>\n",
       "<style scoped>\n",
       "    .dataframe tbody tr th:only-of-type {\n",
       "        vertical-align: middle;\n",
       "    }\n",
       "\n",
       "    .dataframe tbody tr th {\n",
       "        vertical-align: top;\n",
       "    }\n",
       "\n",
       "    .dataframe thead th {\n",
       "        text-align: right;\n",
       "    }\n",
       "</style>\n",
       "<table border=\"1\" class=\"dataframe\">\n",
       "  <thead>\n",
       "    <tr style=\"text-align: right;\">\n",
       "      <th></th>\n",
       "      <th>artist_name</th>\n",
       "      <th>track_name</th>\n",
       "      <th>track_id</th>\n",
       "      <th>popularity</th>\n",
       "    </tr>\n",
       "  </thead>\n",
       "  <tbody>\n",
       "    <tr>\n",
       "      <th>0</th>\n",
       "      <td>Grouplove</td>\n",
       "      <td>Tongue Tied</td>\n",
       "      <td>0GO8y8jQk1PkHzS31d699N</td>\n",
       "      <td>78</td>\n",
       "    </tr>\n",
       "    <tr>\n",
       "      <th>1</th>\n",
       "      <td>Foster The People</td>\n",
       "      <td>Pumped Up Kicks</td>\n",
       "      <td>7w87IxuO7BDcJ3YUqCyMTT</td>\n",
       "      <td>82</td>\n",
       "    </tr>\n",
       "    <tr>\n",
       "      <th>2</th>\n",
       "      <td>Adele</td>\n",
       "      <td>Someone Like You</td>\n",
       "      <td>4kflIGfjdZJW4ot2ioixTB</td>\n",
       "      <td>77</td>\n",
       "    </tr>\n",
       "    <tr>\n",
       "      <th>3</th>\n",
       "      <td>Eric Church</td>\n",
       "      <td>Springsteen</td>\n",
       "      <td>05ZACkzW8YbRq3eFgIfSNB</td>\n",
       "      <td>73</td>\n",
       "    </tr>\n",
       "    <tr>\n",
       "      <th>4</th>\n",
       "      <td>Christina Perri</td>\n",
       "      <td>A Thousand Years</td>\n",
       "      <td>6lanRgr6wXibZr8KgzXxBl</td>\n",
       "      <td>79</td>\n",
       "    </tr>\n",
       "  </tbody>\n",
       "</table>\n",
       "</div>"
      ],
      "text/plain": [
       "         artist_name        track_name                track_id  popularity\n",
       "0          Grouplove       Tongue Tied  0GO8y8jQk1PkHzS31d699N          78\n",
       "1  Foster The People   Pumped Up Kicks  7w87IxuO7BDcJ3YUqCyMTT          82\n",
       "2              Adele  Someone Like You  4kflIGfjdZJW4ot2ioixTB          77\n",
       "3        Eric Church       Springsteen  05ZACkzW8YbRq3eFgIfSNB          73\n",
       "4    Christina Perri  A Thousand Years  6lanRgr6wXibZr8KgzXxBl          79"
      ]
     },
     "execution_count": 195,
     "metadata": {},
     "output_type": "execute_result"
    }
   ],
   "source": [
    "df_top2011tracks = pd.DataFrame({'artist_name':artist_name,\n",
    "                              'track_name':track_name,\n",
    "                              'track_id':track_id,\n",
    "                              'popularity':popularity})\n",
    "print(df_top2011tracks.shape)\n",
    "df_top2011tracks.head()"
   ]
  },
  {
   "cell_type": "code",
   "execution_count": 237,
   "metadata": {},
   "outputs": [
    {
     "data": {
      "text/plain": [
       "1390"
      ]
     },
     "execution_count": 237,
     "metadata": {},
     "output_type": "execute_result"
    }
   ],
   "source": [
    "grouped = df_top2011tracks.groupby(['artist_name','track_name'], as_index=True).size()\n",
    "grouped[grouped > 1].count()"
   ]
  },
  {
   "cell_type": "code",
   "execution_count": 266,
   "metadata": {},
   "outputs": [],
   "source": [
    "#dropping duplicates\n",
    "df_top2011tracks.drop_duplicates(subset=['artist_name','track_name'], inplace=True)"
   ]
  },
  {
   "cell_type": "code",
   "execution_count": 268,
   "metadata": {},
   "outputs": [
    {
     "data": {
      "text/plain": [
       "0"
      ]
     },
     "execution_count": 268,
     "metadata": {},
     "output_type": "execute_result"
    }
   ],
   "source": [
    "# doing the same grouping as before to verify the solution\n",
    "grouped_after_dropping = df_top2011tracks.groupby(['artist_name','track_name'], as_index=True).size()\n",
    "grouped_after_dropping[grouped_after_dropping > 1].count()"
   ]
  },
  {
   "cell_type": "code",
   "execution_count": 299,
   "metadata": {},
   "outputs": [
    {
     "data": {
      "text/plain": [
       "(8219, 4)"
      ]
     },
     "execution_count": 299,
     "metadata": {},
     "output_type": "execute_result"
    }
   ],
   "source": [
    "df_top2011tracks.shape"
   ]
  },
  {
   "cell_type": "markdown",
   "metadata": {},
   "source": [
    "## 2010"
   ]
  },
  {
   "cell_type": "code",
   "execution_count": 196,
   "metadata": {},
   "outputs": [
    {
     "name": "stdout",
     "output_type": "stream",
     "text": [
      "Time to run this code (in seconds): 124.58034648000103\n"
     ]
    }
   ],
   "source": [
    "start = timeit.default_timer()\n",
    "\n",
    "# create empty lists where the results are going to be stored\n",
    "artist_name = []\n",
    "track_name = []\n",
    "popularity = []\n",
    "track_id = []\n",
    "\n",
    "for i in range(0,10000,50):\n",
    "    track_results = sp.search(q='year:2010', type='track', limit=50,offset=i)\n",
    "    for i, t in enumerate(track_results['tracks']['items']):\n",
    "        artist_name.append(t['artists'][0]['name'])\n",
    "        track_name.append(t['name'])\n",
    "        track_id.append(t['id'])\n",
    "        popularity.append(t['popularity'])\n",
    "      \n",
    "\n",
    "stop = timeit.default_timer()\n",
    "print ('Time to run this code (in seconds):', stop - start)"
   ]
  },
  {
   "cell_type": "code",
   "execution_count": 197,
   "metadata": {},
   "outputs": [
    {
     "data": {
      "text/plain": [
       "10000"
      ]
     },
     "execution_count": 197,
     "metadata": {},
     "output_type": "execute_result"
    }
   ],
   "source": [
    "len(artist_name)"
   ]
  },
  {
   "cell_type": "code",
   "execution_count": 198,
   "metadata": {
    "scrolled": true
   },
   "outputs": [
    {
     "name": "stdout",
     "output_type": "stream",
     "text": [
      "(10000, 4)\n"
     ]
    },
    {
     "data": {
      "text/html": [
       "<div>\n",
       "<style scoped>\n",
       "    .dataframe tbody tr th:only-of-type {\n",
       "        vertical-align: middle;\n",
       "    }\n",
       "\n",
       "    .dataframe tbody tr th {\n",
       "        vertical-align: top;\n",
       "    }\n",
       "\n",
       "    .dataframe thead th {\n",
       "        text-align: right;\n",
       "    }\n",
       "</style>\n",
       "<table border=\"1\" class=\"dataframe\">\n",
       "  <thead>\n",
       "    <tr style=\"text-align: right;\">\n",
       "      <th></th>\n",
       "      <th>artist_name</th>\n",
       "      <th>track_name</th>\n",
       "      <th>track_id</th>\n",
       "      <th>popularity</th>\n",
       "    </tr>\n",
       "  </thead>\n",
       "  <tbody>\n",
       "    <tr>\n",
       "      <th>0</th>\n",
       "      <td>Train</td>\n",
       "      <td>Hey, Soul Sister</td>\n",
       "      <td>4HlFJV71xXKIGcU3kRyttv</td>\n",
       "      <td>82</td>\n",
       "    </tr>\n",
       "    <tr>\n",
       "      <th>1</th>\n",
       "      <td>Bruno Mars</td>\n",
       "      <td>Just the Way You Are</td>\n",
       "      <td>7BqBn9nzAq8spo5e7cZ0dJ</td>\n",
       "      <td>78</td>\n",
       "    </tr>\n",
       "    <tr>\n",
       "      <th>2</th>\n",
       "      <td>Kanye West</td>\n",
       "      <td>POWER</td>\n",
       "      <td>2gZUPNdnz5Y45eiGxpHGSc</td>\n",
       "      <td>77</td>\n",
       "    </tr>\n",
       "    <tr>\n",
       "      <th>3</th>\n",
       "      <td>Jason Aldean</td>\n",
       "      <td>Dirt Road Anthem</td>\n",
       "      <td>2qYsSHsYkihWx043HVJQRV</td>\n",
       "      <td>71</td>\n",
       "    </tr>\n",
       "    <tr>\n",
       "      <th>4</th>\n",
       "      <td>Waka Flocka Flame</td>\n",
       "      <td>No Hands (feat. Roscoe Dash &amp; Wale)</td>\n",
       "      <td>03tqyYWC9Um2ZqU0ZN849H</td>\n",
       "      <td>72</td>\n",
       "    </tr>\n",
       "  </tbody>\n",
       "</table>\n",
       "</div>"
      ],
      "text/plain": [
       "         artist_name                           track_name  \\\n",
       "0              Train                     Hey, Soul Sister   \n",
       "1         Bruno Mars                 Just the Way You Are   \n",
       "2         Kanye West                                POWER   \n",
       "3       Jason Aldean                     Dirt Road Anthem   \n",
       "4  Waka Flocka Flame  No Hands (feat. Roscoe Dash & Wale)   \n",
       "\n",
       "                 track_id  popularity  \n",
       "0  4HlFJV71xXKIGcU3kRyttv          82  \n",
       "1  7BqBn9nzAq8spo5e7cZ0dJ          78  \n",
       "2  2gZUPNdnz5Y45eiGxpHGSc          77  \n",
       "3  2qYsSHsYkihWx043HVJQRV          71  \n",
       "4  03tqyYWC9Um2ZqU0ZN849H          72  "
      ]
     },
     "execution_count": 198,
     "metadata": {},
     "output_type": "execute_result"
    }
   ],
   "source": [
    "df_top2010tracks = pd.DataFrame({'artist_name':artist_name,\n",
    "                              'track_name':track_name,\n",
    "                              'track_id':track_id,\n",
    "                              'popularity':popularity})\n",
    "print(df_top2010tracks.shape)\n",
    "df_top2010tracks.head()"
   ]
  },
  {
   "cell_type": "code",
   "execution_count": 238,
   "metadata": {},
   "outputs": [
    {
     "data": {
      "text/plain": [
       "1162"
      ]
     },
     "execution_count": 238,
     "metadata": {},
     "output_type": "execute_result"
    }
   ],
   "source": [
    "grouped = df_top2010tracks.groupby(['artist_name','track_name'], as_index=True).size()\n",
    "grouped[grouped > 1].count()"
   ]
  },
  {
   "cell_type": "code",
   "execution_count": 269,
   "metadata": {},
   "outputs": [],
   "source": [
    "#dropping duplicates\n",
    "df_top2010tracks.drop_duplicates(subset=['artist_name','track_name'], inplace=True)"
   ]
  },
  {
   "cell_type": "code",
   "execution_count": 270,
   "metadata": {},
   "outputs": [
    {
     "data": {
      "text/plain": [
       "0"
      ]
     },
     "execution_count": 270,
     "metadata": {},
     "output_type": "execute_result"
    }
   ],
   "source": [
    "# doing the same grouping as before to verify the solution\n",
    "grouped_after_dropping = df_top2010tracks.groupby(['artist_name','track_name'], as_index=True).size()\n",
    "grouped_after_dropping[grouped_after_dropping > 1].count()"
   ]
  },
  {
   "cell_type": "code",
   "execution_count": 300,
   "metadata": {},
   "outputs": [
    {
     "data": {
      "text/plain": [
       "(8625, 4)"
      ]
     },
     "execution_count": 300,
     "metadata": {},
     "output_type": "execute_result"
    }
   ],
   "source": [
    "df_top2010tracks.shape"
   ]
  },
  {
   "cell_type": "markdown",
   "metadata": {},
   "source": [
    "## 2009"
   ]
  },
  {
   "cell_type": "code",
   "execution_count": 199,
   "metadata": {},
   "outputs": [
    {
     "name": "stdout",
     "output_type": "stream",
     "text": [
      "Time to run this code (in seconds): 114.6528778539996\n"
     ]
    }
   ],
   "source": [
    "start = timeit.default_timer()\n",
    "\n",
    "# create empty lists where the results are going to be stored\n",
    "artist_name = []\n",
    "track_name = []\n",
    "popularity = []\n",
    "track_id = []\n",
    "\n",
    "for i in range(0,10000,50):\n",
    "    track_results = sp.search(q='year:2009', type='track', limit=50,offset=i)\n",
    "    for i, t in enumerate(track_results['tracks']['items']):\n",
    "        artist_name.append(t['artists'][0]['name'])\n",
    "        track_name.append(t['name'])\n",
    "        track_id.append(t['id'])\n",
    "        popularity.append(t['popularity'])\n",
    "      \n",
    "\n",
    "stop = timeit.default_timer()\n",
    "print ('Time to run this code (in seconds):', stop - start)"
   ]
  },
  {
   "cell_type": "code",
   "execution_count": 200,
   "metadata": {},
   "outputs": [
    {
     "data": {
      "text/plain": [
       "10000"
      ]
     },
     "execution_count": 200,
     "metadata": {},
     "output_type": "execute_result"
    }
   ],
   "source": [
    "len(artist_name)"
   ]
  },
  {
   "cell_type": "code",
   "execution_count": 201,
   "metadata": {
    "scrolled": true
   },
   "outputs": [
    {
     "name": "stdout",
     "output_type": "stream",
     "text": [
      "(10000, 4)\n"
     ]
    },
    {
     "data": {
      "text/html": [
       "<div>\n",
       "<style scoped>\n",
       "    .dataframe tbody tr th:only-of-type {\n",
       "        vertical-align: middle;\n",
       "    }\n",
       "\n",
       "    .dataframe tbody tr th {\n",
       "        vertical-align: top;\n",
       "    }\n",
       "\n",
       "    .dataframe thead th {\n",
       "        text-align: right;\n",
       "    }\n",
       "</style>\n",
       "<table border=\"1\" class=\"dataframe\">\n",
       "  <thead>\n",
       "    <tr style=\"text-align: right;\">\n",
       "      <th></th>\n",
       "      <th>artist_name</th>\n",
       "      <th>track_name</th>\n",
       "      <th>track_id</th>\n",
       "      <th>popularity</th>\n",
       "    </tr>\n",
       "  </thead>\n",
       "  <tbody>\n",
       "    <tr>\n",
       "      <th>0</th>\n",
       "      <td>Miley Cyrus</td>\n",
       "      <td>Party In The U.S.A.</td>\n",
       "      <td>5Q0Nhxo0l2bP3pNjpGJwV1</td>\n",
       "      <td>75</td>\n",
       "    </tr>\n",
       "    <tr>\n",
       "      <th>1</th>\n",
       "      <td>Cage The Elephant</td>\n",
       "      <td>Ain't No Rest for the Wicked</td>\n",
       "      <td>3Pzh926pXggbMe2ZpXyMV7</td>\n",
       "      <td>74</td>\n",
       "    </tr>\n",
       "    <tr>\n",
       "      <th>2</th>\n",
       "      <td>Kid Cudi</td>\n",
       "      <td>Day 'N' Nite (nightmare)</td>\n",
       "      <td>5FEXPoPnzueFJQCPRIrC3c</td>\n",
       "      <td>72</td>\n",
       "    </tr>\n",
       "    <tr>\n",
       "      <th>3</th>\n",
       "      <td>Owl City</td>\n",
       "      <td>Fireflies</td>\n",
       "      <td>3DamFFqW32WihKkTVlwTYQ</td>\n",
       "      <td>78</td>\n",
       "    </tr>\n",
       "    <tr>\n",
       "      <th>4</th>\n",
       "      <td>Kid Cudi</td>\n",
       "      <td>Pursuit Of Happiness (Nightmare)</td>\n",
       "      <td>5iSEsR6NKjlC9SrIJkyL3k</td>\n",
       "      <td>70</td>\n",
       "    </tr>\n",
       "  </tbody>\n",
       "</table>\n",
       "</div>"
      ],
      "text/plain": [
       "         artist_name                        track_name  \\\n",
       "0        Miley Cyrus               Party In The U.S.A.   \n",
       "1  Cage The Elephant      Ain't No Rest for the Wicked   \n",
       "2           Kid Cudi          Day 'N' Nite (nightmare)   \n",
       "3           Owl City                         Fireflies   \n",
       "4           Kid Cudi  Pursuit Of Happiness (Nightmare)   \n",
       "\n",
       "                 track_id  popularity  \n",
       "0  5Q0Nhxo0l2bP3pNjpGJwV1          75  \n",
       "1  3Pzh926pXggbMe2ZpXyMV7          74  \n",
       "2  5FEXPoPnzueFJQCPRIrC3c          72  \n",
       "3  3DamFFqW32WihKkTVlwTYQ          78  \n",
       "4  5iSEsR6NKjlC9SrIJkyL3k          70  "
      ]
     },
     "execution_count": 201,
     "metadata": {},
     "output_type": "execute_result"
    }
   ],
   "source": [
    "df_top2009tracks = pd.DataFrame({'artist_name':artist_name,\n",
    "                              'track_name':track_name,\n",
    "                              'track_id':track_id,\n",
    "                              'popularity':popularity})\n",
    "print(df_top2009tracks.shape)\n",
    "df_top2009tracks.head()"
   ]
  },
  {
   "cell_type": "code",
   "execution_count": 239,
   "metadata": {},
   "outputs": [
    {
     "data": {
      "text/plain": [
       "1050"
      ]
     },
     "execution_count": 239,
     "metadata": {},
     "output_type": "execute_result"
    }
   ],
   "source": [
    "grouped = df_top2009tracks.groupby(['artist_name','track_name'], as_index=True).size()\n",
    "grouped[grouped > 1].count()"
   ]
  },
  {
   "cell_type": "code",
   "execution_count": 271,
   "metadata": {},
   "outputs": [],
   "source": [
    "#dropping duplicates\n",
    "df_top2009tracks.drop_duplicates(subset=['artist_name','track_name'], inplace=True)"
   ]
  },
  {
   "cell_type": "code",
   "execution_count": 272,
   "metadata": {},
   "outputs": [
    {
     "data": {
      "text/plain": [
       "0"
      ]
     },
     "execution_count": 272,
     "metadata": {},
     "output_type": "execute_result"
    }
   ],
   "source": [
    "# doing the same grouping as before to verify the solution\n",
    "grouped_after_dropping = df_top2009tracks.groupby(['artist_name','track_name'], as_index=True).size()\n",
    "grouped_after_dropping[grouped_after_dropping > 1].count()"
   ]
  },
  {
   "cell_type": "code",
   "execution_count": 301,
   "metadata": {},
   "outputs": [
    {
     "data": {
      "text/plain": [
       "(8829, 4)"
      ]
     },
     "execution_count": 301,
     "metadata": {},
     "output_type": "execute_result"
    }
   ],
   "source": [
    "df_top2009tracks.shape"
   ]
  },
  {
   "cell_type": "markdown",
   "metadata": {},
   "source": [
    "## 2008"
   ]
  },
  {
   "cell_type": "code",
   "execution_count": 202,
   "metadata": {},
   "outputs": [
    {
     "name": "stdout",
     "output_type": "stream",
     "text": [
      "Time to run this code (in seconds): 115.35964736100141\n"
     ]
    }
   ],
   "source": [
    "start = timeit.default_timer()\n",
    "\n",
    "# create empty lists where the results are going to be stored\n",
    "artist_name = []\n",
    "track_name = []\n",
    "popularity = []\n",
    "track_id = []\n",
    "\n",
    "for i in range(0,10000,50):\n",
    "    track_results = sp.search(q='year:2008', type='track', limit=50,offset=i)\n",
    "    for i, t in enumerate(track_results['tracks']['items']):\n",
    "        artist_name.append(t['artists'][0]['name'])\n",
    "        track_name.append(t['name'])\n",
    "        track_id.append(t['id'])\n",
    "        popularity.append(t['popularity'])\n",
    "      \n",
    "\n",
    "stop = timeit.default_timer()\n",
    "print ('Time to run this code (in seconds):', stop - start)"
   ]
  },
  {
   "cell_type": "code",
   "execution_count": 203,
   "metadata": {},
   "outputs": [
    {
     "data": {
      "text/plain": [
       "10000"
      ]
     },
     "execution_count": 203,
     "metadata": {},
     "output_type": "execute_result"
    }
   ],
   "source": [
    "len(artist_name)"
   ]
  },
  {
   "cell_type": "code",
   "execution_count": 204,
   "metadata": {
    "scrolled": false
   },
   "outputs": [
    {
     "name": "stdout",
     "output_type": "stream",
     "text": [
      "(10000, 4)\n"
     ]
    },
    {
     "data": {
      "text/html": [
       "<div>\n",
       "<style scoped>\n",
       "    .dataframe tbody tr th:only-of-type {\n",
       "        vertical-align: middle;\n",
       "    }\n",
       "\n",
       "    .dataframe tbody tr th {\n",
       "        vertical-align: top;\n",
       "    }\n",
       "\n",
       "    .dataframe thead th {\n",
       "        text-align: right;\n",
       "    }\n",
       "</style>\n",
       "<table border=\"1\" class=\"dataframe\">\n",
       "  <thead>\n",
       "    <tr style=\"text-align: right;\">\n",
       "      <th></th>\n",
       "      <th>artist_name</th>\n",
       "      <th>track_name</th>\n",
       "      <th>track_id</th>\n",
       "      <th>popularity</th>\n",
       "    </tr>\n",
       "  </thead>\n",
       "  <tbody>\n",
       "    <tr>\n",
       "      <th>0</th>\n",
       "      <td>Zac Brown Band</td>\n",
       "      <td>Chicken Fried</td>\n",
       "      <td>4dGJf1SER1T6ooX46vwzRB</td>\n",
       "      <td>76</td>\n",
       "    </tr>\n",
       "    <tr>\n",
       "      <th>1</th>\n",
       "      <td>Jason Mraz</td>\n",
       "      <td>I'm Yours</td>\n",
       "      <td>1EzrEOXmMH3G43AXT1y7pA</td>\n",
       "      <td>83</td>\n",
       "    </tr>\n",
       "    <tr>\n",
       "      <th>2</th>\n",
       "      <td>Kanye West</td>\n",
       "      <td>Heartless</td>\n",
       "      <td>4EWCNWgDS8707fNSZ1oaA5</td>\n",
       "      <td>75</td>\n",
       "    </tr>\n",
       "    <tr>\n",
       "      <th>3</th>\n",
       "      <td>The Script</td>\n",
       "      <td>Breakeven</td>\n",
       "      <td>38xWaVFKaxZlMFvzNff2aW</td>\n",
       "      <td>75</td>\n",
       "    </tr>\n",
       "    <tr>\n",
       "      <th>4</th>\n",
       "      <td>Beyoncé</td>\n",
       "      <td>Halo</td>\n",
       "      <td>4JehYebiI9JE8sR8MisGVb</td>\n",
       "      <td>77</td>\n",
       "    </tr>\n",
       "  </tbody>\n",
       "</table>\n",
       "</div>"
      ],
      "text/plain": [
       "      artist_name     track_name                track_id  popularity\n",
       "0  Zac Brown Band  Chicken Fried  4dGJf1SER1T6ooX46vwzRB          76\n",
       "1      Jason Mraz      I'm Yours  1EzrEOXmMH3G43AXT1y7pA          83\n",
       "2      Kanye West      Heartless  4EWCNWgDS8707fNSZ1oaA5          75\n",
       "3      The Script      Breakeven  38xWaVFKaxZlMFvzNff2aW          75\n",
       "4         Beyoncé           Halo  4JehYebiI9JE8sR8MisGVb          77"
      ]
     },
     "execution_count": 204,
     "metadata": {},
     "output_type": "execute_result"
    }
   ],
   "source": [
    "df_top2008tracks = pd.DataFrame({'artist_name':artist_name,\n",
    "                              'track_name':track_name,\n",
    "                              'track_id':track_id,\n",
    "                              'popularity':popularity})\n",
    "print(df_top2008tracks.shape)\n",
    "df_top2008tracks.head()"
   ]
  },
  {
   "cell_type": "code",
   "execution_count": 273,
   "metadata": {},
   "outputs": [
    {
     "data": {
      "text/plain": [
       "675"
      ]
     },
     "execution_count": 273,
     "metadata": {},
     "output_type": "execute_result"
    }
   ],
   "source": [
    "grouped = df_top2008tracks.groupby(['artist_name','track_name'], as_index=True).size()\n",
    "grouped[grouped > 1].count()"
   ]
  },
  {
   "cell_type": "code",
   "execution_count": 274,
   "metadata": {},
   "outputs": [],
   "source": [
    "#dropping duplicates\n",
    "df_top2008tracks.drop_duplicates(subset=['artist_name','track_name'], inplace=True)"
   ]
  },
  {
   "cell_type": "code",
   "execution_count": 275,
   "metadata": {},
   "outputs": [
    {
     "data": {
      "text/plain": [
       "0"
      ]
     },
     "execution_count": 275,
     "metadata": {},
     "output_type": "execute_result"
    }
   ],
   "source": [
    "# doing the same grouping as before to verify the solution\n",
    "grouped_after_dropping = df_top2008tracks.groupby(['artist_name','track_name'], as_index=True).size()\n",
    "grouped_after_dropping[grouped_after_dropping > 1].count()"
   ]
  },
  {
   "cell_type": "code",
   "execution_count": 303,
   "metadata": {},
   "outputs": [
    {
     "data": {
      "text/plain": [
       "(9211, 4)"
      ]
     },
     "execution_count": 303,
     "metadata": {},
     "output_type": "execute_result"
    }
   ],
   "source": [
    "df_top2008tracks.shape"
   ]
  },
  {
   "cell_type": "markdown",
   "metadata": {},
   "source": [
    "## 2007"
   ]
  },
  {
   "cell_type": "code",
   "execution_count": 205,
   "metadata": {},
   "outputs": [
    {
     "name": "stdout",
     "output_type": "stream",
     "text": [
      "Time to run this code (in seconds): 194.75089371000286\n"
     ]
    }
   ],
   "source": [
    "start = timeit.default_timer()\n",
    "\n",
    "# create empty lists where the results are going to be stored\n",
    "artist_name = []\n",
    "track_name = []\n",
    "popularity = []\n",
    "track_id = []\n",
    "\n",
    "for i in range(0,10000,50):\n",
    "    track_results = sp.search(q='year:2007', type='track', limit=50,offset=i)\n",
    "    for i, t in enumerate(track_results['tracks']['items']):\n",
    "        artist_name.append(t['artists'][0]['name'])\n",
    "        track_name.append(t['name'])\n",
    "        track_id.append(t['id'])\n",
    "        popularity.append(t['popularity'])\n",
    "      \n",
    "\n",
    "stop = timeit.default_timer()\n",
    "print ('Time to run this code (in seconds):', stop - start)"
   ]
  },
  {
   "cell_type": "code",
   "execution_count": 206,
   "metadata": {},
   "outputs": [
    {
     "data": {
      "text/plain": [
       "10000"
      ]
     },
     "execution_count": 206,
     "metadata": {},
     "output_type": "execute_result"
    }
   ],
   "source": [
    "len(artist_name)"
   ]
  },
  {
   "cell_type": "code",
   "execution_count": 207,
   "metadata": {
    "scrolled": true
   },
   "outputs": [
    {
     "name": "stdout",
     "output_type": "stream",
     "text": [
      "(10000, 4)\n"
     ]
    },
    {
     "data": {
      "text/html": [
       "<div>\n",
       "<style scoped>\n",
       "    .dataframe tbody tr th:only-of-type {\n",
       "        vertical-align: middle;\n",
       "    }\n",
       "\n",
       "    .dataframe tbody tr th {\n",
       "        vertical-align: top;\n",
       "    }\n",
       "\n",
       "    .dataframe thead th {\n",
       "        text-align: right;\n",
       "    }\n",
       "</style>\n",
       "<table border=\"1\" class=\"dataframe\">\n",
       "  <thead>\n",
       "    <tr style=\"text-align: right;\">\n",
       "      <th></th>\n",
       "      <th>artist_name</th>\n",
       "      <th>track_name</th>\n",
       "      <th>track_id</th>\n",
       "      <th>popularity</th>\n",
       "    </tr>\n",
       "  </thead>\n",
       "  <tbody>\n",
       "    <tr>\n",
       "      <th>0</th>\n",
       "      <td>T-Pain</td>\n",
       "      <td>Buy U a Drank (Shawty Snappin')</td>\n",
       "      <td>2aIdVb8v9KTpEZnftkz2mD</td>\n",
       "      <td>76</td>\n",
       "    </tr>\n",
       "    <tr>\n",
       "      <th>1</th>\n",
       "      <td>Kanye West</td>\n",
       "      <td>Stronger</td>\n",
       "      <td>4fzsfWzRhPawzqhX8Qt9F3</td>\n",
       "      <td>79</td>\n",
       "    </tr>\n",
       "    <tr>\n",
       "      <th>2</th>\n",
       "      <td>Leona Lewis</td>\n",
       "      <td>Bleeding Love</td>\n",
       "      <td>7wZUrN8oemZfsEd1CGkbXE</td>\n",
       "      <td>79</td>\n",
       "    </tr>\n",
       "    <tr>\n",
       "      <th>3</th>\n",
       "      <td>MGMT</td>\n",
       "      <td>Electric Feel</td>\n",
       "      <td>3FtYbEfBqAlGO46NUDQSAt</td>\n",
       "      <td>76</td>\n",
       "    </tr>\n",
       "    <tr>\n",
       "      <th>4</th>\n",
       "      <td>Alicia Keys</td>\n",
       "      <td>No One</td>\n",
       "      <td>6IwKcFdiRQZOWeYNhUiWIv</td>\n",
       "      <td>79</td>\n",
       "    </tr>\n",
       "  </tbody>\n",
       "</table>\n",
       "</div>"
      ],
      "text/plain": [
       "   artist_name                       track_name                track_id  \\\n",
       "0       T-Pain  Buy U a Drank (Shawty Snappin')  2aIdVb8v9KTpEZnftkz2mD   \n",
       "1   Kanye West                         Stronger  4fzsfWzRhPawzqhX8Qt9F3   \n",
       "2  Leona Lewis                    Bleeding Love  7wZUrN8oemZfsEd1CGkbXE   \n",
       "3         MGMT                    Electric Feel  3FtYbEfBqAlGO46NUDQSAt   \n",
       "4  Alicia Keys                           No One  6IwKcFdiRQZOWeYNhUiWIv   \n",
       "\n",
       "   popularity  \n",
       "0          76  \n",
       "1          79  \n",
       "2          79  \n",
       "3          76  \n",
       "4          79  "
      ]
     },
     "execution_count": 207,
     "metadata": {},
     "output_type": "execute_result"
    }
   ],
   "source": [
    "df_top2007tracks = pd.DataFrame({'artist_name':artist_name,\n",
    "                              'track_name':track_name,\n",
    "                              'track_id':track_id,\n",
    "                              'popularity':popularity})\n",
    "print(df_top2007tracks.shape)\n",
    "df_top2007tracks.head()"
   ]
  },
  {
   "cell_type": "code",
   "execution_count": 240,
   "metadata": {},
   "outputs": [
    {
     "data": {
      "text/plain": [
       "459"
      ]
     },
     "execution_count": 240,
     "metadata": {},
     "output_type": "execute_result"
    }
   ],
   "source": [
    "grouped = df_top2007tracks.groupby(['artist_name','track_name'], as_index=True).size()\n",
    "grouped[grouped > 1].count()"
   ]
  },
  {
   "cell_type": "code",
   "execution_count": 276,
   "metadata": {},
   "outputs": [],
   "source": [
    "#dropping duplicates\n",
    "df_top2007tracks.drop_duplicates(subset=['artist_name','track_name'], inplace=True)"
   ]
  },
  {
   "cell_type": "code",
   "execution_count": 277,
   "metadata": {},
   "outputs": [
    {
     "data": {
      "text/plain": [
       "0"
      ]
     },
     "execution_count": 277,
     "metadata": {},
     "output_type": "execute_result"
    }
   ],
   "source": [
    "# doing the same grouping as before to verify the solution\n",
    "grouped_after_dropping = df_top2007tracks.groupby(['artist_name','track_name'], as_index=True).size()\n",
    "grouped_after_dropping[grouped_after_dropping > 1].count()"
   ]
  },
  {
   "cell_type": "code",
   "execution_count": 304,
   "metadata": {},
   "outputs": [
    {
     "data": {
      "text/plain": [
       "(9516, 4)"
      ]
     },
     "execution_count": 304,
     "metadata": {},
     "output_type": "execute_result"
    }
   ],
   "source": [
    "df_top2007tracks.shape"
   ]
  },
  {
   "cell_type": "markdown",
   "metadata": {},
   "source": [
    "## 2006"
   ]
  },
  {
   "cell_type": "code",
   "execution_count": 208,
   "metadata": {},
   "outputs": [
    {
     "name": "stdout",
     "output_type": "stream",
     "text": [
      "Time to run this code (in seconds): 172.23615918500218\n"
     ]
    }
   ],
   "source": [
    "start = timeit.default_timer()\n",
    "\n",
    "# create empty lists where the results are going to be stored\n",
    "artist_name = []\n",
    "track_name = []\n",
    "popularity = []\n",
    "track_id = []\n",
    "\n",
    "for i in range(0,10000,50):\n",
    "    track_results = sp.search(q='year:2006', type='track', limit=50,offset=i)\n",
    "    for i, t in enumerate(track_results['tracks']['items']):\n",
    "        artist_name.append(t['artists'][0]['name'])\n",
    "        track_name.append(t['name'])\n",
    "        track_id.append(t['id'])\n",
    "        popularity.append(t['popularity'])\n",
    "      \n",
    "\n",
    "stop = timeit.default_timer()\n",
    "print ('Time to run this code (in seconds):', stop - start)"
   ]
  },
  {
   "cell_type": "code",
   "execution_count": 209,
   "metadata": {},
   "outputs": [
    {
     "data": {
      "text/plain": [
       "10000"
      ]
     },
     "execution_count": 209,
     "metadata": {},
     "output_type": "execute_result"
    }
   ],
   "source": [
    "len(artist_name)"
   ]
  },
  {
   "cell_type": "code",
   "execution_count": 210,
   "metadata": {
    "scrolled": true
   },
   "outputs": [
    {
     "name": "stdout",
     "output_type": "stream",
     "text": [
      "(10000, 4)\n"
     ]
    },
    {
     "data": {
      "text/html": [
       "<div>\n",
       "<style scoped>\n",
       "    .dataframe tbody tr th:only-of-type {\n",
       "        vertical-align: middle;\n",
       "    }\n",
       "\n",
       "    .dataframe tbody tr th {\n",
       "        vertical-align: top;\n",
       "    }\n",
       "\n",
       "    .dataframe thead th {\n",
       "        text-align: right;\n",
       "    }\n",
       "</style>\n",
       "<table border=\"1\" class=\"dataframe\">\n",
       "  <thead>\n",
       "    <tr style=\"text-align: right;\">\n",
       "      <th></th>\n",
       "      <th>artist_name</th>\n",
       "      <th>track_name</th>\n",
       "      <th>track_id</th>\n",
       "      <th>popularity</th>\n",
       "    </tr>\n",
       "  </thead>\n",
       "  <tbody>\n",
       "    <tr>\n",
       "      <th>0</th>\n",
       "      <td>Snow Patrol</td>\n",
       "      <td>Chasing Cars</td>\n",
       "      <td>11bD1JtSjlIgKgZG2134DZ</td>\n",
       "      <td>77</td>\n",
       "    </tr>\n",
       "    <tr>\n",
       "      <th>1</th>\n",
       "      <td>Fergie</td>\n",
       "      <td>Fergalicious</td>\n",
       "      <td>1D066zixBwqFYqBhKgdPzp</td>\n",
       "      <td>70</td>\n",
       "    </tr>\n",
       "    <tr>\n",
       "      <th>2</th>\n",
       "      <td>Ne-Yo</td>\n",
       "      <td>So Sick</td>\n",
       "      <td>6brl7bwOHmGFkNw3MBqssT</td>\n",
       "      <td>77</td>\n",
       "    </tr>\n",
       "    <tr>\n",
       "      <th>3</th>\n",
       "      <td>Corinne Bailey Rae</td>\n",
       "      <td>Put Your Records On</td>\n",
       "      <td>2nGFzvICaeEWjIrBrL2RAx</td>\n",
       "      <td>77</td>\n",
       "    </tr>\n",
       "    <tr>\n",
       "      <th>4</th>\n",
       "      <td>Akon</td>\n",
       "      <td>Smack That</td>\n",
       "      <td>2kQuhkFX7uSVepCD3h29g5</td>\n",
       "      <td>71</td>\n",
       "    </tr>\n",
       "  </tbody>\n",
       "</table>\n",
       "</div>"
      ],
      "text/plain": [
       "          artist_name           track_name                track_id  popularity\n",
       "0         Snow Patrol         Chasing Cars  11bD1JtSjlIgKgZG2134DZ          77\n",
       "1              Fergie         Fergalicious  1D066zixBwqFYqBhKgdPzp          70\n",
       "2               Ne-Yo              So Sick  6brl7bwOHmGFkNw3MBqssT          77\n",
       "3  Corinne Bailey Rae  Put Your Records On  2nGFzvICaeEWjIrBrL2RAx          77\n",
       "4                Akon           Smack That  2kQuhkFX7uSVepCD3h29g5          71"
      ]
     },
     "execution_count": 210,
     "metadata": {},
     "output_type": "execute_result"
    }
   ],
   "source": [
    "df_top2006tracks = pd.DataFrame({'artist_name':artist_name,\n",
    "                              'track_name':track_name,\n",
    "                              'track_id':track_id,\n",
    "                              'popularity':popularity})\n",
    "print(df_top2006tracks.shape)\n",
    "df_top2006tracks.head()"
   ]
  },
  {
   "cell_type": "code",
   "execution_count": 241,
   "metadata": {},
   "outputs": [
    {
     "data": {
      "text/plain": [
       "604"
      ]
     },
     "execution_count": 241,
     "metadata": {},
     "output_type": "execute_result"
    }
   ],
   "source": [
    "grouped = df_top2006tracks.groupby(['artist_name','track_name'], as_index=True).size()\n",
    "grouped[grouped > 1].count()"
   ]
  },
  {
   "cell_type": "code",
   "execution_count": 278,
   "metadata": {},
   "outputs": [],
   "source": [
    "#dropping duplicates\n",
    "df_top2006tracks.drop_duplicates(subset=['artist_name','track_name'], inplace=True)"
   ]
  },
  {
   "cell_type": "code",
   "execution_count": 279,
   "metadata": {},
   "outputs": [
    {
     "data": {
      "text/plain": [
       "0"
      ]
     },
     "execution_count": 279,
     "metadata": {},
     "output_type": "execute_result"
    }
   ],
   "source": [
    "# doing the same grouping as before to verify the solution\n",
    "grouped_after_dropping = df_top2006tracks.groupby(['artist_name','track_name'], as_index=True).size()\n",
    "grouped_after_dropping[grouped_after_dropping > 1].count()"
   ]
  },
  {
   "cell_type": "code",
   "execution_count": 305,
   "metadata": {},
   "outputs": [
    {
     "data": {
      "text/plain": [
       "(9358, 4)"
      ]
     },
     "execution_count": 305,
     "metadata": {},
     "output_type": "execute_result"
    }
   ],
   "source": [
    "df_top2006tracks.shape"
   ]
  },
  {
   "cell_type": "markdown",
   "metadata": {},
   "source": [
    "## 2005"
   ]
  },
  {
   "cell_type": "code",
   "execution_count": 211,
   "metadata": {},
   "outputs": [
    {
     "name": "stdout",
     "output_type": "stream",
     "text": [
      "Time to run this code (in seconds): 131.67505265100044\n"
     ]
    }
   ],
   "source": [
    "start = timeit.default_timer()\n",
    "\n",
    "# create empty lists where the results are going to be stored\n",
    "artist_name = []\n",
    "track_name = []\n",
    "popularity = []\n",
    "track_id = []\n",
    "\n",
    "for i in range(0,10000,50):\n",
    "    track_results = sp.search(q='year:2005', type='track', limit=50,offset=i)\n",
    "    for i, t in enumerate(track_results['tracks']['items']):\n",
    "        artist_name.append(t['artists'][0]['name'])\n",
    "        track_name.append(t['name'])\n",
    "        track_id.append(t['id'])\n",
    "        popularity.append(t['popularity'])\n",
    "      \n",
    "\n",
    "stop = timeit.default_timer()\n",
    "print ('Time to run this code (in seconds):', stop - start)"
   ]
  },
  {
   "cell_type": "code",
   "execution_count": 212,
   "metadata": {},
   "outputs": [
    {
     "data": {
      "text/plain": [
       "10000"
      ]
     },
     "execution_count": 212,
     "metadata": {},
     "output_type": "execute_result"
    }
   ],
   "source": [
    "len(artist_name)"
   ]
  },
  {
   "cell_type": "code",
   "execution_count": 213,
   "metadata": {
    "scrolled": true
   },
   "outputs": [
    {
     "name": "stdout",
     "output_type": "stream",
     "text": [
      "(10000, 4)\n"
     ]
    },
    {
     "data": {
      "text/html": [
       "<div>\n",
       "<style scoped>\n",
       "    .dataframe tbody tr th:only-of-type {\n",
       "        vertical-align: middle;\n",
       "    }\n",
       "\n",
       "    .dataframe tbody tr th {\n",
       "        vertical-align: top;\n",
       "    }\n",
       "\n",
       "    .dataframe thead th {\n",
       "        text-align: right;\n",
       "    }\n",
       "</style>\n",
       "<table border=\"1\" class=\"dataframe\">\n",
       "  <thead>\n",
       "    <tr style=\"text-align: right;\">\n",
       "      <th></th>\n",
       "      <th>artist_name</th>\n",
       "      <th>track_name</th>\n",
       "      <th>track_id</th>\n",
       "      <th>popularity</th>\n",
       "    </tr>\n",
       "  </thead>\n",
       "  <tbody>\n",
       "    <tr>\n",
       "      <th>0</th>\n",
       "      <td>Panic! At The Disco</td>\n",
       "      <td>I Write Sins Not Tragedies</td>\n",
       "      <td>4bPQs0PHn4xbipzdPfn6du</td>\n",
       "      <td>75</td>\n",
       "    </tr>\n",
       "    <tr>\n",
       "      <th>1</th>\n",
       "      <td>Fall Out Boy</td>\n",
       "      <td>Sugar, We're Goin Down</td>\n",
       "      <td>2TfSHkHiFO4gRztVIkggkE</td>\n",
       "      <td>77</td>\n",
       "    </tr>\n",
       "    <tr>\n",
       "      <th>2</th>\n",
       "      <td>Plain White T's</td>\n",
       "      <td>Hey There Delilah</td>\n",
       "      <td>4RCWB3V8V0dignt99LZ8vH</td>\n",
       "      <td>79</td>\n",
       "    </tr>\n",
       "    <tr>\n",
       "      <th>3</th>\n",
       "      <td>Kanye West</td>\n",
       "      <td>Gold Digger</td>\n",
       "      <td>1PS1QMdUqOal0ai3Gt7sDQ</td>\n",
       "      <td>78</td>\n",
       "    </tr>\n",
       "    <tr>\n",
       "      <th>4</th>\n",
       "      <td>Eminem</td>\n",
       "      <td>Lose Yourself - From \"8 Mile\" Soundtrack</td>\n",
       "      <td>5Z01UMMf7V1o0MzF86s6WJ</td>\n",
       "      <td>77</td>\n",
       "    </tr>\n",
       "  </tbody>\n",
       "</table>\n",
       "</div>"
      ],
      "text/plain": [
       "           artist_name                                track_name  \\\n",
       "0  Panic! At The Disco                I Write Sins Not Tragedies   \n",
       "1         Fall Out Boy                    Sugar, We're Goin Down   \n",
       "2      Plain White T's                         Hey There Delilah   \n",
       "3           Kanye West                               Gold Digger   \n",
       "4               Eminem  Lose Yourself - From \"8 Mile\" Soundtrack   \n",
       "\n",
       "                 track_id  popularity  \n",
       "0  4bPQs0PHn4xbipzdPfn6du          75  \n",
       "1  2TfSHkHiFO4gRztVIkggkE          77  \n",
       "2  4RCWB3V8V0dignt99LZ8vH          79  \n",
       "3  1PS1QMdUqOal0ai3Gt7sDQ          78  \n",
       "4  5Z01UMMf7V1o0MzF86s6WJ          77  "
      ]
     },
     "execution_count": 213,
     "metadata": {},
     "output_type": "execute_result"
    }
   ],
   "source": [
    "df_top2005tracks = pd.DataFrame({'artist_name':artist_name,\n",
    "                              'track_name':track_name,\n",
    "                              'track_id':track_id,\n",
    "                              'popularity':popularity})\n",
    "print(df_top2005tracks.shape)\n",
    "df_top2005tracks.head()"
   ]
  },
  {
   "cell_type": "code",
   "execution_count": 242,
   "metadata": {},
   "outputs": [
    {
     "data": {
      "text/plain": [
       "373"
      ]
     },
     "execution_count": 242,
     "metadata": {},
     "output_type": "execute_result"
    }
   ],
   "source": [
    "grouped = df_top2005tracks.groupby(['artist_name','track_name'], as_index=True).size()\n",
    "grouped[grouped > 1].count()"
   ]
  },
  {
   "cell_type": "code",
   "execution_count": 280,
   "metadata": {},
   "outputs": [],
   "source": [
    "#dropping duplicates\n",
    "df_top2005tracks.drop_duplicates(subset=['artist_name','track_name'], inplace=True)"
   ]
  },
  {
   "cell_type": "code",
   "execution_count": 281,
   "metadata": {},
   "outputs": [
    {
     "data": {
      "text/plain": [
       "0"
      ]
     },
     "execution_count": 281,
     "metadata": {},
     "output_type": "execute_result"
    }
   ],
   "source": [
    "# doing the same grouping as before to verify the solution\n",
    "grouped_after_dropping = df_top2005tracks.groupby(['artist_name','track_name'], as_index=True).size()\n",
    "grouped_after_dropping[grouped_after_dropping > 1].count()"
   ]
  },
  {
   "cell_type": "code",
   "execution_count": 306,
   "metadata": {},
   "outputs": [
    {
     "data": {
      "text/plain": [
       "(9597, 4)"
      ]
     },
     "execution_count": 306,
     "metadata": {},
     "output_type": "execute_result"
    }
   ],
   "source": [
    "df_top2005tracks.shape"
   ]
  },
  {
   "cell_type": "markdown",
   "metadata": {},
   "source": [
    "## 2004"
   ]
  },
  {
   "cell_type": "code",
   "execution_count": 214,
   "metadata": {},
   "outputs": [
    {
     "name": "stdout",
     "output_type": "stream",
     "text": [
      "Time to run this code (in seconds): 122.37952402399969\n"
     ]
    }
   ],
   "source": [
    "start = timeit.default_timer()\n",
    "\n",
    "# create empty lists where the results are going to be stored\n",
    "artist_name = []\n",
    "track_name = []\n",
    "popularity = []\n",
    "track_id = []\n",
    "\n",
    "for i in range(0,10000,50):\n",
    "    track_results = sp.search(q='year:2004', type='track', limit=50,offset=i)\n",
    "    for i, t in enumerate(track_results['tracks']['items']):\n",
    "        artist_name.append(t['artists'][0]['name'])\n",
    "        track_name.append(t['name'])\n",
    "        track_id.append(t['id'])\n",
    "        popularity.append(t['popularity'])\n",
    "      \n",
    "\n",
    "stop = timeit.default_timer()\n",
    "print ('Time to run this code (in seconds):', stop - start)"
   ]
  },
  {
   "cell_type": "code",
   "execution_count": 215,
   "metadata": {},
   "outputs": [
    {
     "data": {
      "text/plain": [
       "10000"
      ]
     },
     "execution_count": 215,
     "metadata": {},
     "output_type": "execute_result"
    }
   ],
   "source": [
    "len(artist_name)"
   ]
  },
  {
   "cell_type": "code",
   "execution_count": 216,
   "metadata": {
    "scrolled": true
   },
   "outputs": [
    {
     "name": "stdout",
     "output_type": "stream",
     "text": [
      "(10000, 4)\n"
     ]
    },
    {
     "data": {
      "text/html": [
       "<div>\n",
       "<style scoped>\n",
       "    .dataframe tbody tr th:only-of-type {\n",
       "        vertical-align: middle;\n",
       "    }\n",
       "\n",
       "    .dataframe tbody tr th {\n",
       "        vertical-align: top;\n",
       "    }\n",
       "\n",
       "    .dataframe thead th {\n",
       "        text-align: right;\n",
       "    }\n",
       "</style>\n",
       "<table border=\"1\" class=\"dataframe\">\n",
       "  <thead>\n",
       "    <tr style=\"text-align: right;\">\n",
       "      <th></th>\n",
       "      <th>artist_name</th>\n",
       "      <th>track_name</th>\n",
       "      <th>track_id</th>\n",
       "      <th>popularity</th>\n",
       "    </tr>\n",
       "  </thead>\n",
       "  <tbody>\n",
       "    <tr>\n",
       "      <th>0</th>\n",
       "      <td>The Killers</td>\n",
       "      <td>Mr. Brightside</td>\n",
       "      <td>7oK9VyNzrYvRFo7nQEYkWN</td>\n",
       "      <td>78</td>\n",
       "    </tr>\n",
       "    <tr>\n",
       "      <th>1</th>\n",
       "      <td>Mario</td>\n",
       "      <td>Let Me Love You</td>\n",
       "      <td>3ibKnFDaa3GhpPGlOUj7ff</td>\n",
       "      <td>78</td>\n",
       "    </tr>\n",
       "    <tr>\n",
       "      <th>2</th>\n",
       "      <td>Usher</td>\n",
       "      <td>Yeah! (feat. Lil Jon &amp; Ludacris)</td>\n",
       "      <td>5rb9QrpfcKFHM1EUbSIurX</td>\n",
       "      <td>79</td>\n",
       "    </tr>\n",
       "    <tr>\n",
       "      <th>3</th>\n",
       "      <td>Ciara</td>\n",
       "      <td>One, Two Step</td>\n",
       "      <td>7uKcScNXuO3MWw6LowBjW1</td>\n",
       "      <td>74</td>\n",
       "    </tr>\n",
       "    <tr>\n",
       "      <th>4</th>\n",
       "      <td>Kelly Clarkson</td>\n",
       "      <td>Since U Been Gone</td>\n",
       "      <td>3xrn9i8zhNZsTtcoWgQEAd</td>\n",
       "      <td>73</td>\n",
       "    </tr>\n",
       "  </tbody>\n",
       "</table>\n",
       "</div>"
      ],
      "text/plain": [
       "      artist_name                        track_name                track_id  \\\n",
       "0     The Killers                    Mr. Brightside  7oK9VyNzrYvRFo7nQEYkWN   \n",
       "1           Mario                   Let Me Love You  3ibKnFDaa3GhpPGlOUj7ff   \n",
       "2           Usher  Yeah! (feat. Lil Jon & Ludacris)  5rb9QrpfcKFHM1EUbSIurX   \n",
       "3           Ciara                     One, Two Step  7uKcScNXuO3MWw6LowBjW1   \n",
       "4  Kelly Clarkson                 Since U Been Gone  3xrn9i8zhNZsTtcoWgQEAd   \n",
       "\n",
       "   popularity  \n",
       "0          78  \n",
       "1          78  \n",
       "2          79  \n",
       "3          74  \n",
       "4          73  "
      ]
     },
     "execution_count": 216,
     "metadata": {},
     "output_type": "execute_result"
    }
   ],
   "source": [
    "df_top2004tracks = pd.DataFrame({'artist_name':artist_name,\n",
    "                              'track_name':track_name,\n",
    "                              'track_id':track_id,\n",
    "                              'popularity':popularity})\n",
    "print(df_top2004tracks.shape)\n",
    "df_top2004tracks.head()"
   ]
  },
  {
   "cell_type": "code",
   "execution_count": 244,
   "metadata": {},
   "outputs": [
    {
     "data": {
      "text/plain": [
       "435"
      ]
     },
     "execution_count": 244,
     "metadata": {},
     "output_type": "execute_result"
    }
   ],
   "source": [
    "grouped = df_top2004tracks.groupby(['artist_name','track_name'], as_index=True).size()\n",
    "grouped[grouped > 1].count()"
   ]
  },
  {
   "cell_type": "code",
   "execution_count": 282,
   "metadata": {},
   "outputs": [],
   "source": [
    "#dropping duplicates\n",
    "df_top2004tracks.drop_duplicates(subset=['artist_name','track_name'], inplace=True)"
   ]
  },
  {
   "cell_type": "code",
   "execution_count": 283,
   "metadata": {},
   "outputs": [
    {
     "data": {
      "text/plain": [
       "0"
      ]
     },
     "execution_count": 283,
     "metadata": {},
     "output_type": "execute_result"
    }
   ],
   "source": [
    "# doing the same grouping as before to verify the solution\n",
    "grouped_after_dropping = df_top2004tracks.groupby(['artist_name','track_name'], as_index=True).size()\n",
    "grouped_after_dropping[grouped_after_dropping > 1].count()"
   ]
  },
  {
   "cell_type": "code",
   "execution_count": 307,
   "metadata": {},
   "outputs": [
    {
     "data": {
      "text/plain": [
       "(9536, 4)"
      ]
     },
     "execution_count": 307,
     "metadata": {},
     "output_type": "execute_result"
    }
   ],
   "source": [
    "df_top2004tracks.shape"
   ]
  },
  {
   "cell_type": "markdown",
   "metadata": {},
   "source": [
    "## 2003"
   ]
  },
  {
   "cell_type": "code",
   "execution_count": 217,
   "metadata": {},
   "outputs": [
    {
     "name": "stdout",
     "output_type": "stream",
     "text": [
      "Time to run this code (in seconds): 82.34711944199807\n"
     ]
    }
   ],
   "source": [
    "start = timeit.default_timer()\n",
    "\n",
    "# create empty lists where the results are going to be stored\n",
    "artist_name = []\n",
    "track_name = []\n",
    "popularity = []\n",
    "track_id = []\n",
    "\n",
    "for i in range(0,10000,50):\n",
    "    track_results = sp.search(q='year:2003', type='track', limit=50,offset=i)\n",
    "    for i, t in enumerate(track_results['tracks']['items']):\n",
    "        artist_name.append(t['artists'][0]['name'])\n",
    "        track_name.append(t['name'])\n",
    "        track_id.append(t['id'])\n",
    "        popularity.append(t['popularity'])\n",
    "      \n",
    "\n",
    "stop = timeit.default_timer()\n",
    "print ('Time to run this code (in seconds):', stop - start)"
   ]
  },
  {
   "cell_type": "code",
   "execution_count": 218,
   "metadata": {},
   "outputs": [
    {
     "data": {
      "text/plain": [
       "10000"
      ]
     },
     "execution_count": 218,
     "metadata": {},
     "output_type": "execute_result"
    }
   ],
   "source": [
    "len(artist_name)"
   ]
  },
  {
   "cell_type": "code",
   "execution_count": 219,
   "metadata": {
    "scrolled": true
   },
   "outputs": [
    {
     "name": "stdout",
     "output_type": "stream",
     "text": [
      "(10000, 4)\n"
     ]
    },
    {
     "data": {
      "text/html": [
       "<div>\n",
       "<style scoped>\n",
       "    .dataframe tbody tr th:only-of-type {\n",
       "        vertical-align: middle;\n",
       "    }\n",
       "\n",
       "    .dataframe tbody tr th {\n",
       "        vertical-align: top;\n",
       "    }\n",
       "\n",
       "    .dataframe thead th {\n",
       "        text-align: right;\n",
       "    }\n",
       "</style>\n",
       "<table border=\"1\" class=\"dataframe\">\n",
       "  <thead>\n",
       "    <tr style=\"text-align: right;\">\n",
       "      <th></th>\n",
       "      <th>artist_name</th>\n",
       "      <th>track_name</th>\n",
       "      <th>track_id</th>\n",
       "      <th>popularity</th>\n",
       "    </tr>\n",
       "  </thead>\n",
       "  <tbody>\n",
       "    <tr>\n",
       "      <th>0</th>\n",
       "      <td>The White Stripes</td>\n",
       "      <td>Seven Nation Army</td>\n",
       "      <td>7i6r9KotUPQg3ozKKgEPIN</td>\n",
       "      <td>74</td>\n",
       "    </tr>\n",
       "    <tr>\n",
       "      <th>1</th>\n",
       "      <td>Alicia Keys</td>\n",
       "      <td>If I Ain't Got You</td>\n",
       "      <td>3XVBdLihbNbxUwZosxcGuJ</td>\n",
       "      <td>78</td>\n",
       "    </tr>\n",
       "    <tr>\n",
       "      <th>2</th>\n",
       "      <td>Linkin Park</td>\n",
       "      <td>Numb</td>\n",
       "      <td>2nLtzopw4rPReszdYBJU6h</td>\n",
       "      <td>80</td>\n",
       "    </tr>\n",
       "    <tr>\n",
       "      <th>3</th>\n",
       "      <td>OutKast</td>\n",
       "      <td>Hey Ya!</td>\n",
       "      <td>2PpruBYCo4H7WOBJ7Q2EwM</td>\n",
       "      <td>77</td>\n",
       "    </tr>\n",
       "    <tr>\n",
       "      <th>4</th>\n",
       "      <td>50 Cent</td>\n",
       "      <td>In Da Club</td>\n",
       "      <td>4RY96Asd9IefaL3X4LOLZ8</td>\n",
       "      <td>71</td>\n",
       "    </tr>\n",
       "  </tbody>\n",
       "</table>\n",
       "</div>"
      ],
      "text/plain": [
       "         artist_name          track_name                track_id  popularity\n",
       "0  The White Stripes   Seven Nation Army  7i6r9KotUPQg3ozKKgEPIN          74\n",
       "1        Alicia Keys  If I Ain't Got You  3XVBdLihbNbxUwZosxcGuJ          78\n",
       "2        Linkin Park                Numb  2nLtzopw4rPReszdYBJU6h          80\n",
       "3            OutKast             Hey Ya!  2PpruBYCo4H7WOBJ7Q2EwM          77\n",
       "4            50 Cent          In Da Club  4RY96Asd9IefaL3X4LOLZ8          71"
      ]
     },
     "execution_count": 219,
     "metadata": {},
     "output_type": "execute_result"
    }
   ],
   "source": [
    "df_top2003tracks = pd.DataFrame({'artist_name':artist_name,\n",
    "                              'track_name':track_name,\n",
    "                              'track_id':track_id,\n",
    "                              'popularity':popularity})\n",
    "print(df_top2003tracks.shape)\n",
    "df_top2003tracks.head()"
   ]
  },
  {
   "cell_type": "code",
   "execution_count": 245,
   "metadata": {},
   "outputs": [
    {
     "data": {
      "text/plain": [
       "329"
      ]
     },
     "execution_count": 245,
     "metadata": {},
     "output_type": "execute_result"
    }
   ],
   "source": [
    "grouped = df_top2003tracks.groupby(['artist_name','track_name'], as_index=True).size()\n",
    "grouped[grouped > 1].count()"
   ]
  },
  {
   "cell_type": "code",
   "execution_count": 284,
   "metadata": {},
   "outputs": [],
   "source": [
    "#dropping duplicates\n",
    "df_top2003tracks.drop_duplicates(subset=['artist_name','track_name'], inplace=True)"
   ]
  },
  {
   "cell_type": "code",
   "execution_count": 285,
   "metadata": {},
   "outputs": [
    {
     "data": {
      "text/plain": [
       "0"
      ]
     },
     "execution_count": 285,
     "metadata": {},
     "output_type": "execute_result"
    }
   ],
   "source": [
    "# doing the same grouping as before to verify the solution\n",
    "grouped_after_dropping = df_top2003tracks.groupby(['artist_name','track_name'], as_index=True).size()\n",
    "grouped_after_dropping[grouped_after_dropping > 1].count()"
   ]
  },
  {
   "cell_type": "code",
   "execution_count": 308,
   "metadata": {},
   "outputs": [
    {
     "data": {
      "text/plain": [
       "(9654, 4)"
      ]
     },
     "execution_count": 308,
     "metadata": {},
     "output_type": "execute_result"
    }
   ],
   "source": [
    "df_top2003tracks.shape"
   ]
  },
  {
   "cell_type": "markdown",
   "metadata": {},
   "source": [
    "## 2002"
   ]
  },
  {
   "cell_type": "code",
   "execution_count": 220,
   "metadata": {},
   "outputs": [
    {
     "name": "stdout",
     "output_type": "stream",
     "text": [
      "Time to run this code (in seconds): 75.52724883100018\n"
     ]
    }
   ],
   "source": [
    "start = timeit.default_timer()\n",
    "\n",
    "# create empty lists where the results are going to be stored\n",
    "artist_name = []\n",
    "track_name = []\n",
    "popularity = []\n",
    "track_id = []\n",
    "\n",
    "for i in range(0,10000,50):\n",
    "    track_results = sp.search(q='year:2002', type='track', limit=50,offset=i)\n",
    "    for i, t in enumerate(track_results['tracks']['items']):\n",
    "        artist_name.append(t['artists'][0]['name'])\n",
    "        track_name.append(t['name'])\n",
    "        track_id.append(t['id'])\n",
    "        popularity.append(t['popularity'])\n",
    "      \n",
    "\n",
    "stop = timeit.default_timer()\n",
    "print ('Time to run this code (in seconds):', stop - start)"
   ]
  },
  {
   "cell_type": "code",
   "execution_count": 221,
   "metadata": {},
   "outputs": [
    {
     "data": {
      "text/plain": [
       "10000"
      ]
     },
     "execution_count": 221,
     "metadata": {},
     "output_type": "execute_result"
    }
   ],
   "source": [
    "len(artist_name)"
   ]
  },
  {
   "cell_type": "code",
   "execution_count": 222,
   "metadata": {
    "scrolled": true
   },
   "outputs": [
    {
     "name": "stdout",
     "output_type": "stream",
     "text": [
      "(10000, 4)\n"
     ]
    },
    {
     "data": {
      "text/html": [
       "<div>\n",
       "<style scoped>\n",
       "    .dataframe tbody tr th:only-of-type {\n",
       "        vertical-align: middle;\n",
       "    }\n",
       "\n",
       "    .dataframe tbody tr th {\n",
       "        vertical-align: top;\n",
       "    }\n",
       "\n",
       "    .dataframe thead th {\n",
       "        text-align: right;\n",
       "    }\n",
       "</style>\n",
       "<table border=\"1\" class=\"dataframe\">\n",
       "  <thead>\n",
       "    <tr style=\"text-align: right;\">\n",
       "      <th></th>\n",
       "      <th>artist_name</th>\n",
       "      <th>track_name</th>\n",
       "      <th>track_id</th>\n",
       "      <th>popularity</th>\n",
       "    </tr>\n",
       "  </thead>\n",
       "  <tbody>\n",
       "    <tr>\n",
       "      <th>0</th>\n",
       "      <td>Eminem</td>\n",
       "      <td>'Till I Collapse</td>\n",
       "      <td>4xkOaSrkexMciUUogZKVTS</td>\n",
       "      <td>83</td>\n",
       "    </tr>\n",
       "    <tr>\n",
       "      <th>1</th>\n",
       "      <td>Eminem</td>\n",
       "      <td>Without Me</td>\n",
       "      <td>7lQ8MOhq6IN2w8EYcFNSUk</td>\n",
       "      <td>81</td>\n",
       "    </tr>\n",
       "    <tr>\n",
       "      <th>2</th>\n",
       "      <td>Coldplay</td>\n",
       "      <td>The Scientist</td>\n",
       "      <td>75JFxkI2RXiU7L9VXzMkle</td>\n",
       "      <td>82</td>\n",
       "    </tr>\n",
       "    <tr>\n",
       "      <th>3</th>\n",
       "      <td>Nelly</td>\n",
       "      <td>Dilemma</td>\n",
       "      <td>0ARK753YaiJbpLUk7z5yIM</td>\n",
       "      <td>77</td>\n",
       "    </tr>\n",
       "    <tr>\n",
       "      <th>4</th>\n",
       "      <td>Maroon 5</td>\n",
       "      <td>She Will Be Loved - Radio Mix</td>\n",
       "      <td>4llK75pXNWZz6KAho2Gp16</td>\n",
       "      <td>80</td>\n",
       "    </tr>\n",
       "  </tbody>\n",
       "</table>\n",
       "</div>"
      ],
      "text/plain": [
       "  artist_name                     track_name                track_id  \\\n",
       "0      Eminem               'Till I Collapse  4xkOaSrkexMciUUogZKVTS   \n",
       "1      Eminem                     Without Me  7lQ8MOhq6IN2w8EYcFNSUk   \n",
       "2    Coldplay                  The Scientist  75JFxkI2RXiU7L9VXzMkle   \n",
       "3       Nelly                        Dilemma  0ARK753YaiJbpLUk7z5yIM   \n",
       "4    Maroon 5  She Will Be Loved - Radio Mix  4llK75pXNWZz6KAho2Gp16   \n",
       "\n",
       "   popularity  \n",
       "0          83  \n",
       "1          81  \n",
       "2          82  \n",
       "3          77  \n",
       "4          80  "
      ]
     },
     "execution_count": 222,
     "metadata": {},
     "output_type": "execute_result"
    }
   ],
   "source": [
    "df_top2002tracks = pd.DataFrame({'artist_name':artist_name,\n",
    "                              'track_name':track_name,\n",
    "                              'track_id':track_id,\n",
    "                              'popularity':popularity})\n",
    "print(df_top2002tracks.shape)\n",
    "df_top2002tracks.head()"
   ]
  },
  {
   "cell_type": "code",
   "execution_count": 246,
   "metadata": {},
   "outputs": [
    {
     "data": {
      "text/plain": [
       "341"
      ]
     },
     "execution_count": 246,
     "metadata": {},
     "output_type": "execute_result"
    }
   ],
   "source": [
    "grouped = df_top2002tracks.groupby(['artist_name','track_name'], as_index=True).size()\n",
    "grouped[grouped > 1].count()"
   ]
  },
  {
   "cell_type": "code",
   "execution_count": 286,
   "metadata": {},
   "outputs": [],
   "source": [
    "#dropping duplicates\n",
    "df_top2002tracks.drop_duplicates(subset=['artist_name','track_name'], inplace=True)"
   ]
  },
  {
   "cell_type": "code",
   "execution_count": 287,
   "metadata": {},
   "outputs": [
    {
     "data": {
      "text/plain": [
       "0"
      ]
     },
     "execution_count": 287,
     "metadata": {},
     "output_type": "execute_result"
    }
   ],
   "source": [
    "# doing the same grouping as before to verify the solution\n",
    "grouped_after_dropping = df_top2002tracks.groupby(['artist_name','track_name'], as_index=True).size()\n",
    "grouped_after_dropping[grouped_after_dropping > 1].count()"
   ]
  },
  {
   "cell_type": "code",
   "execution_count": 309,
   "metadata": {},
   "outputs": [
    {
     "data": {
      "text/plain": [
       "(9614, 4)"
      ]
     },
     "execution_count": 309,
     "metadata": {},
     "output_type": "execute_result"
    }
   ],
   "source": [
    "df_top2002tracks.shape"
   ]
  },
  {
   "cell_type": "markdown",
   "metadata": {},
   "source": [
    "## 2001"
   ]
  },
  {
   "cell_type": "code",
   "execution_count": 223,
   "metadata": {},
   "outputs": [
    {
     "name": "stdout",
     "output_type": "stream",
     "text": [
      "Time to run this code (in seconds): 76.27226712400079\n"
     ]
    }
   ],
   "source": [
    "start = timeit.default_timer()\n",
    "\n",
    "# create empty lists where the results are going to be stored\n",
    "artist_name = []\n",
    "track_name = []\n",
    "popularity = []\n",
    "track_id = []\n",
    "\n",
    "for i in range(0,10000,50):\n",
    "    track_results = sp.search(q='year:2001', type='track', limit=50,offset=i)\n",
    "    for i, t in enumerate(track_results['tracks']['items']):\n",
    "        artist_name.append(t['artists'][0]['name'])\n",
    "        track_name.append(t['name'])\n",
    "        track_id.append(t['id'])\n",
    "        popularity.append(t['popularity'])\n",
    "      \n",
    "\n",
    "stop = timeit.default_timer()\n",
    "print ('Time to run this code (in seconds):', stop - start)"
   ]
  },
  {
   "cell_type": "code",
   "execution_count": 224,
   "metadata": {},
   "outputs": [
    {
     "data": {
      "text/plain": [
       "10000"
      ]
     },
     "execution_count": 224,
     "metadata": {},
     "output_type": "execute_result"
    }
   ],
   "source": [
    "len(artist_name)"
   ]
  },
  {
   "cell_type": "code",
   "execution_count": 225,
   "metadata": {
    "scrolled": true
   },
   "outputs": [
    {
     "name": "stdout",
     "output_type": "stream",
     "text": [
      "(10000, 4)\n"
     ]
    },
    {
     "data": {
      "text/html": [
       "<div>\n",
       "<style scoped>\n",
       "    .dataframe tbody tr th:only-of-type {\n",
       "        vertical-align: middle;\n",
       "    }\n",
       "\n",
       "    .dataframe tbody tr th {\n",
       "        vertical-align: top;\n",
       "    }\n",
       "\n",
       "    .dataframe thead th {\n",
       "        text-align: right;\n",
       "    }\n",
       "</style>\n",
       "<table border=\"1\" class=\"dataframe\">\n",
       "  <thead>\n",
       "    <tr style=\"text-align: right;\">\n",
       "      <th></th>\n",
       "      <th>artist_name</th>\n",
       "      <th>track_name</th>\n",
       "      <th>track_id</th>\n",
       "      <th>popularity</th>\n",
       "    </tr>\n",
       "  </thead>\n",
       "  <tbody>\n",
       "    <tr>\n",
       "      <th>0</th>\n",
       "      <td>Train</td>\n",
       "      <td>Drops of Jupiter</td>\n",
       "      <td>2hKdd3qO7cWr2Jo0Bcs0MA</td>\n",
       "      <td>78</td>\n",
       "    </tr>\n",
       "    <tr>\n",
       "      <th>1</th>\n",
       "      <td>Weezer</td>\n",
       "      <td>Island In The Sun</td>\n",
       "      <td>2MLHyLy5z5l5YRp7momlgw</td>\n",
       "      <td>76</td>\n",
       "    </tr>\n",
       "    <tr>\n",
       "      <th>2</th>\n",
       "      <td>Jimmy Eat World</td>\n",
       "      <td>The Middle</td>\n",
       "      <td>6GG73Jik4jUlQCkKg9JuGO</td>\n",
       "      <td>76</td>\n",
       "    </tr>\n",
       "    <tr>\n",
       "      <th>3</th>\n",
       "      <td>Papa Roach</td>\n",
       "      <td>Last Resort</td>\n",
       "      <td>5W8YXBz9MTIDyrpYaCg2Ky</td>\n",
       "      <td>78</td>\n",
       "    </tr>\n",
       "    <tr>\n",
       "      <th>4</th>\n",
       "      <td>System Of A Down</td>\n",
       "      <td>Chop Suey!</td>\n",
       "      <td>2DlHlPMa4M17kufBvI2lEN</td>\n",
       "      <td>79</td>\n",
       "    </tr>\n",
       "  </tbody>\n",
       "</table>\n",
       "</div>"
      ],
      "text/plain": [
       "        artist_name         track_name                track_id  popularity\n",
       "0             Train   Drops of Jupiter  2hKdd3qO7cWr2Jo0Bcs0MA          78\n",
       "1            Weezer  Island In The Sun  2MLHyLy5z5l5YRp7momlgw          76\n",
       "2   Jimmy Eat World         The Middle  6GG73Jik4jUlQCkKg9JuGO          76\n",
       "3        Papa Roach        Last Resort  5W8YXBz9MTIDyrpYaCg2Ky          78\n",
       "4  System Of A Down         Chop Suey!  2DlHlPMa4M17kufBvI2lEN          79"
      ]
     },
     "execution_count": 225,
     "metadata": {},
     "output_type": "execute_result"
    }
   ],
   "source": [
    "df_top2001tracks = pd.DataFrame({'artist_name':artist_name,\n",
    "                              'track_name':track_name,\n",
    "                              'track_id':track_id,\n",
    "                              'popularity':popularity})\n",
    "print(df_top2001tracks.shape)\n",
    "df_top2001tracks.head()"
   ]
  },
  {
   "cell_type": "code",
   "execution_count": 247,
   "metadata": {},
   "outputs": [
    {
     "data": {
      "text/plain": [
       "311"
      ]
     },
     "execution_count": 247,
     "metadata": {},
     "output_type": "execute_result"
    }
   ],
   "source": [
    "grouped = df_top2001tracks.groupby(['artist_name','track_name'], as_index=True).size()\n",
    "grouped[grouped > 1].count()"
   ]
  },
  {
   "cell_type": "code",
   "execution_count": 288,
   "metadata": {},
   "outputs": [],
   "source": [
    "#dropping duplicates\n",
    "df_top2001tracks.drop_duplicates(subset=['artist_name','track_name'], inplace=True)"
   ]
  },
  {
   "cell_type": "code",
   "execution_count": 289,
   "metadata": {},
   "outputs": [
    {
     "data": {
      "text/plain": [
       "0"
      ]
     },
     "execution_count": 289,
     "metadata": {},
     "output_type": "execute_result"
    }
   ],
   "source": [
    "# doing the same grouping as before to verify the solution\n",
    "grouped_after_dropping = df_top2001tracks.groupby(['artist_name','track_name'], as_index=True).size()\n",
    "grouped_after_dropping[grouped_after_dropping > 1].count()"
   ]
  },
  {
   "cell_type": "code",
   "execution_count": 310,
   "metadata": {},
   "outputs": [
    {
     "data": {
      "text/plain": [
       "(9683, 4)"
      ]
     },
     "execution_count": 310,
     "metadata": {},
     "output_type": "execute_result"
    }
   ],
   "source": [
    "df_top2001tracks.shape"
   ]
  },
  {
   "cell_type": "markdown",
   "metadata": {},
   "source": [
    "## 2000"
   ]
  },
  {
   "cell_type": "code",
   "execution_count": 226,
   "metadata": {},
   "outputs": [
    {
     "name": "stdout",
     "output_type": "stream",
     "text": [
      "Time to run this code (in seconds): 123.525575828\n"
     ]
    }
   ],
   "source": [
    "start = timeit.default_timer()\n",
    "\n",
    "# create empty lists where the results are going to be stored\n",
    "artist_name = []\n",
    "track_name = []\n",
    "popularity = []\n",
    "track_id = []\n",
    "\n",
    "for i in range(0,10000,50):\n",
    "    track_results = sp.search(q='year:2000', type='track', limit=50,offset=i)\n",
    "    for i, t in enumerate(track_results['tracks']['items']):\n",
    "        artist_name.append(t['artists'][0]['name'])\n",
    "        track_name.append(t['name'])\n",
    "        track_id.append(t['id'])\n",
    "        popularity.append(t['popularity'])\n",
    "      \n",
    "\n",
    "stop = timeit.default_timer()\n",
    "print ('Time to run this code (in seconds):', stop - start)"
   ]
  },
  {
   "cell_type": "code",
   "execution_count": 227,
   "metadata": {},
   "outputs": [
    {
     "data": {
      "text/plain": [
       "10000"
      ]
     },
     "execution_count": 227,
     "metadata": {},
     "output_type": "execute_result"
    }
   ],
   "source": [
    "len(artist_name)"
   ]
  },
  {
   "cell_type": "code",
   "execution_count": 228,
   "metadata": {
    "scrolled": true
   },
   "outputs": [
    {
     "name": "stdout",
     "output_type": "stream",
     "text": [
      "(10000, 4)\n"
     ]
    },
    {
     "data": {
      "text/html": [
       "<div>\n",
       "<style scoped>\n",
       "    .dataframe tbody tr th:only-of-type {\n",
       "        vertical-align: middle;\n",
       "    }\n",
       "\n",
       "    .dataframe tbody tr th {\n",
       "        vertical-align: top;\n",
       "    }\n",
       "\n",
       "    .dataframe thead th {\n",
       "        text-align: right;\n",
       "    }\n",
       "</style>\n",
       "<table border=\"1\" class=\"dataframe\">\n",
       "  <thead>\n",
       "    <tr style=\"text-align: right;\">\n",
       "      <th></th>\n",
       "      <th>artist_name</th>\n",
       "      <th>track_name</th>\n",
       "      <th>track_id</th>\n",
       "      <th>popularity</th>\n",
       "    </tr>\n",
       "  </thead>\n",
       "  <tbody>\n",
       "    <tr>\n",
       "      <th>0</th>\n",
       "      <td>Linkin Park</td>\n",
       "      <td>In the End</td>\n",
       "      <td>60a0Rd6pjrkxjPbaKzXjfq</td>\n",
       "      <td>82</td>\n",
       "    </tr>\n",
       "    <tr>\n",
       "      <th>1</th>\n",
       "      <td>3 Doors Down</td>\n",
       "      <td>Kryptonite</td>\n",
       "      <td>6ZOBP3NvffbU4SZcrnt1k6</td>\n",
       "      <td>77</td>\n",
       "    </tr>\n",
       "    <tr>\n",
       "      <th>2</th>\n",
       "      <td>OutKast</td>\n",
       "      <td>Ms. Jackson</td>\n",
       "      <td>0I3q5fE6wg7LIfHGngUTnV</td>\n",
       "      <td>77</td>\n",
       "    </tr>\n",
       "    <tr>\n",
       "      <th>3</th>\n",
       "      <td>Eminem</td>\n",
       "      <td>The Real Slim Shady</td>\n",
       "      <td>3yfqSUWxFvZELEM4PmlwIR</td>\n",
       "      <td>78</td>\n",
       "    </tr>\n",
       "    <tr>\n",
       "      <th>4</th>\n",
       "      <td>*NSYNC</td>\n",
       "      <td>Bye Bye Bye</td>\n",
       "      <td>62bOmKYxYg7dhrC6gH9vFn</td>\n",
       "      <td>71</td>\n",
       "    </tr>\n",
       "  </tbody>\n",
       "</table>\n",
       "</div>"
      ],
      "text/plain": [
       "    artist_name           track_name                track_id  popularity\n",
       "0   Linkin Park           In the End  60a0Rd6pjrkxjPbaKzXjfq          82\n",
       "1  3 Doors Down           Kryptonite  6ZOBP3NvffbU4SZcrnt1k6          77\n",
       "2       OutKast          Ms. Jackson  0I3q5fE6wg7LIfHGngUTnV          77\n",
       "3        Eminem  The Real Slim Shady  3yfqSUWxFvZELEM4PmlwIR          78\n",
       "4        *NSYNC          Bye Bye Bye  62bOmKYxYg7dhrC6gH9vFn          71"
      ]
     },
     "execution_count": 228,
     "metadata": {},
     "output_type": "execute_result"
    }
   ],
   "source": [
    "df_top2000tracks = pd.DataFrame({'artist_name':artist_name,\n",
    "                              'track_name':track_name,\n",
    "                              'track_id':track_id,\n",
    "                              'popularity':popularity})\n",
    "print(df_top2000tracks.shape)\n",
    "df_top2000tracks.head()"
   ]
  },
  {
   "cell_type": "code",
   "execution_count": 248,
   "metadata": {},
   "outputs": [
    {
     "data": {
      "text/plain": [
       "258"
      ]
     },
     "execution_count": 248,
     "metadata": {},
     "output_type": "execute_result"
    }
   ],
   "source": [
    "grouped = df_top2000tracks.groupby(['artist_name','track_name'], as_index=True).size()\n",
    "grouped[grouped > 1].count()"
   ]
  },
  {
   "cell_type": "code",
   "execution_count": 290,
   "metadata": {},
   "outputs": [],
   "source": [
    "#dropping duplicates\n",
    "df_top2000tracks.drop_duplicates(subset=['artist_name','track_name'], inplace=True)"
   ]
  },
  {
   "cell_type": "code",
   "execution_count": 291,
   "metadata": {},
   "outputs": [
    {
     "data": {
      "text/plain": [
       "0"
      ]
     },
     "execution_count": 291,
     "metadata": {},
     "output_type": "execute_result"
    }
   ],
   "source": [
    "# doing the same grouping as before to verify the solution\n",
    "grouped_after_dropping = df_top2000tracks.groupby(['artist_name','track_name'], as_index=True).size()\n",
    "grouped_after_dropping[grouped_after_dropping > 1].count()"
   ]
  },
  {
   "cell_type": "code",
   "execution_count": 311,
   "metadata": {},
   "outputs": [
    {
     "data": {
      "text/plain": [
       "(9724, 4)"
      ]
     },
     "execution_count": 311,
     "metadata": {},
     "output_type": "execute_result"
    }
   ],
   "source": [
    "df_top2000tracks.shape"
   ]
  },
  {
   "cell_type": "markdown",
   "metadata": {},
   "source": [
    "# Concat All Years DF"
   ]
  },
  {
   "cell_type": "code",
   "execution_count": 312,
   "metadata": {},
   "outputs": [],
   "source": [
    "top_songs_2000to20019=pd.concat([df_top2019tracks,df_top2018tracks,\n",
    "                                 df_top2017tracks,df_top2016tracks,\n",
    "                                 df_top2015tracks,df_top2014tracks,\n",
    "                                 df_top2013tracks,df_top2012tracks,\n",
    "                                 df_top2011tracks,df_top2010tracks,\n",
    "                                 df_top2009tracks,df_top2008tracks,\n",
    "                                 df_top2007tracks,df_top2006tracks,\n",
    "                                 df_top2005tracks,df_top2004tracks,\n",
    "                                 df_top2003tracks,df_top2002tracks,\n",
    "                                 df_top2001tracks,df_top2000tracks], ignore_index=True)"
   ]
  },
  {
   "cell_type": "code",
   "execution_count": 314,
   "metadata": {},
   "outputs": [
    {
     "data": {
      "text/plain": [
       "(172318, 4)"
      ]
     },
     "execution_count": 314,
     "metadata": {},
     "output_type": "execute_result"
    }
   ],
   "source": [
    "top_songs_2000to20019.shape"
   ]
  },
  {
   "cell_type": "code",
   "execution_count": 315,
   "metadata": {},
   "outputs": [
    {
     "data": {
      "text/plain": [
       "5443"
      ]
     },
     "execution_count": 315,
     "metadata": {},
     "output_type": "execute_result"
    }
   ],
   "source": [
    "#checking for duplicates\n",
    "grouped = top_songs_2000to20019.groupby(['artist_name',\n",
    "                                         'track_name'], as_index=True).size()\n",
    "grouped[grouped > 1].count()"
   ]
  },
  {
   "cell_type": "code",
   "execution_count": 316,
   "metadata": {},
   "outputs": [],
   "source": [
    "#dropping duplicates\n",
    "top_songs_2000to20019.drop_duplicates(subset=['artist_name',\n",
    "                                              'track_name'], inplace=True)"
   ]
  },
  {
   "cell_type": "code",
   "execution_count": 317,
   "metadata": {},
   "outputs": [
    {
     "data": {
      "text/plain": [
       "0"
      ]
     },
     "execution_count": 317,
     "metadata": {},
     "output_type": "execute_result"
    }
   ],
   "source": [
    "# doing the same grouping as before to verify the solution\n",
    "grouped_after_dropping = top_songs_2000to20019.groupby(['artist_name',\n",
    "                                                        'track_name'],\n",
    "                                                       as_index=True).size()\n",
    "grouped_after_dropping[grouped_after_dropping > 1].count()"
   ]
  },
  {
   "cell_type": "code",
   "execution_count": 318,
   "metadata": {},
   "outputs": [
    {
     "data": {
      "text/plain": [
       "(166420, 4)"
      ]
     },
     "execution_count": 318,
     "metadata": {},
     "output_type": "execute_result"
    }
   ],
   "source": [
    "top_songs_2000to20019.shape"
   ]
  },
  {
   "cell_type": "code",
   "execution_count": 320,
   "metadata": {},
   "outputs": [
    {
     "data": {
      "text/html": [
       "<div>\n",
       "<style scoped>\n",
       "    .dataframe tbody tr th:only-of-type {\n",
       "        vertical-align: middle;\n",
       "    }\n",
       "\n",
       "    .dataframe tbody tr th {\n",
       "        vertical-align: top;\n",
       "    }\n",
       "\n",
       "    .dataframe thead th {\n",
       "        text-align: right;\n",
       "    }\n",
       "</style>\n",
       "<table border=\"1\" class=\"dataframe\">\n",
       "  <thead>\n",
       "    <tr style=\"text-align: right;\">\n",
       "      <th></th>\n",
       "      <th>artist_name</th>\n",
       "      <th>track_name</th>\n",
       "      <th>track_id</th>\n",
       "      <th>popularity</th>\n",
       "    </tr>\n",
       "  </thead>\n",
       "  <tbody>\n",
       "    <tr>\n",
       "      <th>0</th>\n",
       "      <td>Billie Eilish</td>\n",
       "      <td>bad guy</td>\n",
       "      <td>2Fxmhks0bxGSBdJ92vM42m</td>\n",
       "      <td>100</td>\n",
       "    </tr>\n",
       "  </tbody>\n",
       "</table>\n",
       "</div>"
      ],
      "text/plain": [
       "     artist_name track_name                track_id  popularity\n",
       "0  Billie Eilish    bad guy  2Fxmhks0bxGSBdJ92vM42m         100"
      ]
     },
     "execution_count": 320,
     "metadata": {},
     "output_type": "execute_result"
    }
   ],
   "source": [
    "top_songs_2000to20019.head(1)"
   ]
  },
  {
   "cell_type": "markdown",
   "metadata": {},
   "source": [
    "# Audio Features for Top Songs"
   ]
  },
  {
   "cell_type": "code",
   "execution_count": 327,
   "metadata": {},
   "outputs": [
    {
     "name": "stdout",
     "output_type": "stream",
     "text": [
      "Number of tracks where no audio features were available: 16\n",
      "Time to run this code (in seconds): 203.97036210499937\n"
     ]
    }
   ],
   "source": [
    "# again measuring the time\n",
    "start = timeit.default_timer()\n",
    "\n",
    "# empty list, batchsize and the counter for None results\n",
    "rows = []\n",
    "batchsize = 100\n",
    "None_counter = 0\n",
    "\n",
    "for i in range(0,len(top_songs_2000to20019['track_id']),batchsize):\n",
    "    batch = top_songs_2000to20019['track_id'][i:i+batchsize]\n",
    "    feature_results = sp.audio_features(batch)\n",
    "    for i, t in enumerate(feature_results):\n",
    "        if t == None:\n",
    "            None_counter = None_counter + 1\n",
    "        else:\n",
    "            rows.append(t)\n",
    "            \n",
    "print('Number of tracks where no audio features were available:',None_counter)\n",
    "\n",
    "stop = timeit.default_timer()\n",
    "print ('Time to run this code (in seconds):',stop - start)"
   ]
  },
  {
   "cell_type": "code",
   "execution_count": 328,
   "metadata": {},
   "outputs": [
    {
     "name": "stdout",
     "output_type": "stream",
     "text": [
      "number of elements in the track_id list: 166404\n"
     ]
    }
   ],
   "source": [
    "print('number of elements in the track_id list:', len(rows))"
   ]
  },
  {
   "cell_type": "code",
   "execution_count": 329,
   "metadata": {},
   "outputs": [
    {
     "name": "stdout",
     "output_type": "stream",
     "text": [
      "Shape of the dataset: (166404, 18)\n"
     ]
    },
    {
     "data": {
      "text/html": [
       "<div>\n",
       "<style scoped>\n",
       "    .dataframe tbody tr th:only-of-type {\n",
       "        vertical-align: middle;\n",
       "    }\n",
       "\n",
       "    .dataframe tbody tr th {\n",
       "        vertical-align: top;\n",
       "    }\n",
       "\n",
       "    .dataframe thead th {\n",
       "        text-align: right;\n",
       "    }\n",
       "</style>\n",
       "<table border=\"1\" class=\"dataframe\">\n",
       "  <thead>\n",
       "    <tr style=\"text-align: right;\">\n",
       "      <th></th>\n",
       "      <th>acousticness</th>\n",
       "      <th>analysis_url</th>\n",
       "      <th>danceability</th>\n",
       "      <th>duration_ms</th>\n",
       "      <th>energy</th>\n",
       "      <th>id</th>\n",
       "      <th>instrumentalness</th>\n",
       "      <th>key</th>\n",
       "      <th>liveness</th>\n",
       "      <th>loudness</th>\n",
       "      <th>mode</th>\n",
       "      <th>speechiness</th>\n",
       "      <th>tempo</th>\n",
       "      <th>time_signature</th>\n",
       "      <th>track_href</th>\n",
       "      <th>type</th>\n",
       "      <th>uri</th>\n",
       "      <th>valence</th>\n",
       "    </tr>\n",
       "  </thead>\n",
       "  <tbody>\n",
       "    <tr>\n",
       "      <th>0</th>\n",
       "      <td>0.3280</td>\n",
       "      <td>https://api.spotify.com/v1/audio-analysis/2Fxm...</td>\n",
       "      <td>0.701</td>\n",
       "      <td>194088</td>\n",
       "      <td>0.425</td>\n",
       "      <td>2Fxmhks0bxGSBdJ92vM42m</td>\n",
       "      <td>0.130000</td>\n",
       "      <td>7</td>\n",
       "      <td>0.1000</td>\n",
       "      <td>-10.965</td>\n",
       "      <td>1</td>\n",
       "      <td>0.3750</td>\n",
       "      <td>135.128</td>\n",
       "      <td>4</td>\n",
       "      <td>https://api.spotify.com/v1/tracks/2Fxmhks0bxGS...</td>\n",
       "      <td>audio_features</td>\n",
       "      <td>spotify:track:2Fxmhks0bxGSBdJ92vM42m</td>\n",
       "      <td>0.562</td>\n",
       "    </tr>\n",
       "    <tr>\n",
       "      <th>1</th>\n",
       "      <td>0.0533</td>\n",
       "      <td>https://api.spotify.com/v1/audio-analysis/6u7j...</td>\n",
       "      <td>0.878</td>\n",
       "      <td>157067</td>\n",
       "      <td>0.619</td>\n",
       "      <td>6u7jPi22kF8CTQ3rb9DHE7</td>\n",
       "      <td>0.000000</td>\n",
       "      <td>6</td>\n",
       "      <td>0.1130</td>\n",
       "      <td>-5.560</td>\n",
       "      <td>1</td>\n",
       "      <td>0.1020</td>\n",
       "      <td>136.041</td>\n",
       "      <td>4</td>\n",
       "      <td>https://api.spotify.com/v1/tracks/6u7jPi22kF8C...</td>\n",
       "      <td>audio_features</td>\n",
       "      <td>spotify:track:6u7jPi22kF8CTQ3rb9DHE7</td>\n",
       "      <td>0.639</td>\n",
       "    </tr>\n",
       "    <tr>\n",
       "      <th>2</th>\n",
       "      <td>0.0912</td>\n",
       "      <td>https://api.spotify.com/v1/audio-analysis/3HVW...</td>\n",
       "      <td>0.798</td>\n",
       "      <td>219947</td>\n",
       "      <td>0.675</td>\n",
       "      <td>3HVWdVOQ0ZA45FuZGSfvns</td>\n",
       "      <td>0.000000</td>\n",
       "      <td>6</td>\n",
       "      <td>0.0894</td>\n",
       "      <td>-5.041</td>\n",
       "      <td>1</td>\n",
       "      <td>0.0442</td>\n",
       "      <td>101.956</td>\n",
       "      <td>4</td>\n",
       "      <td>https://api.spotify.com/v1/tracks/3HVWdVOQ0ZA4...</td>\n",
       "      <td>audio_features</td>\n",
       "      <td>spotify:track:3HVWdVOQ0ZA45FuZGSfvns</td>\n",
       "      <td>0.842</td>\n",
       "    </tr>\n",
       "    <tr>\n",
       "      <th>3</th>\n",
       "      <td>0.0608</td>\n",
       "      <td>https://api.spotify.com/v1/audio-analysis/2gwk...</td>\n",
       "      <td>0.876</td>\n",
       "      <td>163320</td>\n",
       "      <td>0.662</td>\n",
       "      <td>2gwkD6igEhQbDQegRCcdoB</td>\n",
       "      <td>0.000000</td>\n",
       "      <td>2</td>\n",
       "      <td>0.1270</td>\n",
       "      <td>-6.482</td>\n",
       "      <td>0</td>\n",
       "      <td>0.4260</td>\n",
       "      <td>75.445</td>\n",
       "      <td>4</td>\n",
       "      <td>https://api.spotify.com/v1/tracks/2gwkD6igEhQb...</td>\n",
       "      <td>audio_features</td>\n",
       "      <td>spotify:track:2gwkD6igEhQbDQegRCcdoB</td>\n",
       "      <td>0.844</td>\n",
       "    </tr>\n",
       "    <tr>\n",
       "      <th>4</th>\n",
       "      <td>0.2300</td>\n",
       "      <td>https://api.spotify.com/v1/audio-analysis/5hVg...</td>\n",
       "      <td>0.554</td>\n",
       "      <td>190067</td>\n",
       "      <td>0.498</td>\n",
       "      <td>5hVghJ4KaYES3BFUATCYn0</td>\n",
       "      <td>0.000006</td>\n",
       "      <td>9</td>\n",
       "      <td>0.7950</td>\n",
       "      <td>-8.866</td>\n",
       "      <td>1</td>\n",
       "      <td>0.0685</td>\n",
       "      <td>79.635</td>\n",
       "      <td>4</td>\n",
       "      <td>https://api.spotify.com/v1/tracks/5hVghJ4KaYES...</td>\n",
       "      <td>audio_features</td>\n",
       "      <td>spotify:track:5hVghJ4KaYES3BFUATCYn0</td>\n",
       "      <td>0.413</td>\n",
       "    </tr>\n",
       "  </tbody>\n",
       "</table>\n",
       "</div>"
      ],
      "text/plain": [
       "   acousticness                                       analysis_url  \\\n",
       "0        0.3280  https://api.spotify.com/v1/audio-analysis/2Fxm...   \n",
       "1        0.0533  https://api.spotify.com/v1/audio-analysis/6u7j...   \n",
       "2        0.0912  https://api.spotify.com/v1/audio-analysis/3HVW...   \n",
       "3        0.0608  https://api.spotify.com/v1/audio-analysis/2gwk...   \n",
       "4        0.2300  https://api.spotify.com/v1/audio-analysis/5hVg...   \n",
       "\n",
       "   danceability  duration_ms  energy                      id  \\\n",
       "0         0.701       194088   0.425  2Fxmhks0bxGSBdJ92vM42m   \n",
       "1         0.878       157067   0.619  6u7jPi22kF8CTQ3rb9DHE7   \n",
       "2         0.798       219947   0.675  3HVWdVOQ0ZA45FuZGSfvns   \n",
       "3         0.876       163320   0.662  2gwkD6igEhQbDQegRCcdoB   \n",
       "4         0.554       190067   0.498  5hVghJ4KaYES3BFUATCYn0   \n",
       "\n",
       "   instrumentalness  key  liveness  loudness  mode  speechiness    tempo  \\\n",
       "0          0.130000    7    0.1000   -10.965     1       0.3750  135.128   \n",
       "1          0.000000    6    0.1130    -5.560     1       0.1020  136.041   \n",
       "2          0.000000    6    0.0894    -5.041     1       0.0442  101.956   \n",
       "3          0.000000    2    0.1270    -6.482     0       0.4260   75.445   \n",
       "4          0.000006    9    0.7950    -8.866     1       0.0685   79.635   \n",
       "\n",
       "   time_signature                                         track_href  \\\n",
       "0               4  https://api.spotify.com/v1/tracks/2Fxmhks0bxGS...   \n",
       "1               4  https://api.spotify.com/v1/tracks/6u7jPi22kF8C...   \n",
       "2               4  https://api.spotify.com/v1/tracks/3HVWdVOQ0ZA4...   \n",
       "3               4  https://api.spotify.com/v1/tracks/2gwkD6igEhQb...   \n",
       "4               4  https://api.spotify.com/v1/tracks/5hVghJ4KaYES...   \n",
       "\n",
       "             type                                   uri  valence  \n",
       "0  audio_features  spotify:track:2Fxmhks0bxGSBdJ92vM42m    0.562  \n",
       "1  audio_features  spotify:track:6u7jPi22kF8CTQ3rb9DHE7    0.639  \n",
       "2  audio_features  spotify:track:3HVWdVOQ0ZA45FuZGSfvns    0.842  \n",
       "3  audio_features  spotify:track:2gwkD6igEhQbDQegRCcdoB    0.844  \n",
       "4  audio_features  spotify:track:5hVghJ4KaYES3BFUATCYn0    0.413  "
      ]
     },
     "execution_count": 329,
     "metadata": {},
     "output_type": "execute_result"
    }
   ],
   "source": [
    "df_audio_features_top_songs = pd.DataFrame.from_dict(rows,orient='columns')\n",
    "print(\"Shape of the dataset:\", df_audio_features_top_songs.shape)\n",
    "df_audio_features_top_songs.head()"
   ]
  },
  {
   "cell_type": "code",
   "execution_count": 330,
   "metadata": {},
   "outputs": [
    {
     "name": "stdout",
     "output_type": "stream",
     "text": [
      "<class 'pandas.core.frame.DataFrame'>\n",
      "RangeIndex: 166404 entries, 0 to 166403\n",
      "Data columns (total 18 columns):\n",
      "acousticness        166404 non-null float64\n",
      "analysis_url        166404 non-null object\n",
      "danceability        166404 non-null float64\n",
      "duration_ms         166404 non-null int64\n",
      "energy              166404 non-null float64\n",
      "id                  166404 non-null object\n",
      "instrumentalness    166404 non-null float64\n",
      "key                 166404 non-null int64\n",
      "liveness            166404 non-null float64\n",
      "loudness            166404 non-null float64\n",
      "mode                166404 non-null int64\n",
      "speechiness         166404 non-null float64\n",
      "tempo               166404 non-null float64\n",
      "time_signature      166404 non-null int64\n",
      "track_href          166404 non-null object\n",
      "type                166404 non-null object\n",
      "uri                 166404 non-null object\n",
      "valence             166404 non-null float64\n",
      "dtypes: float64(9), int64(4), object(5)\n",
      "memory usage: 22.9+ MB\n"
     ]
    }
   ],
   "source": [
    "df_audio_features_top_songs.info()\n"
   ]
  },
  {
   "cell_type": "code",
   "execution_count": null,
   "metadata": {},
   "outputs": [],
   "source": [
    "#saving raw audio features dataset\n",
    "#df_audio_features_top_songs.to_csv(r'data/spotify_pool_df_v1.csv')"
   ]
  },
  {
   "cell_type": "code",
   "execution_count": 332,
   "metadata": {
    "scrolled": true
   },
   "outputs": [
    {
     "data": {
      "text/plain": [
       "(166404, 14)"
      ]
     },
     "execution_count": 332,
     "metadata": {},
     "output_type": "execute_result"
    }
   ],
   "source": [
    "columns_to_drop = ['analysis_url','track_href','type','uri']\n",
    "df_audio_features_top_songs.drop(columns_to_drop, axis=1,inplace=True)\n",
    "\n",
    "df_audio_features_top_songs.rename(columns={'id': 'track_id'}, inplace=True)\n",
    "\n",
    "df_audio_features_top_songs.shape"
   ]
  },
  {
   "cell_type": "code",
   "execution_count": 333,
   "metadata": {},
   "outputs": [
    {
     "name": "stdout",
     "output_type": "stream",
     "text": [
      "Shape of the dataset: (166404, 14)\n"
     ]
    },
    {
     "data": {
      "text/html": [
       "<div>\n",
       "<style scoped>\n",
       "    .dataframe tbody tr th:only-of-type {\n",
       "        vertical-align: middle;\n",
       "    }\n",
       "\n",
       "    .dataframe tbody tr th {\n",
       "        vertical-align: top;\n",
       "    }\n",
       "\n",
       "    .dataframe thead th {\n",
       "        text-align: right;\n",
       "    }\n",
       "</style>\n",
       "<table border=\"1\" class=\"dataframe\">\n",
       "  <thead>\n",
       "    <tr style=\"text-align: right;\">\n",
       "      <th></th>\n",
       "      <th>artist_name</th>\n",
       "      <th>track_name</th>\n",
       "      <th>track_id</th>\n",
       "      <th>popularity</th>\n",
       "      <th>acousticness</th>\n",
       "      <th>danceability</th>\n",
       "      <th>duration_ms</th>\n",
       "      <th>energy</th>\n",
       "      <th>instrumentalness</th>\n",
       "      <th>key</th>\n",
       "      <th>liveness</th>\n",
       "      <th>loudness</th>\n",
       "      <th>mode</th>\n",
       "      <th>speechiness</th>\n",
       "      <th>tempo</th>\n",
       "      <th>time_signature</th>\n",
       "      <th>valence</th>\n",
       "    </tr>\n",
       "  </thead>\n",
       "  <tbody>\n",
       "    <tr>\n",
       "      <th>0</th>\n",
       "      <td>Billie Eilish</td>\n",
       "      <td>bad guy</td>\n",
       "      <td>2Fxmhks0bxGSBdJ92vM42m</td>\n",
       "      <td>100</td>\n",
       "      <td>0.3280</td>\n",
       "      <td>0.701</td>\n",
       "      <td>194088</td>\n",
       "      <td>0.425</td>\n",
       "      <td>0.130000</td>\n",
       "      <td>7</td>\n",
       "      <td>0.1000</td>\n",
       "      <td>-10.965</td>\n",
       "      <td>1</td>\n",
       "      <td>0.3750</td>\n",
       "      <td>135.128</td>\n",
       "      <td>4</td>\n",
       "      <td>0.562</td>\n",
       "    </tr>\n",
       "    <tr>\n",
       "      <th>1</th>\n",
       "      <td>Lil Nas X</td>\n",
       "      <td>Old Town Road - Remix</td>\n",
       "      <td>6u7jPi22kF8CTQ3rb9DHE7</td>\n",
       "      <td>98</td>\n",
       "      <td>0.0533</td>\n",
       "      <td>0.878</td>\n",
       "      <td>157067</td>\n",
       "      <td>0.619</td>\n",
       "      <td>0.000000</td>\n",
       "      <td>6</td>\n",
       "      <td>0.1130</td>\n",
       "      <td>-5.560</td>\n",
       "      <td>1</td>\n",
       "      <td>0.1020</td>\n",
       "      <td>136.041</td>\n",
       "      <td>4</td>\n",
       "      <td>0.639</td>\n",
       "    </tr>\n",
       "    <tr>\n",
       "      <th>2</th>\n",
       "      <td>Ed Sheeran</td>\n",
       "      <td>I Don't Care (with Justin Bieber)</td>\n",
       "      <td>3HVWdVOQ0ZA45FuZGSfvns</td>\n",
       "      <td>99</td>\n",
       "      <td>0.0912</td>\n",
       "      <td>0.798</td>\n",
       "      <td>219947</td>\n",
       "      <td>0.675</td>\n",
       "      <td>0.000000</td>\n",
       "      <td>6</td>\n",
       "      <td>0.0894</td>\n",
       "      <td>-5.041</td>\n",
       "      <td>1</td>\n",
       "      <td>0.0442</td>\n",
       "      <td>101.956</td>\n",
       "      <td>4</td>\n",
       "      <td>0.842</td>\n",
       "    </tr>\n",
       "    <tr>\n",
       "      <th>3</th>\n",
       "      <td>DaBaby</td>\n",
       "      <td>Suge</td>\n",
       "      <td>2gwkD6igEhQbDQegRCcdoB</td>\n",
       "      <td>90</td>\n",
       "      <td>0.0608</td>\n",
       "      <td>0.876</td>\n",
       "      <td>163320</td>\n",
       "      <td>0.662</td>\n",
       "      <td>0.000000</td>\n",
       "      <td>2</td>\n",
       "      <td>0.1270</td>\n",
       "      <td>-6.482</td>\n",
       "      <td>0</td>\n",
       "      <td>0.4260</td>\n",
       "      <td>75.445</td>\n",
       "      <td>4</td>\n",
       "      <td>0.844</td>\n",
       "    </tr>\n",
       "    <tr>\n",
       "      <th>4</th>\n",
       "      <td>Tyler, The Creator</td>\n",
       "      <td>EARFQUAKE</td>\n",
       "      <td>5hVghJ4KaYES3BFUATCYn0</td>\n",
       "      <td>92</td>\n",
       "      <td>0.2300</td>\n",
       "      <td>0.554</td>\n",
       "      <td>190067</td>\n",
       "      <td>0.498</td>\n",
       "      <td>0.000006</td>\n",
       "      <td>9</td>\n",
       "      <td>0.7950</td>\n",
       "      <td>-8.866</td>\n",
       "      <td>1</td>\n",
       "      <td>0.0685</td>\n",
       "      <td>79.635</td>\n",
       "      <td>4</td>\n",
       "      <td>0.413</td>\n",
       "    </tr>\n",
       "  </tbody>\n",
       "</table>\n",
       "</div>"
      ],
      "text/plain": [
       "          artist_name                         track_name  \\\n",
       "0       Billie Eilish                            bad guy   \n",
       "1           Lil Nas X              Old Town Road - Remix   \n",
       "2          Ed Sheeran  I Don't Care (with Justin Bieber)   \n",
       "3              DaBaby                               Suge   \n",
       "4  Tyler, The Creator                          EARFQUAKE   \n",
       "\n",
       "                 track_id  popularity  acousticness  danceability  \\\n",
       "0  2Fxmhks0bxGSBdJ92vM42m         100        0.3280         0.701   \n",
       "1  6u7jPi22kF8CTQ3rb9DHE7          98        0.0533         0.878   \n",
       "2  3HVWdVOQ0ZA45FuZGSfvns          99        0.0912         0.798   \n",
       "3  2gwkD6igEhQbDQegRCcdoB          90        0.0608         0.876   \n",
       "4  5hVghJ4KaYES3BFUATCYn0          92        0.2300         0.554   \n",
       "\n",
       "   duration_ms  energy  instrumentalness  key  liveness  loudness  mode  \\\n",
       "0       194088   0.425          0.130000    7    0.1000   -10.965     1   \n",
       "1       157067   0.619          0.000000    6    0.1130    -5.560     1   \n",
       "2       219947   0.675          0.000000    6    0.0894    -5.041     1   \n",
       "3       163320   0.662          0.000000    2    0.1270    -6.482     0   \n",
       "4       190067   0.498          0.000006    9    0.7950    -8.866     1   \n",
       "\n",
       "   speechiness    tempo  time_signature  valence  \n",
       "0       0.3750  135.128               4    0.562  \n",
       "1       0.1020  136.041               4    0.639  \n",
       "2       0.0442  101.956               4    0.842  \n",
       "3       0.4260   75.445               4    0.844  \n",
       "4       0.0685   79.635               4    0.413  "
      ]
     },
     "execution_count": 333,
     "metadata": {},
     "output_type": "execute_result"
    }
   ],
   "source": [
    "# merge both dataframes\n",
    "# the 'inner' method will make sure that we only keep track IDs present in both datasets\n",
    "df = pd.merge(top_songs_2000to20019,df_audio_features_top_songs,on='track_id',\n",
    "              how='inner')\n",
    "print(\"Shape of the dataset:\", df_audio_features_top_songs.shape)\n",
    "df.head()"
   ]
  },
  {
   "cell_type": "code",
   "execution_count": 334,
   "metadata": {},
   "outputs": [
    {
     "name": "stdout",
     "output_type": "stream",
     "text": [
      "<class 'pandas.core.frame.DataFrame'>\n",
      "Int64Index: 166404 entries, 0 to 166403\n",
      "Data columns (total 17 columns):\n",
      "artist_name         166404 non-null object\n",
      "track_name          166404 non-null object\n",
      "track_id            166404 non-null object\n",
      "popularity          166404 non-null int64\n",
      "acousticness        166404 non-null float64\n",
      "danceability        166404 non-null float64\n",
      "duration_ms         166404 non-null int64\n",
      "energy              166404 non-null float64\n",
      "instrumentalness    166404 non-null float64\n",
      "key                 166404 non-null int64\n",
      "liveness            166404 non-null float64\n",
      "loudness            166404 non-null float64\n",
      "mode                166404 non-null int64\n",
      "speechiness         166404 non-null float64\n",
      "tempo               166404 non-null float64\n",
      "time_signature      166404 non-null int64\n",
      "valence             166404 non-null float64\n",
      "dtypes: float64(9), int64(5), object(3)\n",
      "memory usage: 22.9+ MB\n"
     ]
    }
   ],
   "source": [
    "df.info()\n"
   ]
  },
  {
   "cell_type": "code",
   "execution_count": 335,
   "metadata": {},
   "outputs": [
    {
     "data": {
      "text/html": [
       "<div>\n",
       "<style scoped>\n",
       "    .dataframe tbody tr th:only-of-type {\n",
       "        vertical-align: middle;\n",
       "    }\n",
       "\n",
       "    .dataframe tbody tr th {\n",
       "        vertical-align: top;\n",
       "    }\n",
       "\n",
       "    .dataframe thead th {\n",
       "        text-align: right;\n",
       "    }\n",
       "</style>\n",
       "<table border=\"1\" class=\"dataframe\">\n",
       "  <thead>\n",
       "    <tr style=\"text-align: right;\">\n",
       "      <th></th>\n",
       "      <th>artist_name</th>\n",
       "      <th>track_name</th>\n",
       "      <th>track_id</th>\n",
       "      <th>popularity</th>\n",
       "      <th>acousticness</th>\n",
       "      <th>danceability</th>\n",
       "      <th>duration_ms</th>\n",
       "      <th>energy</th>\n",
       "      <th>instrumentalness</th>\n",
       "      <th>key</th>\n",
       "      <th>liveness</th>\n",
       "      <th>loudness</th>\n",
       "      <th>mode</th>\n",
       "      <th>speechiness</th>\n",
       "      <th>tempo</th>\n",
       "      <th>time_signature</th>\n",
       "      <th>valence</th>\n",
       "    </tr>\n",
       "  </thead>\n",
       "  <tbody>\n",
       "  </tbody>\n",
       "</table>\n",
       "</div>"
      ],
      "text/plain": [
       "Empty DataFrame\n",
       "Columns: [artist_name, track_name, track_id, popularity, acousticness, danceability, duration_ms, energy, instrumentalness, key, liveness, loudness, mode, speechiness, tempo, time_signature, valence]\n",
       "Index: []"
      ]
     },
     "execution_count": 335,
     "metadata": {},
     "output_type": "execute_result"
    }
   ],
   "source": [
    "#checking for duplicates\n",
    "df[df.duplicated(subset=['artist_name','track_name'],keep=False)]"
   ]
  },
  {
   "cell_type": "code",
   "execution_count": 337,
   "metadata": {},
   "outputs": [],
   "source": [
    "#exporting df\n",
    "#df.to_csv(r'data/spotify_pool_df_v2.csv',index=False)"
   ]
  },
  {
   "cell_type": "code",
   "execution_count": 339,
   "metadata": {},
   "outputs": [
    {
     "data": {
      "text/plain": [
       "166404"
      ]
     },
     "execution_count": 339,
     "metadata": {},
     "output_type": "execute_result"
    }
   ],
   "source": [
    "len(df)"
   ]
  },
  {
   "cell_type": "code",
   "execution_count": 340,
   "metadata": {
    "collapsed": true
   },
   "outputs": [
    {
     "data": {
      "text/plain": [
       "['Billie Eilish',\n",
       " 'Lil Nas X',\n",
       " 'Ed Sheeran',\n",
       " 'DaBaby',\n",
       " 'Tyler, The Creator',\n",
       " 'Lizzo',\n",
       " 'Young Thug',\n",
       " 'Polo G',\n",
       " 'J. Cole',\n",
       " 'Shawn Mendes',\n",
       " 'Lil Uzi Vert',\n",
       " 'Lil Nas X',\n",
       " 'Jonas Brothers',\n",
       " 'Mustard',\n",
       " 'Billie Eilish',\n",
       " 'Billie Eilish',\n",
       " 'Juice WRLD',\n",
       " 'Bazzi',\n",
       " 'Khalid',\n",
       " 'YNW Melly',\n",
       " 'Billie Eilish',\n",
       " 'YG',\n",
       " 'Martin Garrix',\n",
       " 'Ariana Grande',\n",
       " 'BTS',\n",
       " 'Ed Sheeran',\n",
       " 'NLE Choppa',\n",
       " 'Logic',\n",
       " 'Sam Smith',\n",
       " 'Katy Perry',\n",
       " 'Lil Tecca',\n",
       " 'Halsey',\n",
       " 'Drake',\n",
       " 'Ariana Grande',\n",
       " 'Ariana Grande',\n",
       " 'Offset',\n",
       " 'Chris Brown',\n",
       " 'Lil Skies',\n",
       " 'Taylor Swift',\n",
       " 'Lauv',\n",
       " 'Joyner Lucas',\n",
       " 'Marshmello',\n",
       " 'Billie Eilish',\n",
       " 'Drake',\n",
       " 'Lil Uzi Vert',\n",
       " 'Billie Eilish',\n",
       " 'Tyler, The Creator',\n",
       " 'DaBaby',\n",
       " '5 Seconds of Summer',\n",
       " 'DaBaby',\n",
       " 'Miley Cyrus',\n",
       " 'The Chainsmokers',\n",
       " 'Lunay',\n",
       " 'Billie Eilish',\n",
       " 'Taylor Swift',\n",
       " 'Billie Eilish',\n",
       " 'Jonas Brothers',\n",
       " 'MAX',\n",
       " 'Billie Eilish',\n",
       " 'Daddy Yankee',\n",
       " 'YK Osiris',\n",
       " 'Juice WRLD',\n",
       " 'NAV',\n",
       " 'Khalid',\n",
       " 'Blake Shelton',\n",
       " 'Cardi B',\n",
       " 'OneRepublic',\n",
       " 'Luke Combs',\n",
       " 'Chance the Rapper',\n",
       " 'Lizzo',\n",
       " 'Bad Bunny',\n",
       " 'Cardi B',\n",
       " 'Tyler, The Creator',\n",
       " 'Sech',\n",
       " 'Nipsey Hussle',\n",
       " 'ScHoolboy Q',\n",
       " 'Tory Lanez',\n",
       " 'DJ Khaled',\n",
       " 'Mabel',\n",
       " 'Kygo',\n",
       " 'Avicii',\n",
       " 'Tyler, The Creator',\n",
       " 'Rich The Kid',\n",
       " 'Kehlani',\n",
       " 'Billie Eilish',\n",
       " 'Tyler, The Creator',\n",
       " 'Billie Eilish',\n",
       " 'Nicky Jam',\n",
       " 'Mark Ronson',\n",
       " 'Florida Georgia Line',\n",
       " 'Tyler, The Creator',\n",
       " 'Juice WRLD',\n",
       " 'Juice WRLD',\n",
       " 'Future',\n",
       " 'Russ',\n",
       " 'DJ Luian',\n",
       " 'Bryce Vine',\n",
       " 'Ellie Goulding',\n",
       " 'Ozuna',\n",
       " 'Maren Morris',\n",
       " 'BLACKPINK',\n",
       " 'Post Malone',\n",
       " 'Tyler, The Creator',\n",
       " 'Lewis Capaldi',\n",
       " 'BTS',\n",
       " 'Tyler, The Creator',\n",
       " 'Tyler, The Creator',\n",
       " 'Billie Eilish',\n",
       " 'Jonas Brothers',\n",
       " 'Lil Dicky',\n",
       " 'DJ Khaled',\n",
       " 'Offset',\n",
       " 'Trippie Redd',\n",
       " 'PnB Rock',\n",
       " \"Why Don't We\",\n",
       " 'Juice WRLD',\n",
       " 'Anuel Aa',\n",
       " 'Ariana Grande',\n",
       " 'Marshmello',\n",
       " 'Jonas Brothers',\n",
       " 'Luh Kel',\n",
       " 'Luke Bryan',\n",
       " 'Florida Georgia Line',\n",
       " 'Kygo',\n",
       " 'Juice WRLD',\n",
       " 'Thomas Rhett',\n",
       " 'Future',\n",
       " 'NF',\n",
       " 'Offset',\n",
       " 'Future',\n",
       " 'Jonas Brothers',\n",
       " 'Ariana Grande',\n",
       " 'MEDUZA',\n",
       " 'Logic',\n",
       " 'Logic',\n",
       " 'Jonas Brothers',\n",
       " 'Andy Grammer',\n",
       " 'Tyler, The Creator',\n",
       " 'benny blanco',\n",
       " 'Ariana Grande',\n",
       " 'Jonas Blue',\n",
       " 'Ty Dolla $ign',\n",
       " 'Jonas Brothers',\n",
       " 'Jonas Brothers',\n",
       " 'Ozuna',\n",
       " 'Lil Peep',\n",
       " 'Tyler, The Creator',\n",
       " 'Avicii',\n",
       " 'Ava Max',\n",
       " 'Luke Combs',\n",
       " 'PnB Rock',\n",
       " 'Billie Eilish',\n",
       " 'Jonas Brothers',\n",
       " 'Future',\n",
       " 'Yo Gotti',\n",
       " 'DJ Khaled',\n",
       " 'SZA',\n",
       " 'Maren Morris',\n",
       " 'Jhene Aiko',\n",
       " 'P!nk',\n",
       " 'Ariana Grande',\n",
       " 'Gunna',\n",
       " 'Blueface',\n",
       " 'ScHoolboy Q',\n",
       " 'Future',\n",
       " 'G-Eazy',\n",
       " 'French Montana',\n",
       " 'Jonas Brothers',\n",
       " 'Jonas Brothers',\n",
       " 'Tyga',\n",
       " 'Maluma',\n",
       " 'Joji',\n",
       " 'ROSALÍA',\n",
       " 'Future',\n",
       " 'Khalid',\n",
       " 'Tyga',\n",
       " 'Jonas Brothers',\n",
       " 'NAV',\n",
       " 'ILLENIUM',\n",
       " 'Jonas Brothers',\n",
       " 'Tory Lanez',\n",
       " 'Tyga',\n",
       " 'Future',\n",
       " 'Tyga',\n",
       " 'YBN Cordae',\n",
       " 'Luke Combs',\n",
       " 'Ozuna',\n",
       " 'NLE Choppa',\n",
       " 'Luke Combs',\n",
       " 'Ozuna',\n",
       " 'Luke Combs',\n",
       " 'ScHoolboy Q',\n",
       " 'Megan Thee Stallion',\n",
       " 'Cody Johnson',\n",
       " 'YG',\n",
       " 'Jhay Cortez',\n",
       " 'Dalex',\n",
       " 'Alan Walker',\n",
       " 'BTS',\n",
       " 'Miley Cyrus',\n",
       " 'Ariana Grande',\n",
       " 'Marshmello',\n",
       " 'ZAYN',\n",
       " 'James Arthur',\n",
       " 'Lana Del Rey',\n",
       " 'Gunna',\n",
       " 'Miley Cyrus',\n",
       " 'BTS',\n",
       " 'FLETCHER',\n",
       " 'Old Dominion',\n",
       " 'Daddy Yankee',\n",
       " 'Juice WRLD',\n",
       " 'BTS',\n",
       " 'Bad Bunny',\n",
       " 'Ariana Grande',\n",
       " 'Tiësto',\n",
       " 'NLE Choppa',\n",
       " 'Manuel Turizo',\n",
       " 'Old Dominion',\n",
       " 'Jessie Reyez',\n",
       " 'Bebe Rexha',\n",
       " 'BTS',\n",
       " 'Ariana Grande',\n",
       " 'Logic',\n",
       " 'Sueco the Child',\n",
       " 'DJ Snake',\n",
       " 'Machine Gun Kelly',\n",
       " 'Khalid',\n",
       " 'Khalid',\n",
       " 'DJ Khaled',\n",
       " 'Lizzo',\n",
       " 'Sam Feldt',\n",
       " 'Saweetie',\n",
       " 'Khalid',\n",
       " 'BTS',\n",
       " 'Logic',\n",
       " 'DJ Khaled',\n",
       " 'Tyga',\n",
       " 'Sean Paul',\n",
       " \"Why Don't We\",\n",
       " 'Lil Tjay',\n",
       " 'Lewis Capaldi',\n",
       " 'Tyga',\n",
       " 'Dustin Lynch',\n",
       " 'YG',\n",
       " 'Lauv',\n",
       " 'Future',\n",
       " 'iann dior',\n",
       " 'Tyga',\n",
       " 'Ariana Grande',\n",
       " 'Juice WRLD',\n",
       " 'Tyga',\n",
       " 'Ryan Hurd',\n",
       " 'Logic',\n",
       " 'Ed Sheeran',\n",
       " 'Tyga',\n",
       " 'Dreamville',\n",
       " 'Future',\n",
       " 'Mustard',\n",
       " 'Marshmello',\n",
       " 'Polo G',\n",
       " 'Tyga',\n",
       " 'Ed Sheeran',\n",
       " 'NAV',\n",
       " 'DJ Khaled',\n",
       " 'Tyga',\n",
       " 'Bon Iver',\n",
       " 'Tee Grizzley',\n",
       " 'Madison Beer',\n",
       " 'Ariana Grande',\n",
       " 'Tyga',\n",
       " 'Bazzi',\n",
       " 'Tyga',\n",
       " 'Wallows',\n",
       " 'Charli XCX',\n",
       " 'Tyga',\n",
       " 'Tyga',\n",
       " 'Roddy Ricch',\n",
       " 'Avicii',\n",
       " 'Julia Michaels',\n",
       " 'Hozier',\n",
       " 'A Boogie Wit da Hoodie',\n",
       " 'Jake Owen',\n",
       " 'YG',\n",
       " 'Slipknot',\n",
       " 'Gucci Mane',\n",
       " 'Khalid',\n",
       " 'Tame Impala',\n",
       " 'Russ',\n",
       " 'Myke Towers',\n",
       " 'Chris Young',\n",
       " 'Sia',\n",
       " 'Sech',\n",
       " 'Logic',\n",
       " 'Blanco Brown',\n",
       " 'Sub Urban',\n",
       " 'Will Smith',\n",
       " 'XXXTENTACION',\n",
       " 'Gucci Mane',\n",
       " 'Naomi Scott',\n",
       " 'NLE Choppa',\n",
       " 'R3HAB',\n",
       " 'Tyga',\n",
       " 'ScHoolboy Q',\n",
       " 'Beyoncé',\n",
       " 'Lizzo',\n",
       " 'BTS',\n",
       " 'Lil Peep',\n",
       " 'Avicii',\n",
       " 'Mabel',\n",
       " 'Farruko',\n",
       " 'TWICE',\n",
       " 'Khalid',\n",
       " 'Ambjaay',\n",
       " 'Brooks & Dunn',\n",
       " 'Denzel Curry',\n",
       " 'Chris Brown',\n",
       " 'Dylan Scott',\n",
       " 'YUNGBLUD',\n",
       " 'Polo G',\n",
       " 'Tim McGraw',\n",
       " 'Juice WRLD',\n",
       " 'Lil Keed',\n",
       " 'Polo G',\n",
       " 'Khalid',\n",
       " 'Khalid',\n",
       " 'Paulo Londra',\n",
       " 'Logic',\n",
       " 'Khalid',\n",
       " 'DaBaby',\n",
       " 'Lil Skies',\n",
       " 'Jack & Jack',\n",
       " 'Polo G',\n",
       " 'Ariana Grande',\n",
       " 'Khalid',\n",
       " 'Rich The Kid',\n",
       " 'Drax Project',\n",
       " 'Sia',\n",
       " 'iann dior',\n",
       " 'Will Smith',\n",
       " 'Halsey',\n",
       " 'Lil Mosey',\n",
       " 'Daya',\n",
       " 'Pitbull',\n",
       " 'AJR',\n",
       " 'NLE Choppa',\n",
       " 'Miley Cyrus',\n",
       " 'Joyner Lucas',\n",
       " 'Jonas Brothers',\n",
       " 'Martin Jensen',\n",
       " 'Galantis',\n",
       " 'Miley Cyrus',\n",
       " 'Khalid',\n",
       " 'BTS',\n",
       " 'Gunna',\n",
       " 'Billie Eilish',\n",
       " 'Lil Skies',\n",
       " 'Carly Rae Jepsen',\n",
       " 'YG',\n",
       " 'Lauv',\n",
       " 'Kodak Black',\n",
       " 'Lil Tjay',\n",
       " 'Blueface',\n",
       " 'Juice WRLD',\n",
       " 'DJ Khaled',\n",
       " 'Tame Impala',\n",
       " 'Polo G',\n",
       " 'Iggy Azalea',\n",
       " 'Keith Urban',\n",
       " 'Polo G',\n",
       " 'Vampire Weekend',\n",
       " 'Logic',\n",
       " 'Thomas Rhett',\n",
       " 'Gunna',\n",
       " 'Becky G',\n",
       " \"Why Don't We\",\n",
       " 'Gryffin',\n",
       " 'Lizzo',\n",
       " 'Denzel Curry',\n",
       " 'Aventura',\n",
       " 'Lil Pump',\n",
       " 'Dylan Scott',\n",
       " 'Lil Mosey',\n",
       " 'YungGen',\n",
       " 'BLACKPINK',\n",
       " 'Lil Nas X',\n",
       " 'ScHoolboy Q',\n",
       " 'Polo G',\n",
       " 'Polo G',\n",
       " 'Herve Pagez',\n",
       " 'G-Eazy',\n",
       " 'Polo G',\n",
       " 'Chris Janson',\n",
       " 'Blueface',\n",
       " 'Khalid',\n",
       " 'Morgan Wallen',\n",
       " 'Adam Doleac',\n",
       " 'Karol G',\n",
       " 'Khalid',\n",
       " 'Calboy',\n",
       " 'London On Da Track',\n",
       " 'Bastille',\n",
       " 'Thomas Rhett',\n",
       " '2 Chainz',\n",
       " 'Florida Georgia Line',\n",
       " 'Jake Owen',\n",
       " 'Lil Skies',\n",
       " 'Polo G',\n",
       " 'Bea Miller',\n",
       " 'Thomas Rhett',\n",
       " 'Jeremy Zucker',\n",
       " 'Maggie Rogers',\n",
       " 'Juice WRLD',\n",
       " 'Thomas Rhett',\n",
       " 'Bhad Bhabie',\n",
       " 'Polo G',\n",
       " 'Vampire Weekend',\n",
       " 'Mena Massoud',\n",
       " 'Gesaffelstein',\n",
       " 'Anderson .Paak',\n",
       " 'Chris Brown',\n",
       " 'James Bay',\n",
       " 'ScHoolboy Q',\n",
       " 'Khalid',\n",
       " 'Lizzo',\n",
       " 'Zedd',\n",
       " 'Polo G',\n",
       " 'Logic',\n",
       " 'DJ Snake',\n",
       " 'DaBaby',\n",
       " '2 Chainz',\n",
       " 'ScHoolboy Q',\n",
       " 'Dalex',\n",
       " 'John Mayer',\n",
       " 'DJ Khaled',\n",
       " 'Rauw Alejandro',\n",
       " 'Logic',\n",
       " 'Lizzo',\n",
       " 'Trey Songz',\n",
       " 'Brooks & Dunn',\n",
       " 'Thomas Rhett',\n",
       " 'Kevin Abstract',\n",
       " 'Florida Georgia Line',\n",
       " 'Yella Beezy',\n",
       " 'Polo G',\n",
       " 'Miley Cyrus',\n",
       " 'Calvin Harris',\n",
       " 'Avicii',\n",
       " 'Lewis Capaldi',\n",
       " 'Tove Lo',\n",
       " 'Ali Gatie',\n",
       " 'Stormzy',\n",
       " 'Logic',\n",
       " 'Florida Georgia Line',\n",
       " 'Logic',\n",
       " 'Denzel Curry',\n",
       " 'The Chainsmokers',\n",
       " 'Tee Grizzley',\n",
       " 'Moneybagg Yo',\n",
       " 'Moneybagg Yo',\n",
       " 'Tyla Yaweh',\n",
       " 'Flo Milli',\n",
       " 'Khalid',\n",
       " 'Tee Grizzley',\n",
       " 'Thomas Rhett',\n",
       " 'Tee Grizzley',\n",
       " 'Polo G',\n",
       " 'Denzel Curry',\n",
       " 'YNW Melly',\n",
       " 'Logic',\n",
       " 'SAINt JHN',\n",
       " 'Martin Garrix',\n",
       " 'Logic',\n",
       " 'Rich The Kid',\n",
       " 'Quando Rondo',\n",
       " 'Tee Grizzley',\n",
       " 'Avril Lavigne',\n",
       " 'Will Smith',\n",
       " 'Lady Antebellum',\n",
       " 'ScHoolboy Q',\n",
       " 'Denzel Curry',\n",
       " 'Hozier',\n",
       " 'Kelly Clarkson',\n",
       " 'LANY',\n",
       " 'Mau y Ricky',\n",
       " 'Oliver Tree',\n",
       " 'Offset',\n",
       " 'Yung Pinch',\n",
       " 'Tee Grizzley',\n",
       " 'ROSALÍA',\n",
       " 'Berner',\n",
       " 'Gunna',\n",
       " 'Lunay',\n",
       " 'Bastille',\n",
       " 'P!nk',\n",
       " 'Luis Fonsi',\n",
       " 'Avicii',\n",
       " 'Post Malone',\n",
       " 'Calboy',\n",
       " 'YNW Melly',\n",
       " 'Avicii',\n",
       " 'Duncan Laurence',\n",
       " 'Gunna',\n",
       " 'Juice WRLD',\n",
       " 'mxmtoon',\n",
       " 'Tee Grizzley',\n",
       " 'Offset',\n",
       " 'Khalid',\n",
       " 'Myke Towers',\n",
       " 'Maluma',\n",
       " 'YG',\n",
       " 'DVBBS',\n",
       " 'GoldLink',\n",
       " 'Dennis Lloyd',\n",
       " 'PRETTYMUCH',\n",
       " 'Julia Michaels',\n",
       " 'Brytiago',\n",
       " 'Jess Glynne',\n",
       " 'YG',\n",
       " 'YG',\n",
       " 'Thomas Rhett',\n",
       " 'Cuco',\n",
       " 'Luis Fonsi',\n",
       " 'Jasiah',\n",
       " 'Sebastian Yatra',\n",
       " 'Lost Kings',\n",
       " 'John Gurney',\n",
       " 'iann dior',\n",
       " 'Tee Grizzley',\n",
       " 'Iggy Azalea',\n",
       " '10k.Caash',\n",
       " 'James Barker Band',\n",
       " 'ZAYN',\n",
       " 'blackbear',\n",
       " 'NF',\n",
       " 'George Strait',\n",
       " 'Avicii',\n",
       " 'Tee Grizzley',\n",
       " 'Lil Pump',\n",
       " 'Pia Mia',\n",
       " 'Thomas Rhett',\n",
       " 'Karol G',\n",
       " 'John King',\n",
       " 'Lizzo',\n",
       " 'Clairo',\n",
       " 'Kygo',\n",
       " 'ChocQuibTown',\n",
       " 'Dan + Shay',\n",
       " 'Sia',\n",
       " 'Tee Grizzley',\n",
       " 'Denzel Curry',\n",
       " 'Comethazine',\n",
       " 'Doja Cat',\n",
       " 'Tee Grizzley',\n",
       " 'Zion & Lennox',\n",
       " 'Tee Grizzley',\n",
       " 'Dean Lewis',\n",
       " 'Juice WRLD',\n",
       " 'Quinn XCII',\n",
       " '2 Chainz',\n",
       " 'Dan Talevski',\n",
       " 'Avicii',\n",
       " 'Gabby Barrett',\n",
       " \"Why Don't We\",\n",
       " 'FLETCHER',\n",
       " 'Blueface',\n",
       " 'Jon Bellion',\n",
       " 'Anderson .Paak',\n",
       " 'Maluma',\n",
       " 'Tee Grizzley',\n",
       " 'Juice WRLD',\n",
       " 'ScHoolboy Q',\n",
       " 'Hillsong UNITED',\n",
       " 'Sofia Reyes',\n",
       " 'Tee Grizzley',\n",
       " 'Cage The Elephant',\n",
       " 'Zara Larsson',\n",
       " 'Stunna 4 Vegas',\n",
       " 'James Blake',\n",
       " 'Logic',\n",
       " 'Lil Skies',\n",
       " 'YoungBoy Never Broke Again',\n",
       " 'Danny Ocean',\n",
       " 'Lewis Capaldi',\n",
       " 'Lil Skies',\n",
       " 'David Guetta',\n",
       " 'Bastille',\n",
       " 'Avicii',\n",
       " 'ScHoolboy Q',\n",
       " 'Kehlani',\n",
       " 'GASHI',\n",
       " 'ILLENIUM',\n",
       " 'NLE Choppa',\n",
       " 'Boogie',\n",
       " 'YG',\n",
       " 'Juice WRLD',\n",
       " 'Brad Paisley',\n",
       " 'Megan Thee Stallion',\n",
       " 'Maggie Rogers',\n",
       " 'Madeon',\n",
       " 'The Lumineers',\n",
       " 'Juice WRLD',\n",
       " 'Nicky Jam',\n",
       " 'Casper Magico',\n",
       " 'Tyler Rich',\n",
       " 'Natti Natasha',\n",
       " 'David Guetta',\n",
       " 'Paloma Mami',\n",
       " 'Vampire Weekend',\n",
       " 'Juice WRLD',\n",
       " 'Ruel',\n",
       " 'Surfaces',\n",
       " 'Juice WRLD',\n",
       " 'Gunna',\n",
       " 'Lil Skies',\n",
       " 'Lost Kings',\n",
       " 'Dean Lewis',\n",
       " 'Logic',\n",
       " 'Calboy',\n",
       " 'DaBaby',\n",
       " 'Thomas Rhett',\n",
       " 'Zara Larsson',\n",
       " 'TOMORROW X TOGETHER',\n",
       " 'Justin Rarri',\n",
       " 'Maggie Rogers',\n",
       " 'Roddy Ricch',\n",
       " '03 Greedo',\n",
       " 'Quando Rondo',\n",
       " 'Karol G',\n",
       " 'AJR',\n",
       " 'Lil Tecca',\n",
       " 'Eli Young Band',\n",
       " 'Jax Jones',\n",
       " 'James TW',\n",
       " 'YBN Cordae',\n",
       " 'Lil Tjay',\n",
       " 'YG',\n",
       " 'blink-182',\n",
       " 'YNW Melly',\n",
       " 'Ally Brooke',\n",
       " 'Jack & Jack',\n",
       " 'Alec Benjamin',\n",
       " 'Y2K',\n",
       " 'King Princess',\n",
       " 'Rich The Kid',\n",
       " 'P!nk',\n",
       " 'Juice WRLD',\n",
       " 'Mena Massoud',\n",
       " 'Alex Couture',\n",
       " 'gnash',\n",
       " 'Aminé',\n",
       " 'NLE Choppa',\n",
       " 'Kehlani',\n",
       " 'The Black Keys',\n",
       " 'Thomas Rhett',\n",
       " 'DaBaby',\n",
       " 'Vampire Weekend',\n",
       " 'Rex Orange County',\n",
       " 'Gunna',\n",
       " 'Future',\n",
       " 'Juicy J',\n",
       " 'Thomas Rhett',\n",
       " 'ScHoolboy Q',\n",
       " 'Avicii',\n",
       " 'Rannar Sillard',\n",
       " 'Tyla Yaweh',\n",
       " 'Felix Cartal',\n",
       " 'Kelsea Ballerini',\n",
       " 'Thomas Rhett',\n",
       " 'Gunna',\n",
       " 'Farruko',\n",
       " 'Cuco',\n",
       " 'Lil Durk',\n",
       " 'ScHoolboy Q',\n",
       " 'Ari Lennox',\n",
       " 'Martin Garrix',\n",
       " 'Ari Lennox',\n",
       " 'Quin Nfn',\n",
       " 'ITZY',\n",
       " 'R3HAB',\n",
       " 'DJ Khaled',\n",
       " 'SG Lewis',\n",
       " '$uicideBoy$',\n",
       " 'Tejal Yann',\n",
       " 'YoungBoy Never Broke Again',\n",
       " 'The Chainsmokers',\n",
       " 'YG',\n",
       " 'Hillsong UNITED',\n",
       " 'Thomas Rhett',\n",
       " 'Avicii',\n",
       " 'Ozuna',\n",
       " 'Kiana Ledé',\n",
       " 'Moneybagg Yo',\n",
       " 'Gabbie Hanna',\n",
       " 'Bastille',\n",
       " 'Still Woozy',\n",
       " 'Thomas Rhett',\n",
       " 'Vampire Weekend',\n",
       " 'Juice WRLD',\n",
       " 'The Boyboy West Coast',\n",
       " 'Yung Gravy',\n",
       " 'Natanael Cano',\n",
       " 'Fuerza Regida',\n",
       " 'Bas',\n",
       " 'Jacquees',\n",
       " 'Vampire Weekend',\n",
       " 'Beyoncé',\n",
       " 'Anuel Aa',\n",
       " 'Ben Platt',\n",
       " 'BANKS',\n",
       " 'Kygo',\n",
       " 'Lalo Ebratt',\n",
       " 'French Montana',\n",
       " 'Vampire Weekend',\n",
       " 'Yung Gravy',\n",
       " 'Bastille',\n",
       " 'Machine Gun Kelly',\n",
       " 'Megan Thee Stallion',\n",
       " 'YoungBoy Never Broke Again',\n",
       " 'YG',\n",
       " 'Jonas Brothers',\n",
       " 'Beast Coast',\n",
       " 'Carly Rae Jepsen',\n",
       " 'Bastille',\n",
       " 'Bastille',\n",
       " 'Dominic Fike',\n",
       " 'Bon Iver',\n",
       " 'Tech N9ne',\n",
       " 'Bastille',\n",
       " 'Bastille',\n",
       " 'NAV',\n",
       " 'Major Lazer',\n",
       " 'Avicii',\n",
       " 'Runaway June',\n",
       " 'Kiana Ledé',\n",
       " 'DaBaby',\n",
       " 'Kevin Gates',\n",
       " 'DJ Khaled',\n",
       " 'I Prevail',\n",
       " 'bülow',\n",
       " 'ScHoolboy Q',\n",
       " 'Voyager',\n",
       " 'BLACKPINK',\n",
       " 'Rich The Kid',\n",
       " 'Kehlani',\n",
       " 'NOTD',\n",
       " 'K$upreme',\n",
       " 'Flume',\n",
       " 'Bastille',\n",
       " 'Bastille',\n",
       " 'EVERGLOW',\n",
       " 'GNAR',\n",
       " 'Rich The Kid',\n",
       " 'AJR',\n",
       " 'Kevin Gates',\n",
       " 'The Black Keys',\n",
       " 'Juice WRLD',\n",
       " 'Weezer',\n",
       " 'Beyoncé',\n",
       " 'Bethel Music',\n",
       " 'Yolta',\n",
       " 'Stray Kids',\n",
       " 'Thomas Rhett',\n",
       " 'Jon Bellion',\n",
       " 'Prince Royce',\n",
       " 'ScHoolboy Q',\n",
       " 'DJ Khaled',\n",
       " 'Gryffin',\n",
       " 'Craig Xen',\n",
       " 'Little Mix',\n",
       " 'NLE Choppa',\n",
       " 'Rannar Sillard',\n",
       " 'pewdiepie',\n",
       " 'Momento',\n",
       " 'DaBaby',\n",
       " 'Lil Skies',\n",
       " 'Beyoncé',\n",
       " 'YG',\n",
       " 'Five Finger Death Punch',\n",
       " 'Khalid',\n",
       " 'Jacquees',\n",
       " 'Russ',\n",
       " 'Cage The Elephant',\n",
       " 'I Prevail',\n",
       " 'bbno$',\n",
       " 'Anderson .Paak',\n",
       " 'DJ Khaled',\n",
       " 'The Head and the Heart',\n",
       " 'grandson',\n",
       " 'CNCO',\n",
       " 'Solange',\n",
       " 'Blac Youngsta',\n",
       " 'Steven Goldmund',\n",
       " 'Carly Rae Jepsen',\n",
       " 'haroinfather',\n",
       " 'Comethazine',\n",
       " 'Pola Ris',\n",
       " 'Steven Goldmund',\n",
       " 'Hijos De Leyva',\n",
       " 'Thomas Rhett',\n",
       " 'Sia',\n",
       " 'Offset',\n",
       " 'Jon Pardi',\n",
       " 'Maggie Rogers',\n",
       " 'Denzel Curry',\n",
       " 'PnB Rock',\n",
       " 'The Lumineers',\n",
       " 'Will Smith',\n",
       " 'Birdman',\n",
       " 'Free Nationals',\n",
       " 'Future',\n",
       " 'Reykon',\n",
       " 'AUSTN',\n",
       " 'Hopsin',\n",
       " 'Tropkillaz',\n",
       " 'Tom Walker',\n",
       " 'Lil Skies',\n",
       " 'Dreamville',\n",
       " 'Bass Santana',\n",
       " 'DiRTY RADiO',\n",
       " 'Momento',\n",
       " 'ARTY',\n",
       " 'Blake Rose',\n",
       " 'Smokepurpp',\n",
       " 'Julia Michaels',\n",
       " 'Jesse & Joy',\n",
       " 'Mike Posner',\n",
       " 'Beyoncé',\n",
       " 'Brytiago',\n",
       " 'ITSOKTOCRY',\n",
       " 'Young Dolph',\n",
       " 'Jon Bellion',\n",
       " 'Vampire Weekend',\n",
       " 'GoldLink',\n",
       " 'Conan Gray',\n",
       " 'SLANDER',\n",
       " 'Beyoncé',\n",
       " 'Fuerza Regida',\n",
       " 'Yung Gravy',\n",
       " 'Carly Rae Jepsen',\n",
       " 'Juice WRLD',\n",
       " 'David Guetta',\n",
       " 'Chris Stapleton',\n",
       " 'Denzel Curry',\n",
       " 'Moneybagg Yo',\n",
       " 'Naturally Recurring',\n",
       " 'Herencia de Patrones',\n",
       " 'Wiz Khalifa',\n",
       " 'Ally Brooke',\n",
       " 'Lizzo',\n",
       " 'Drake',\n",
       " 'Machine Gun Kelly',\n",
       " 'NAV',\n",
       " 'DaBaby',\n",
       " 'Vampire Weekend',\n",
       " 'Kevin Gates',\n",
       " 'Greeicy',\n",
       " 'Sia',\n",
       " 'Kehlani',\n",
       " 'Yandel',\n",
       " 'LÉON',\n",
       " 'Lewis Capaldi',\n",
       " 'White $osa',\n",
       " 'CHUNG HA',\n",
       " 'DaBaby',\n",
       " 'Lil Peep',\n",
       " 'Joseph Beg',\n",
       " 'Vampire Weekend',\n",
       " 'Louis Tomlinson',\n",
       " 'Carly Rae Jepsen',\n",
       " 'Denzel Curry',\n",
       " 'Primer Dia',\n",
       " 'Jake Owen',\n",
       " 'GoldLink',\n",
       " 'AJR',\n",
       " 'AJR',\n",
       " 'NGHTMRE',\n",
       " 'YBN Nahmir',\n",
       " 'Florence + The Machine',\n",
       " 'DJ Khaled',\n",
       " 'Tiny Meat Gang',\n",
       " 'Hozier',\n",
       " 'GoldLink',\n",
       " 'GoldLink',\n",
       " 'Intentional Vibes',\n",
       " 'Chelsea Cutler',\n",
       " 'Russ',\n",
       " 'Anderson .Paak',\n",
       " 'Lil Skies',\n",
       " 'The Head and the Heart',\n",
       " 'James TW',\n",
       " 'Abraham Vazquez',\n",
       " 'sayayin',\n",
       " 'Beyoncé',\n",
       " 'Tejal Yann',\n",
       " 'Christie Huff',\n",
       " 'AJR',\n",
       " 'Chase Rice',\n",
       " 'Sech',\n",
       " 'Ari Lennox',\n",
       " 'Irizarry Barraza',\n",
       " 'Flipp Dinero',\n",
       " 'JTres',\n",
       " 'Carin Leon',\n",
       " 'Shenseea',\n",
       " 'Wallows',\n",
       " 'NAV',\n",
       " 'NCT 127',\n",
       " 'Empty Space',\n",
       " 'Kevin Gates',\n",
       " 'Kevin Gates',\n",
       " 'Gunna',\n",
       " 'Ari Lennox',\n",
       " 'Post Malone',\n",
       " 'Naomi Scott',\n",
       " 'Quinn XCII',\n",
       " 'DJ Khaled',\n",
       " 'Leerseite',\n",
       " 'Drake',\n",
       " 'Vampire Weekend',\n",
       " 'Empty Space',\n",
       " 'Logic',\n",
       " 'Offset',\n",
       " 'Yung Gravy',\n",
       " 'Catfish and the Bottlemen',\n",
       " 'James Bay',\n",
       " 'Allana Johnson',\n",
       " 'Steven Goldmund',\n",
       " 'A$AP Rocky',\n",
       " 'Lud Foe',\n",
       " 'Melii',\n",
       " 'Petit Biscuit',\n",
       " 'Logic',\n",
       " 'GoldLink',\n",
       " 'Ari Lennox',\n",
       " 'Reik',\n",
       " 'Hillsong UNITED',\n",
       " 'Ellie Goulding',\n",
       " 'Tejal Yann',\n",
       " 'The Black Eyed Peas',\n",
       " 'John Legend',\n",
       " 'Kevin Abstract',\n",
       " 'Todrick Hall',\n",
       " 'Beyoncé',\n",
       " 'Wiley',\n",
       " 'Matt Simons',\n",
       " 'James TW',\n",
       " 'Noriel',\n",
       " 'Quinn XCII',\n",
       " 'SLANDER',\n",
       " 'A$AP Ferg',\n",
       " 'FKA twigs',\n",
       " 'Saweetie',\n",
       " 'Kevin Abstract',\n",
       " 'Lunay',\n",
       " 'Intentional Vibes',\n",
       " 'Ugly God',\n",
       " 'Hikaru Utada',\n",
       " 'PnB Rock',\n",
       " 'Maffio',\n",
       " 'Beyoncé',\n",
       " 'Naturally Recurring',\n",
       " 'Of Monsters and Men',\n",
       " 'Venom Faun',\n",
       " 'Arlette Leduc',\n",
       " 'Sabrina Carpenter',\n",
       " 'Tejal Yann',\n",
       " 'Maggie Rogers',\n",
       " 'FLETCHER',\n",
       " 'Vampire Weekend',\n",
       " 'Loud Luxury',\n",
       " 'Everlight',\n",
       " 'Eric Bellinger',\n",
       " 'Walker Hayes',\n",
       " 'Beyoncé',\n",
       " 'Ashley O',\n",
       " 'Hilder Sky',\n",
       " 'Mumford & Sons',\n",
       " 'Yung Gravy',\n",
       " 'Beyoncé',\n",
       " 'Calibre 50',\n",
       " 'Ozuna',\n",
       " 'I Prevail',\n",
       " 'Ambjaay',\n",
       " 'AJ Mitchell',\n",
       " 'Clairo',\n",
       " 'Aries',\n",
       " 'Moneybagg Yo',\n",
       " 'Fuerza Regida',\n",
       " 'Ellie Goulding',\n",
       " 'Gunna',\n",
       " 'YUNGBLUD',\n",
       " 'NAV',\n",
       " 'Lana Del Rey',\n",
       " 'DaBaby',\n",
       " 'Tyler Childers',\n",
       " 'Naomi Scott',\n",
       " 'Netsky',\n",
       " 'AJR',\n",
       " 'Beast Coast',\n",
       " ...]"
      ]
     },
     "execution_count": 340,
     "metadata": {},
     "output_type": "execute_result"
    }
   ],
   "source": [
    "artist_name=list(df['artist_name'])"
   ]
  },
  {
   "cell_type": "code",
   "execution_count": null,
   "metadata": {},
   "outputs": [],
   "source": [
    "# again measuring the time\n",
    "start = timeit.default_timer()\n",
    "\n",
    "# empty list, batchsize and the counter for None results\n",
    "rows = []\n",
    "batchsize = 100\n",
    "None_counter = 0\n",
    "\n",
    "for i in range(0,len(top_songs_2000to20019['track_id']),batchsize):\n",
    "    batch = top_songs_2000to20019['track_id'][i:i+batchsize]\n",
    "    feature_results = sp.audio_features(batch)\n",
    "    for i, t in enumerate(feature_results):\n",
    "        if t == None:\n",
    "            None_counter = None_counter + 1\n",
    "        else:\n",
    "            rows.append(t)\n",
    "            \n",
    "print('Number of tracks where no audio features were available:',None_counter)\n",
    "\n",
    "stop = timeit.default_timer()\n",
    "print ('Time to run this code (in seconds):',stop - start)"
   ]
  },
  {
   "cell_type": "code",
   "execution_count": 347,
   "metadata": {},
   "outputs": [
    {
     "name": "stdout",
     "output_type": "stream",
     "text": [
      "retrying ...1secs\n",
      "retrying ...1secs\n",
      "retrying ...1secs\n",
      "retrying ...1secs\n",
      "retrying ...1secs\n",
      "retrying ...1secs\n",
      "retrying ...1secs\n",
      "retrying ...1secs\n",
      "retrying ...1secs\n",
      "retrying ...1secs\n",
      "retrying ...1secs\n",
      "retrying ...1secs\n",
      "retrying ...1secs\n",
      "retrying ...1secs\n",
      "retrying ...1secs\n",
      "retrying ...1secs\n",
      "retrying ...1secs\n",
      "retrying ...1secs\n",
      "retrying ...1secs\n",
      "retrying ...1secs\n",
      "retrying ...1secs\n",
      "retrying ...1secs\n",
      "retrying ...1secs\n",
      "retrying ...1secs\n",
      "retrying ...1secs\n",
      "retrying ...1secs\n",
      "retrying ...1secs\n",
      "retrying ...1secs\n",
      "retrying ...1secs\n",
      "retrying ...1secs\n",
      "retrying ...1secs\n"
     ]
    },
    {
     "ename": "SSLError",
     "evalue": "HTTPSConnectionPool(host='api.spotify.com', port=443): Max retries exceeded with url: /v1/search?q=artist%3ABreaking+Benjamin&limit=10&offset=0&type=artist (Caused by SSLError(SSLError(\"bad handshake: SysCallError(54, 'ECONNRESET')\")))",
     "output_type": "error",
     "traceback": [
      "\u001b[0;31m---------------------------------------------------------------------------\u001b[0m",
      "\u001b[0;31mSysCallError\u001b[0m                              Traceback (most recent call last)",
      "\u001b[0;32m/anaconda3/lib/python3.7/site-packages/urllib3/contrib/pyopenssl.py\u001b[0m in \u001b[0;36mwrap_socket\u001b[0;34m(self, sock, server_side, do_handshake_on_connect, suppress_ragged_eofs, server_hostname)\u001b[0m\n\u001b[1;32m    452\u001b[0m             \u001b[0;32mtry\u001b[0m\u001b[0;34m:\u001b[0m\u001b[0;34m\u001b[0m\u001b[0;34m\u001b[0m\u001b[0m\n\u001b[0;32m--> 453\u001b[0;31m                 \u001b[0mcnx\u001b[0m\u001b[0;34m.\u001b[0m\u001b[0mdo_handshake\u001b[0m\u001b[0;34m(\u001b[0m\u001b[0;34m)\u001b[0m\u001b[0;34m\u001b[0m\u001b[0;34m\u001b[0m\u001b[0m\n\u001b[0m\u001b[1;32m    454\u001b[0m             \u001b[0;32mexcept\u001b[0m \u001b[0mOpenSSL\u001b[0m\u001b[0;34m.\u001b[0m\u001b[0mSSL\u001b[0m\u001b[0;34m.\u001b[0m\u001b[0mWantReadError\u001b[0m\u001b[0;34m:\u001b[0m\u001b[0;34m\u001b[0m\u001b[0;34m\u001b[0m\u001b[0m\n",
      "\u001b[0;32m/anaconda3/lib/python3.7/site-packages/OpenSSL/SSL.py\u001b[0m in \u001b[0;36mdo_handshake\u001b[0;34m(self)\u001b[0m\n\u001b[1;32m   1906\u001b[0m         \u001b[0mresult\u001b[0m \u001b[0;34m=\u001b[0m \u001b[0m_lib\u001b[0m\u001b[0;34m.\u001b[0m\u001b[0mSSL_do_handshake\u001b[0m\u001b[0;34m(\u001b[0m\u001b[0mself\u001b[0m\u001b[0;34m.\u001b[0m\u001b[0m_ssl\u001b[0m\u001b[0;34m)\u001b[0m\u001b[0;34m\u001b[0m\u001b[0;34m\u001b[0m\u001b[0m\n\u001b[0;32m-> 1907\u001b[0;31m         \u001b[0mself\u001b[0m\u001b[0;34m.\u001b[0m\u001b[0m_raise_ssl_error\u001b[0m\u001b[0;34m(\u001b[0m\u001b[0mself\u001b[0m\u001b[0;34m.\u001b[0m\u001b[0m_ssl\u001b[0m\u001b[0;34m,\u001b[0m \u001b[0mresult\u001b[0m\u001b[0;34m)\u001b[0m\u001b[0;34m\u001b[0m\u001b[0;34m\u001b[0m\u001b[0m\n\u001b[0m\u001b[1;32m   1908\u001b[0m \u001b[0;34m\u001b[0m\u001b[0m\n",
      "\u001b[0;32m/anaconda3/lib/python3.7/site-packages/OpenSSL/SSL.py\u001b[0m in \u001b[0;36m_raise_ssl_error\u001b[0;34m(self, ssl, result)\u001b[0m\n\u001b[1;32m   1630\u001b[0m                     \u001b[0;32mif\u001b[0m \u001b[0merrno\u001b[0m \u001b[0;34m!=\u001b[0m \u001b[0;36m0\u001b[0m\u001b[0;34m:\u001b[0m\u001b[0;34m\u001b[0m\u001b[0;34m\u001b[0m\u001b[0m\n\u001b[0;32m-> 1631\u001b[0;31m                         \u001b[0;32mraise\u001b[0m \u001b[0mSysCallError\u001b[0m\u001b[0;34m(\u001b[0m\u001b[0merrno\u001b[0m\u001b[0;34m,\u001b[0m \u001b[0merrorcode\u001b[0m\u001b[0;34m.\u001b[0m\u001b[0mget\u001b[0m\u001b[0;34m(\u001b[0m\u001b[0merrno\u001b[0m\u001b[0;34m)\u001b[0m\u001b[0;34m)\u001b[0m\u001b[0;34m\u001b[0m\u001b[0;34m\u001b[0m\u001b[0m\n\u001b[0m\u001b[1;32m   1632\u001b[0m                 \u001b[0;32mraise\u001b[0m \u001b[0mSysCallError\u001b[0m\u001b[0;34m(\u001b[0m\u001b[0;34m-\u001b[0m\u001b[0;36m1\u001b[0m\u001b[0;34m,\u001b[0m \u001b[0;34m\"Unexpected EOF\"\u001b[0m\u001b[0;34m)\u001b[0m\u001b[0;34m\u001b[0m\u001b[0;34m\u001b[0m\u001b[0m\n",
      "\u001b[0;31mSysCallError\u001b[0m: (54, 'ECONNRESET')",
      "\nDuring handling of the above exception, another exception occurred:\n",
      "\u001b[0;31mSSLError\u001b[0m                                  Traceback (most recent call last)",
      "\u001b[0;32m/anaconda3/lib/python3.7/site-packages/urllib3/connectionpool.py\u001b[0m in \u001b[0;36murlopen\u001b[0;34m(self, method, url, body, headers, retries, redirect, assert_same_host, timeout, pool_timeout, release_conn, chunked, body_pos, **response_kw)\u001b[0m\n\u001b[1;32m    599\u001b[0m                                                   \u001b[0mbody\u001b[0m\u001b[0;34m=\u001b[0m\u001b[0mbody\u001b[0m\u001b[0;34m,\u001b[0m \u001b[0mheaders\u001b[0m\u001b[0;34m=\u001b[0m\u001b[0mheaders\u001b[0m\u001b[0;34m,\u001b[0m\u001b[0;34m\u001b[0m\u001b[0;34m\u001b[0m\u001b[0m\n\u001b[0;32m--> 600\u001b[0;31m                                                   chunked=chunked)\n\u001b[0m\u001b[1;32m    601\u001b[0m \u001b[0;34m\u001b[0m\u001b[0m\n",
      "\u001b[0;32m/anaconda3/lib/python3.7/site-packages/urllib3/connectionpool.py\u001b[0m in \u001b[0;36m_make_request\u001b[0;34m(self, conn, method, url, timeout, chunked, **httplib_request_kw)\u001b[0m\n\u001b[1;32m    342\u001b[0m         \u001b[0;32mtry\u001b[0m\u001b[0;34m:\u001b[0m\u001b[0;34m\u001b[0m\u001b[0;34m\u001b[0m\u001b[0m\n\u001b[0;32m--> 343\u001b[0;31m             \u001b[0mself\u001b[0m\u001b[0;34m.\u001b[0m\u001b[0m_validate_conn\u001b[0m\u001b[0;34m(\u001b[0m\u001b[0mconn\u001b[0m\u001b[0;34m)\u001b[0m\u001b[0;34m\u001b[0m\u001b[0;34m\u001b[0m\u001b[0m\n\u001b[0m\u001b[1;32m    344\u001b[0m         \u001b[0;32mexcept\u001b[0m \u001b[0;34m(\u001b[0m\u001b[0mSocketTimeout\u001b[0m\u001b[0;34m,\u001b[0m \u001b[0mBaseSSLError\u001b[0m\u001b[0;34m)\u001b[0m \u001b[0;32mas\u001b[0m \u001b[0me\u001b[0m\u001b[0;34m:\u001b[0m\u001b[0;34m\u001b[0m\u001b[0;34m\u001b[0m\u001b[0m\n",
      "\u001b[0;32m/anaconda3/lib/python3.7/site-packages/urllib3/connectionpool.py\u001b[0m in \u001b[0;36m_validate_conn\u001b[0;34m(self, conn)\u001b[0m\n\u001b[1;32m    838\u001b[0m         \u001b[0;32mif\u001b[0m \u001b[0;32mnot\u001b[0m \u001b[0mgetattr\u001b[0m\u001b[0;34m(\u001b[0m\u001b[0mconn\u001b[0m\u001b[0;34m,\u001b[0m \u001b[0;34m'sock'\u001b[0m\u001b[0;34m,\u001b[0m \u001b[0;32mNone\u001b[0m\u001b[0;34m)\u001b[0m\u001b[0;34m:\u001b[0m  \u001b[0;31m# AppEngine might not have  `.sock`\u001b[0m\u001b[0;34m\u001b[0m\u001b[0;34m\u001b[0m\u001b[0m\n\u001b[0;32m--> 839\u001b[0;31m             \u001b[0mconn\u001b[0m\u001b[0;34m.\u001b[0m\u001b[0mconnect\u001b[0m\u001b[0;34m(\u001b[0m\u001b[0;34m)\u001b[0m\u001b[0;34m\u001b[0m\u001b[0;34m\u001b[0m\u001b[0m\n\u001b[0m\u001b[1;32m    840\u001b[0m \u001b[0;34m\u001b[0m\u001b[0m\n",
      "\u001b[0;32m/anaconda3/lib/python3.7/site-packages/urllib3/connection.py\u001b[0m in \u001b[0;36mconnect\u001b[0;34m(self)\u001b[0m\n\u001b[1;32m    343\u001b[0m             \u001b[0mserver_hostname\u001b[0m\u001b[0;34m=\u001b[0m\u001b[0mserver_hostname\u001b[0m\u001b[0;34m,\u001b[0m\u001b[0;34m\u001b[0m\u001b[0;34m\u001b[0m\u001b[0m\n\u001b[0;32m--> 344\u001b[0;31m             ssl_context=context)\n\u001b[0m\u001b[1;32m    345\u001b[0m \u001b[0;34m\u001b[0m\u001b[0m\n",
      "\u001b[0;32m/anaconda3/lib/python3.7/site-packages/urllib3/util/ssl_.py\u001b[0m in \u001b[0;36mssl_wrap_socket\u001b[0;34m(sock, keyfile, certfile, cert_reqs, ca_certs, server_hostname, ssl_version, ciphers, ssl_context, ca_cert_dir)\u001b[0m\n\u001b[1;32m    343\u001b[0m         \u001b[0;32mif\u001b[0m \u001b[0mHAS_SNI\u001b[0m \u001b[0;32mand\u001b[0m \u001b[0mserver_hostname\u001b[0m \u001b[0;32mis\u001b[0m \u001b[0;32mnot\u001b[0m \u001b[0;32mNone\u001b[0m\u001b[0;34m:\u001b[0m\u001b[0;34m\u001b[0m\u001b[0;34m\u001b[0m\u001b[0m\n\u001b[0;32m--> 344\u001b[0;31m             \u001b[0;32mreturn\u001b[0m \u001b[0mcontext\u001b[0m\u001b[0;34m.\u001b[0m\u001b[0mwrap_socket\u001b[0m\u001b[0;34m(\u001b[0m\u001b[0msock\u001b[0m\u001b[0;34m,\u001b[0m \u001b[0mserver_hostname\u001b[0m\u001b[0;34m=\u001b[0m\u001b[0mserver_hostname\u001b[0m\u001b[0;34m)\u001b[0m\u001b[0;34m\u001b[0m\u001b[0;34m\u001b[0m\u001b[0m\n\u001b[0m\u001b[1;32m    345\u001b[0m \u001b[0;34m\u001b[0m\u001b[0m\n",
      "\u001b[0;32m/anaconda3/lib/python3.7/site-packages/urllib3/contrib/pyopenssl.py\u001b[0m in \u001b[0;36mwrap_socket\u001b[0;34m(self, sock, server_side, do_handshake_on_connect, suppress_ragged_eofs, server_hostname)\u001b[0m\n\u001b[1;32m    458\u001b[0m             \u001b[0;32mexcept\u001b[0m \u001b[0mOpenSSL\u001b[0m\u001b[0;34m.\u001b[0m\u001b[0mSSL\u001b[0m\u001b[0;34m.\u001b[0m\u001b[0mError\u001b[0m \u001b[0;32mas\u001b[0m \u001b[0me\u001b[0m\u001b[0;34m:\u001b[0m\u001b[0;34m\u001b[0m\u001b[0;34m\u001b[0m\u001b[0m\n\u001b[0;32m--> 459\u001b[0;31m                 \u001b[0;32mraise\u001b[0m \u001b[0mssl\u001b[0m\u001b[0;34m.\u001b[0m\u001b[0mSSLError\u001b[0m\u001b[0;34m(\u001b[0m\u001b[0;34m'bad handshake: %r'\u001b[0m \u001b[0;34m%\u001b[0m \u001b[0me\u001b[0m\u001b[0;34m)\u001b[0m\u001b[0;34m\u001b[0m\u001b[0;34m\u001b[0m\u001b[0m\n\u001b[0m\u001b[1;32m    460\u001b[0m             \u001b[0;32mbreak\u001b[0m\u001b[0;34m\u001b[0m\u001b[0;34m\u001b[0m\u001b[0m\n",
      "\u001b[0;31mSSLError\u001b[0m: (\"bad handshake: SysCallError(54, 'ECONNRESET')\",)",
      "\nDuring handling of the above exception, another exception occurred:\n",
      "\u001b[0;31mMaxRetryError\u001b[0m                             Traceback (most recent call last)",
      "\u001b[0;32m/anaconda3/lib/python3.7/site-packages/requests/adapters.py\u001b[0m in \u001b[0;36msend\u001b[0;34m(self, request, stream, timeout, verify, cert, proxies)\u001b[0m\n\u001b[1;32m    448\u001b[0m                     \u001b[0mretries\u001b[0m\u001b[0;34m=\u001b[0m\u001b[0mself\u001b[0m\u001b[0;34m.\u001b[0m\u001b[0mmax_retries\u001b[0m\u001b[0;34m,\u001b[0m\u001b[0;34m\u001b[0m\u001b[0;34m\u001b[0m\u001b[0m\n\u001b[0;32m--> 449\u001b[0;31m                     \u001b[0mtimeout\u001b[0m\u001b[0;34m=\u001b[0m\u001b[0mtimeout\u001b[0m\u001b[0;34m\u001b[0m\u001b[0;34m\u001b[0m\u001b[0m\n\u001b[0m\u001b[1;32m    450\u001b[0m                 )\n",
      "\u001b[0;32m/anaconda3/lib/python3.7/site-packages/urllib3/connectionpool.py\u001b[0m in \u001b[0;36murlopen\u001b[0;34m(self, method, url, body, headers, retries, redirect, assert_same_host, timeout, pool_timeout, release_conn, chunked, body_pos, **response_kw)\u001b[0m\n\u001b[1;32m    637\u001b[0m             retries = retries.increment(method, url, error=e, _pool=self,\n\u001b[0;32m--> 638\u001b[0;31m                                         _stacktrace=sys.exc_info()[2])\n\u001b[0m\u001b[1;32m    639\u001b[0m             \u001b[0mretries\u001b[0m\u001b[0;34m.\u001b[0m\u001b[0msleep\u001b[0m\u001b[0;34m(\u001b[0m\u001b[0;34m)\u001b[0m\u001b[0;34m\u001b[0m\u001b[0;34m\u001b[0m\u001b[0m\n",
      "\u001b[0;32m/anaconda3/lib/python3.7/site-packages/urllib3/util/retry.py\u001b[0m in \u001b[0;36mincrement\u001b[0;34m(self, method, url, response, error, _pool, _stacktrace)\u001b[0m\n\u001b[1;32m    397\u001b[0m         \u001b[0;32mif\u001b[0m \u001b[0mnew_retry\u001b[0m\u001b[0;34m.\u001b[0m\u001b[0mis_exhausted\u001b[0m\u001b[0;34m(\u001b[0m\u001b[0;34m)\u001b[0m\u001b[0;34m:\u001b[0m\u001b[0;34m\u001b[0m\u001b[0;34m\u001b[0m\u001b[0m\n\u001b[0;32m--> 398\u001b[0;31m             \u001b[0;32mraise\u001b[0m \u001b[0mMaxRetryError\u001b[0m\u001b[0;34m(\u001b[0m\u001b[0m_pool\u001b[0m\u001b[0;34m,\u001b[0m \u001b[0murl\u001b[0m\u001b[0;34m,\u001b[0m \u001b[0merror\u001b[0m \u001b[0;32mor\u001b[0m \u001b[0mResponseError\u001b[0m\u001b[0;34m(\u001b[0m\u001b[0mcause\u001b[0m\u001b[0;34m)\u001b[0m\u001b[0;34m)\u001b[0m\u001b[0;34m\u001b[0m\u001b[0;34m\u001b[0m\u001b[0m\n\u001b[0m\u001b[1;32m    399\u001b[0m \u001b[0;34m\u001b[0m\u001b[0m\n",
      "\u001b[0;31mMaxRetryError\u001b[0m: HTTPSConnectionPool(host='api.spotify.com', port=443): Max retries exceeded with url: /v1/search?q=artist%3ABreaking+Benjamin&limit=10&offset=0&type=artist (Caused by SSLError(SSLError(\"bad handshake: SysCallError(54, 'ECONNRESET')\")))",
      "\nDuring handling of the above exception, another exception occurred:\n",
      "\u001b[0;31mSSLError\u001b[0m                                  Traceback (most recent call last)",
      "\u001b[0;32m<ipython-input-347-4f0f4d0e5fcf>\u001b[0m in \u001b[0;36m<module>\u001b[0;34m\u001b[0m\n\u001b[1;32m      9\u001b[0m \u001b[0;32mfor\u001b[0m \u001b[0mname\u001b[0m \u001b[0;32min\u001b[0m \u001b[0martist_name\u001b[0m\u001b[0;34m:\u001b[0m\u001b[0;34m\u001b[0m\u001b[0;34m\u001b[0m\u001b[0m\n\u001b[1;32m     10\u001b[0m     \u001b[0mgenres\u001b[0m \u001b[0;34m=\u001b[0m \u001b[0;34m[\u001b[0m\u001b[0;34m]\u001b[0m\u001b[0;34m\u001b[0m\u001b[0;34m\u001b[0m\u001b[0m\n\u001b[0;32m---> 11\u001b[0;31m     \u001b[0martists\u001b[0m \u001b[0;34m=\u001b[0m \u001b[0msp\u001b[0m\u001b[0;34m.\u001b[0m\u001b[0msearch\u001b[0m\u001b[0;34m(\u001b[0m\u001b[0mq\u001b[0m\u001b[0;34m=\u001b[0m\u001b[0;34m'artist:'\u001b[0m \u001b[0;34m+\u001b[0m \u001b[0mname\u001b[0m\u001b[0;34m,\u001b[0m \u001b[0mtype\u001b[0m\u001b[0;34m=\u001b[0m\u001b[0;34m'artist'\u001b[0m\u001b[0;34m)\u001b[0m\u001b[0;34m\u001b[0m\u001b[0;34m\u001b[0m\u001b[0m\n\u001b[0m\u001b[1;32m     12\u001b[0m     \u001b[0mgenres\u001b[0m\u001b[0;34m.\u001b[0m\u001b[0mappend\u001b[0m\u001b[0;34m(\u001b[0m\u001b[0mname\u001b[0m\u001b[0;34m)\u001b[0m\u001b[0;34m\u001b[0m\u001b[0;34m\u001b[0m\u001b[0m\n\u001b[1;32m     13\u001b[0m     \u001b[0;32mfor\u001b[0m \u001b[0mi\u001b[0m \u001b[0;32min\u001b[0m \u001b[0mrange\u001b[0m\u001b[0;34m(\u001b[0m\u001b[0mlen\u001b[0m\u001b[0;34m(\u001b[0m\u001b[0martists\u001b[0m\u001b[0;34m[\u001b[0m\u001b[0;34m'artists'\u001b[0m\u001b[0;34m]\u001b[0m\u001b[0;34m[\u001b[0m\u001b[0;34m'items'\u001b[0m\u001b[0;34m]\u001b[0m\u001b[0;34m)\u001b[0m\u001b[0;34m)\u001b[0m\u001b[0;34m:\u001b[0m\u001b[0;34m\u001b[0m\u001b[0;34m\u001b[0m\u001b[0m\n",
      "\u001b[0;32m/anaconda3/lib/python3.7/site-packages/spotipy-2.4.4-py3.7.egg/spotipy/client.py\u001b[0m in \u001b[0;36msearch\u001b[0;34m(self, q, limit, offset, type, market)\u001b[0m\n\u001b[1;32m    337\u001b[0m                 \u001b[0;34m-\u001b[0m \u001b[0mmarket\u001b[0m \u001b[0;34m-\u001b[0m \u001b[0mAn\u001b[0m \u001b[0mISO\u001b[0m \u001b[0;36m3166\u001b[0m\u001b[0;34m-\u001b[0m\u001b[0;36m1\u001b[0m \u001b[0malpha\u001b[0m\u001b[0;34m-\u001b[0m\u001b[0;36m2\u001b[0m \u001b[0mcountry\u001b[0m \u001b[0mcode\u001b[0m \u001b[0;32mor\u001b[0m \u001b[0mthe\u001b[0m \u001b[0mstring\u001b[0m \u001b[0mfrom_token\u001b[0m\u001b[0;34m.\u001b[0m\u001b[0;34m\u001b[0m\u001b[0;34m\u001b[0m\u001b[0m\n\u001b[1;32m    338\u001b[0m         '''\n\u001b[0;32m--> 339\u001b[0;31m         \u001b[0;32mreturn\u001b[0m \u001b[0mself\u001b[0m\u001b[0;34m.\u001b[0m\u001b[0m_get\u001b[0m\u001b[0;34m(\u001b[0m\u001b[0;34m'search'\u001b[0m\u001b[0;34m,\u001b[0m \u001b[0mq\u001b[0m\u001b[0;34m=\u001b[0m\u001b[0mq\u001b[0m\u001b[0;34m,\u001b[0m \u001b[0mlimit\u001b[0m\u001b[0;34m=\u001b[0m\u001b[0mlimit\u001b[0m\u001b[0;34m,\u001b[0m \u001b[0moffset\u001b[0m\u001b[0;34m=\u001b[0m\u001b[0moffset\u001b[0m\u001b[0;34m,\u001b[0m \u001b[0mtype\u001b[0m\u001b[0;34m=\u001b[0m\u001b[0mtype\u001b[0m\u001b[0;34m,\u001b[0m \u001b[0mmarket\u001b[0m\u001b[0;34m=\u001b[0m\u001b[0mmarket\u001b[0m\u001b[0;34m)\u001b[0m\u001b[0;34m\u001b[0m\u001b[0;34m\u001b[0m\u001b[0m\n\u001b[0m\u001b[1;32m    340\u001b[0m \u001b[0;34m\u001b[0m\u001b[0m\n\u001b[1;32m    341\u001b[0m     \u001b[0;32mdef\u001b[0m \u001b[0muser\u001b[0m\u001b[0;34m(\u001b[0m\u001b[0mself\u001b[0m\u001b[0;34m,\u001b[0m \u001b[0muser\u001b[0m\u001b[0;34m)\u001b[0m\u001b[0;34m:\u001b[0m\u001b[0;34m\u001b[0m\u001b[0;34m\u001b[0m\u001b[0m\n",
      "\u001b[0;32m/anaconda3/lib/python3.7/site-packages/spotipy-2.4.4-py3.7.egg/spotipy/client.py\u001b[0m in \u001b[0;36m_get\u001b[0;34m(self, url, args, payload, **kwargs)\u001b[0m\n\u001b[1;32m    144\u001b[0m         \u001b[0;32mwhile\u001b[0m \u001b[0mretries\u001b[0m \u001b[0;34m>\u001b[0m \u001b[0;36m0\u001b[0m\u001b[0;34m:\u001b[0m\u001b[0;34m\u001b[0m\u001b[0;34m\u001b[0m\u001b[0m\n\u001b[1;32m    145\u001b[0m             \u001b[0;32mtry\u001b[0m\u001b[0;34m:\u001b[0m\u001b[0;34m\u001b[0m\u001b[0;34m\u001b[0m\u001b[0m\n\u001b[0;32m--> 146\u001b[0;31m                 \u001b[0;32mreturn\u001b[0m \u001b[0mself\u001b[0m\u001b[0;34m.\u001b[0m\u001b[0m_internal_call\u001b[0m\u001b[0;34m(\u001b[0m\u001b[0;34m'GET'\u001b[0m\u001b[0;34m,\u001b[0m \u001b[0murl\u001b[0m\u001b[0;34m,\u001b[0m \u001b[0mpayload\u001b[0m\u001b[0;34m,\u001b[0m \u001b[0mkwargs\u001b[0m\u001b[0;34m)\u001b[0m\u001b[0;34m\u001b[0m\u001b[0;34m\u001b[0m\u001b[0m\n\u001b[0m\u001b[1;32m    147\u001b[0m             \u001b[0;32mexcept\u001b[0m \u001b[0mSpotifyException\u001b[0m \u001b[0;32mas\u001b[0m \u001b[0me\u001b[0m\u001b[0;34m:\u001b[0m\u001b[0;34m\u001b[0m\u001b[0;34m\u001b[0m\u001b[0m\n\u001b[1;32m    148\u001b[0m                 \u001b[0mretries\u001b[0m \u001b[0;34m-=\u001b[0m \u001b[0;36m1\u001b[0m\u001b[0;34m\u001b[0m\u001b[0;34m\u001b[0m\u001b[0m\n",
      "\u001b[0;32m/anaconda3/lib/python3.7/site-packages/spotipy-2.4.4-py3.7.egg/spotipy/client.py\u001b[0m in \u001b[0;36m_internal_call\u001b[0;34m(self, method, url, payload, params)\u001b[0m\n\u001b[1;32m    106\u001b[0m         \u001b[0;32mif\u001b[0m \u001b[0mself\u001b[0m\u001b[0;34m.\u001b[0m\u001b[0mtrace_out\u001b[0m\u001b[0;34m:\u001b[0m\u001b[0;34m\u001b[0m\u001b[0;34m\u001b[0m\u001b[0m\n\u001b[1;32m    107\u001b[0m             \u001b[0mprint\u001b[0m\u001b[0;34m(\u001b[0m\u001b[0murl\u001b[0m\u001b[0;34m)\u001b[0m\u001b[0;34m\u001b[0m\u001b[0;34m\u001b[0m\u001b[0m\n\u001b[0;32m--> 108\u001b[0;31m         \u001b[0mr\u001b[0m \u001b[0;34m=\u001b[0m \u001b[0mself\u001b[0m\u001b[0;34m.\u001b[0m\u001b[0m_session\u001b[0m\u001b[0;34m.\u001b[0m\u001b[0mrequest\u001b[0m\u001b[0;34m(\u001b[0m\u001b[0mmethod\u001b[0m\u001b[0;34m,\u001b[0m \u001b[0murl\u001b[0m\u001b[0;34m,\u001b[0m \u001b[0mheaders\u001b[0m\u001b[0;34m=\u001b[0m\u001b[0mheaders\u001b[0m\u001b[0;34m,\u001b[0m \u001b[0mproxies\u001b[0m\u001b[0;34m=\u001b[0m\u001b[0mself\u001b[0m\u001b[0;34m.\u001b[0m\u001b[0mproxies\u001b[0m\u001b[0;34m,\u001b[0m \u001b[0;34m**\u001b[0m\u001b[0margs\u001b[0m\u001b[0;34m)\u001b[0m\u001b[0;34m\u001b[0m\u001b[0;34m\u001b[0m\u001b[0m\n\u001b[0m\u001b[1;32m    109\u001b[0m \u001b[0;34m\u001b[0m\u001b[0m\n\u001b[1;32m    110\u001b[0m         \u001b[0;32mif\u001b[0m \u001b[0mself\u001b[0m\u001b[0;34m.\u001b[0m\u001b[0mtrace\u001b[0m\u001b[0;34m:\u001b[0m  \u001b[0;31m# pragma: no cover\u001b[0m\u001b[0;34m\u001b[0m\u001b[0;34m\u001b[0m\u001b[0m\n",
      "\u001b[0;32m/anaconda3/lib/python3.7/site-packages/requests/sessions.py\u001b[0m in \u001b[0;36mrequest\u001b[0;34m(self, method, url, params, data, headers, cookies, files, auth, timeout, allow_redirects, proxies, hooks, stream, verify, cert, json)\u001b[0m\n\u001b[1;32m    531\u001b[0m         }\n\u001b[1;32m    532\u001b[0m         \u001b[0msend_kwargs\u001b[0m\u001b[0;34m.\u001b[0m\u001b[0mupdate\u001b[0m\u001b[0;34m(\u001b[0m\u001b[0msettings\u001b[0m\u001b[0;34m)\u001b[0m\u001b[0;34m\u001b[0m\u001b[0;34m\u001b[0m\u001b[0m\n\u001b[0;32m--> 533\u001b[0;31m         \u001b[0mresp\u001b[0m \u001b[0;34m=\u001b[0m \u001b[0mself\u001b[0m\u001b[0;34m.\u001b[0m\u001b[0msend\u001b[0m\u001b[0;34m(\u001b[0m\u001b[0mprep\u001b[0m\u001b[0;34m,\u001b[0m \u001b[0;34m**\u001b[0m\u001b[0msend_kwargs\u001b[0m\u001b[0;34m)\u001b[0m\u001b[0;34m\u001b[0m\u001b[0;34m\u001b[0m\u001b[0m\n\u001b[0m\u001b[1;32m    534\u001b[0m \u001b[0;34m\u001b[0m\u001b[0m\n\u001b[1;32m    535\u001b[0m         \u001b[0;32mreturn\u001b[0m \u001b[0mresp\u001b[0m\u001b[0;34m\u001b[0m\u001b[0;34m\u001b[0m\u001b[0m\n",
      "\u001b[0;32m/anaconda3/lib/python3.7/site-packages/requests/sessions.py\u001b[0m in \u001b[0;36msend\u001b[0;34m(self, request, **kwargs)\u001b[0m\n\u001b[1;32m    644\u001b[0m \u001b[0;34m\u001b[0m\u001b[0m\n\u001b[1;32m    645\u001b[0m         \u001b[0;31m# Send the request\u001b[0m\u001b[0;34m\u001b[0m\u001b[0;34m\u001b[0m\u001b[0;34m\u001b[0m\u001b[0m\n\u001b[0;32m--> 646\u001b[0;31m         \u001b[0mr\u001b[0m \u001b[0;34m=\u001b[0m \u001b[0madapter\u001b[0m\u001b[0;34m.\u001b[0m\u001b[0msend\u001b[0m\u001b[0;34m(\u001b[0m\u001b[0mrequest\u001b[0m\u001b[0;34m,\u001b[0m \u001b[0;34m**\u001b[0m\u001b[0mkwargs\u001b[0m\u001b[0;34m)\u001b[0m\u001b[0;34m\u001b[0m\u001b[0;34m\u001b[0m\u001b[0m\n\u001b[0m\u001b[1;32m    647\u001b[0m \u001b[0;34m\u001b[0m\u001b[0m\n\u001b[1;32m    648\u001b[0m         \u001b[0;31m# Total elapsed time of the request (approximately)\u001b[0m\u001b[0;34m\u001b[0m\u001b[0;34m\u001b[0m\u001b[0;34m\u001b[0m\u001b[0m\n",
      "\u001b[0;32m/anaconda3/lib/python3.7/site-packages/requests/adapters.py\u001b[0m in \u001b[0;36msend\u001b[0;34m(self, request, stream, timeout, verify, cert, proxies)\u001b[0m\n\u001b[1;32m    512\u001b[0m             \u001b[0;32mif\u001b[0m \u001b[0misinstance\u001b[0m\u001b[0;34m(\u001b[0m\u001b[0me\u001b[0m\u001b[0;34m.\u001b[0m\u001b[0mreason\u001b[0m\u001b[0;34m,\u001b[0m \u001b[0m_SSLError\u001b[0m\u001b[0;34m)\u001b[0m\u001b[0;34m:\u001b[0m\u001b[0;34m\u001b[0m\u001b[0;34m\u001b[0m\u001b[0m\n\u001b[1;32m    513\u001b[0m                 \u001b[0;31m# This branch is for urllib3 v1.22 and later.\u001b[0m\u001b[0;34m\u001b[0m\u001b[0;34m\u001b[0m\u001b[0;34m\u001b[0m\u001b[0m\n\u001b[0;32m--> 514\u001b[0;31m                 \u001b[0;32mraise\u001b[0m \u001b[0mSSLError\u001b[0m\u001b[0;34m(\u001b[0m\u001b[0me\u001b[0m\u001b[0;34m,\u001b[0m \u001b[0mrequest\u001b[0m\u001b[0;34m=\u001b[0m\u001b[0mrequest\u001b[0m\u001b[0;34m)\u001b[0m\u001b[0;34m\u001b[0m\u001b[0;34m\u001b[0m\u001b[0m\n\u001b[0m\u001b[1;32m    515\u001b[0m \u001b[0;34m\u001b[0m\u001b[0m\n\u001b[1;32m    516\u001b[0m             \u001b[0;32mraise\u001b[0m \u001b[0mConnectionError\u001b[0m\u001b[0;34m(\u001b[0m\u001b[0me\u001b[0m\u001b[0;34m,\u001b[0m \u001b[0mrequest\u001b[0m\u001b[0;34m=\u001b[0m\u001b[0mrequest\u001b[0m\u001b[0;34m)\u001b[0m\u001b[0;34m\u001b[0m\u001b[0;34m\u001b[0m\u001b[0m\n",
      "\u001b[0;31mSSLError\u001b[0m: HTTPSConnectionPool(host='api.spotify.com', port=443): Max retries exceeded with url: /v1/search?q=artist%3ABreaking+Benjamin&limit=10&offset=0&type=artist (Caused by SSLError(SSLError(\"bad handshake: SysCallError(54, 'ECONNRESET')\")))"
     ]
    }
   ],
   "source": [
    "# again measuring the time\n",
    "start = timeit.default_timer()\n",
    "\n",
    "#artist name to a list\n",
    "artist_name=list(df['artist_name'])\n",
    "\n",
    "# Get genres of artists\n",
    "artist_genres = []     \n",
    "for name in artist_name:\n",
    "    genres = []\n",
    "    artists = sp.search(q='artist:' + name, type='artist')\n",
    "    genres.append(name)\n",
    "    for i in range(len(artists['artists']['items'])):\n",
    "        genre = artists['artists']['items'][i]['genres']\n",
    "        if genre:\n",
    "            genres.append(genre)\n",
    "\n",
    "    artist_genres.append(genres)\n",
    "\n",
    "stop = timeit.default_timer()\n",
    "print ('Time to run this code (in seconds):', stop - start)"
   ]
  },
  {
   "cell_type": "code",
   "execution_count": null,
   "metadata": {},
   "outputs": [],
   "source": []
  },
  {
   "cell_type": "code",
   "execution_count": null,
   "metadata": {},
   "outputs": [],
   "source": []
  },
  {
   "cell_type": "code",
   "execution_count": null,
   "metadata": {},
   "outputs": [],
   "source": []
  },
  {
   "cell_type": "code",
   "execution_count": null,
   "metadata": {},
   "outputs": [],
   "source": []
  },
  {
   "cell_type": "code",
   "execution_count": null,
   "metadata": {},
   "outputs": [],
   "source": []
  },
  {
   "cell_type": "markdown",
   "metadata": {},
   "source": [
    "# Misc Functions"
   ]
  },
  {
   "cell_type": "code",
   "execution_count": 151,
   "metadata": {},
   "outputs": [],
   "source": [
    "#This fucntion still needs work\n",
    "def get_top_10k_tracks(year):\n",
    "    start = timeit.default_timer()\n",
    "\n",
    "    # create empty lists where the results are going to be stored\n",
    "    artist_name = []\n",
    "    track_name = []\n",
    "    popularity = []\n",
    "    track_id = []\n",
    "    \n",
    "    for i in range(0,10000,50):\n",
    "        track_results = sp.search(q='year:'+str(year), type='track', limit=50,offset=i)\n",
    "    for i, t in enumerate(track_results['tracks']['items']):\n",
    "        artist_name.append(t['artists'][0]['name'])\n",
    "        track_name.append(t['name'])\n",
    "        track_id.append(t['id'])\n",
    "        popularity.append(t['popularity'])\n",
    "        \n",
    "    stop = timeit.default_timer()\n",
    "    print ('Time to run this code (in seconds):', stop - start) \n",
    "    \n",
    "    #loading lists into dataframe\n",
    "    df_tracks = pd.DataFrame({'artist_name':artist_name,\n",
    "                              'track_name':track_name,\n",
    "                              'track_id':track_id,\n",
    "                              'popularity':popularity})\n",
    "    print(df_tracks.shape)\n",
    "    return df_tracks.head()"
   ]
  },
  {
   "cell_type": "code",
   "execution_count": 152,
   "metadata": {},
   "outputs": [
    {
     "name": "stdout",
     "output_type": "stream",
     "text": [
      "Time to run this code (in seconds): 143.38842942700012\n",
      "(50, 4)\n"
     ]
    },
    {
     "data": {
      "text/html": [
       "<div>\n",
       "<style scoped>\n",
       "    .dataframe tbody tr th:only-of-type {\n",
       "        vertical-align: middle;\n",
       "    }\n",
       "\n",
       "    .dataframe tbody tr th {\n",
       "        vertical-align: top;\n",
       "    }\n",
       "\n",
       "    .dataframe thead th {\n",
       "        text-align: right;\n",
       "    }\n",
       "</style>\n",
       "<table border=\"1\" class=\"dataframe\">\n",
       "  <thead>\n",
       "    <tr style=\"text-align: right;\">\n",
       "      <th></th>\n",
       "      <th>artist_name</th>\n",
       "      <th>track_name</th>\n",
       "      <th>track_id</th>\n",
       "      <th>popularity</th>\n",
       "    </tr>\n",
       "  </thead>\n",
       "  <tbody>\n",
       "    <tr>\n",
       "      <th>0</th>\n",
       "      <td>Sada Baby</td>\n",
       "      <td>Cheat Code</td>\n",
       "      <td>4dgxcirS2r25F1CUCcLHKH</td>\n",
       "      <td>41</td>\n",
       "    </tr>\n",
       "    <tr>\n",
       "      <th>1</th>\n",
       "      <td>Neek Bucks</td>\n",
       "      <td>Energy</td>\n",
       "      <td>5bYKsyJ0qiE3ArxZ15fFKl</td>\n",
       "      <td>44</td>\n",
       "    </tr>\n",
       "    <tr>\n",
       "      <th>2</th>\n",
       "      <td>Quentyn</td>\n",
       "      <td>Why</td>\n",
       "      <td>5jJYIOEvGlwVIQJi0iWT82</td>\n",
       "      <td>49</td>\n",
       "    </tr>\n",
       "    <tr>\n",
       "      <th>3</th>\n",
       "      <td>Los Hijos De Garcia</td>\n",
       "      <td>Respeto Me Dan</td>\n",
       "      <td>7rNWzzJqyV7Ld13pdr4z1A</td>\n",
       "      <td>43</td>\n",
       "    </tr>\n",
       "    <tr>\n",
       "      <th>4</th>\n",
       "      <td>India.Arie</td>\n",
       "      <td>In Good Trouble</td>\n",
       "      <td>0oisYxhn4QQnA5VmcfwCG1</td>\n",
       "      <td>43</td>\n",
       "    </tr>\n",
       "  </tbody>\n",
       "</table>\n",
       "</div>"
      ],
      "text/plain": [
       "           artist_name       track_name                track_id  popularity\n",
       "0            Sada Baby       Cheat Code  4dgxcirS2r25F1CUCcLHKH          41\n",
       "1           Neek Bucks           Energy  5bYKsyJ0qiE3ArxZ15fFKl          44\n",
       "2              Quentyn              Why  5jJYIOEvGlwVIQJi0iWT82          49\n",
       "3  Los Hijos De Garcia   Respeto Me Dan  7rNWzzJqyV7Ld13pdr4z1A          43\n",
       "4           India.Arie  In Good Trouble  0oisYxhn4QQnA5VmcfwCG1          43"
      ]
     },
     "execution_count": 152,
     "metadata": {},
     "output_type": "execute_result"
    }
   ],
   "source": [
    "get_top_10k_tracks(2019)"
   ]
  },
  {
   "cell_type": "code",
   "execution_count": 155,
   "metadata": {},
   "outputs": [
    {
     "ename": "NameError",
     "evalue": "name 'df_tracks' is not defined",
     "output_type": "error",
     "traceback": [
      "\u001b[0;31m---------------------------------------------------------------------------\u001b[0m",
      "\u001b[0;31mNameError\u001b[0m                                 Traceback (most recent call last)",
      "\u001b[0;32m<ipython-input-155-ee5cfcda41ec>\u001b[0m in \u001b[0;36m<module>\u001b[0;34m\u001b[0m\n\u001b[0;32m----> 1\u001b[0;31m \u001b[0mdf_tracks\u001b[0m\u001b[0;34m.\u001b[0m\u001b[0mhead\u001b[0m\u001b[0;34m(\u001b[0m\u001b[0;34m)\u001b[0m\u001b[0;34m\u001b[0m\u001b[0;34m\u001b[0m\u001b[0m\n\u001b[0m",
      "\u001b[0;31mNameError\u001b[0m: name 'df_tracks' is not defined"
     ]
    }
   ],
   "source": [
    "#df_tracks.head()"
   ]
  },
  {
   "cell_type": "code",
   "execution_count": null,
   "metadata": {},
   "outputs": [],
   "source": []
  },
  {
   "cell_type": "code",
   "execution_count": null,
   "metadata": {},
   "outputs": [],
   "source": []
  }
 ],
 "metadata": {
  "kernelspec": {
   "display_name": "Python 3",
   "language": "python",
   "name": "python3"
  },
  "language_info": {
   "codemirror_mode": {
    "name": "ipython",
    "version": 3
   },
   "file_extension": ".py",
   "mimetype": "text/x-python",
   "name": "python",
   "nbconvert_exporter": "python",
   "pygments_lexer": "ipython3",
   "version": "3.7.1"
  },
  "toc": {
   "base_numbering": 1,
   "nav_menu": {},
   "number_sections": true,
   "sideBar": true,
   "skip_h1_title": false,
   "title_cell": "Table of Contents",
   "title_sidebar": "Contents",
   "toc_cell": false,
   "toc_position": {
    "height": "calc(100% - 180px)",
    "left": "10px",
    "top": "150px",
    "width": "207.47500610351562px"
   },
   "toc_section_display": true,
   "toc_window_display": true
  }
 },
 "nbformat": 4,
 "nbformat_minor": 2
}
